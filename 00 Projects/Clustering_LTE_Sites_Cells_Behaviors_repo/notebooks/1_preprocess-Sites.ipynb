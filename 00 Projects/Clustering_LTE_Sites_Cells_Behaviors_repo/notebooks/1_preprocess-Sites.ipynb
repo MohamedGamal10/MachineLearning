{
 "cells": [
  {
   "cell_type": "code",
   "execution_count": 1,
   "id": "8850cfd4-8908-4045-b06e-05268be25a14",
   "metadata": {},
   "outputs": [],
   "source": [
    "#import libs\n",
    "import os, glob\n",
    "import pandas as pd\n",
    "import numpy as np\n",
    "import matplotlib.pyplot as plt\n",
    "import seaborn as sns\n",
    "import warnings\n",
    "warnings.simplefilter(\"ignore\")"
   ]
  },
  {
   "cell_type": "code",
   "execution_count": 2,
   "id": "36644795-44f5-4b7c-8a20-e637d4b95718",
   "metadata": {},
   "outputs": [],
   "source": [
    "#Merge CSVs\n",
    "all_files = glob.glob(os.path.join(\"../data/raw/SiteKpi/*.csv\"))\n",
    "df_from_each_file = (pd.read_csv(f, sep=',') for f in all_files)\n",
    "df_merged   = pd.concat(df_from_each_file, ignore_index=True)"
   ]
  },
  {
   "cell_type": "code",
   "execution_count": 3,
   "id": "9be9c3a4-9f0a-4548-86ea-f905ccd06065",
   "metadata": {},
   "outputs": [
    {
     "data": {
      "text/html": [
       "<div>\n",
       "<style scoped>\n",
       "    .dataframe tbody tr th:only-of-type {\n",
       "        vertical-align: middle;\n",
       "    }\n",
       "\n",
       "    .dataframe tbody tr th {\n",
       "        vertical-align: top;\n",
       "    }\n",
       "\n",
       "    .dataframe thead th {\n",
       "        text-align: right;\n",
       "    }\n",
       "</style>\n",
       "<table border=\"1\" class=\"dataframe\">\n",
       "  <thead>\n",
       "    <tr style=\"text-align: right;\">\n",
       "      <th></th>\n",
       "      <th>Time</th>\n",
       "      <th>eNodeB Name</th>\n",
       "      <th>Integrity</th>\n",
       "      <th>EPM_RRC_SR</th>\n",
       "      <th>EPM_UL_Traffic_GB</th>\n",
       "      <th>EPM_ERAB_DR</th>\n",
       "      <th>EPM_ERAB_SR</th>\n",
       "      <th>EPM_DL_Traffic_GB</th>\n",
       "      <th>EPM_CSFB_Preparation_SR</th>\n",
       "      <th>EPM_CSFB_SR</th>\n",
       "      <th>...</th>\n",
       "      <th>TE Availabity Daily</th>\n",
       "      <th>EPM_Dropped_Sessions</th>\n",
       "      <th>L.Cell.Unavail.Dur.Manual(s)</th>\n",
       "      <th>L.Cell.Unavail.Dur.Sys(s)</th>\n",
       "      <th>L.Cell.Avail.Dur(s)</th>\n",
       "      <th>EPM_RRC_Failures</th>\n",
       "      <th>EPM_ERABSR_Failures</th>\n",
       "      <th>EPM_Total_Sessions</th>\n",
       "      <th>EPM_ERABSR_Attempts</th>\n",
       "      <th>EPM_RRC_Attempts</th>\n",
       "    </tr>\n",
       "  </thead>\n",
       "  <tbody>\n",
       "    <tr>\n",
       "      <th>0</th>\n",
       "      <td>4/1/2022 0:00</td>\n",
       "      <td>LCAIW30340_Site_83</td>\n",
       "      <td>100%</td>\n",
       "      <td>99.9821</td>\n",
       "      <td>0.2975</td>\n",
       "      <td>0.017</td>\n",
       "      <td>99.9654</td>\n",
       "      <td>4.0582</td>\n",
       "      <td>100.0</td>\n",
       "      <td>100.0</td>\n",
       "      <td>...</td>\n",
       "      <td>100.0</td>\n",
       "      <td>1</td>\n",
       "      <td>0</td>\n",
       "      <td>0</td>\n",
       "      <td>32400</td>\n",
       "      <td>1</td>\n",
       "      <td>2</td>\n",
       "      <td>5888</td>\n",
       "      <td>5783</td>\n",
       "      <td>5601</td>\n",
       "    </tr>\n",
       "  </tbody>\n",
       "</table>\n",
       "<p>1 rows × 21 columns</p>\n",
       "</div>"
      ],
      "text/plain": [
       "            Time         eNodeB Name Integrity  EPM_RRC_SR  EPM_UL_Traffic_GB  \\\n",
       "0  4/1/2022 0:00  LCAIW30340_Site_83      100%     99.9821             0.2975   \n",
       "\n",
       "  EPM_ERAB_DR EPM_ERAB_SR  EPM_DL_Traffic_GB  EPM_CSFB_Preparation_SR  \\\n",
       "0       0.017     99.9654             4.0582                    100.0   \n",
       "\n",
       "   EPM_CSFB_SR  ...  TE Availabity Daily  EPM_Dropped_Sessions  \\\n",
       "0        100.0  ...                100.0                     1   \n",
       "\n",
       "   L.Cell.Unavail.Dur.Manual(s)  L.Cell.Unavail.Dur.Sys(s)  \\\n",
       "0                             0                          0   \n",
       "\n",
       "   L.Cell.Avail.Dur(s)  EPM_RRC_Failures  EPM_ERABSR_Failures  \\\n",
       "0                32400                 1                    2   \n",
       "\n",
       "  EPM_Total_Sessions EPM_ERABSR_Attempts EPM_RRC_Attempts  \n",
       "0               5888                5783             5601  \n",
       "\n",
       "[1 rows x 21 columns]"
      ]
     },
     "execution_count": 3,
     "metadata": {},
     "output_type": "execute_result"
    }
   ],
   "source": [
    "df = df_merged.copy()\n",
    "df.head(1)"
   ]
  },
  {
   "cell_type": "code",
   "execution_count": 4,
   "id": "57a7a75d-51b6-4d6b-8463-b5c5194914d9",
   "metadata": {},
   "outputs": [
    {
     "data": {
      "text/html": [
       "<div>\n",
       "<style scoped>\n",
       "    .dataframe tbody tr th:only-of-type {\n",
       "        vertical-align: middle;\n",
       "    }\n",
       "\n",
       "    .dataframe tbody tr th {\n",
       "        vertical-align: top;\n",
       "    }\n",
       "\n",
       "    .dataframe thead th {\n",
       "        text-align: right;\n",
       "    }\n",
       "</style>\n",
       "<table border=\"1\" class=\"dataframe\">\n",
       "  <thead>\n",
       "    <tr style=\"text-align: right;\">\n",
       "      <th></th>\n",
       "      <th>Time</th>\n",
       "      <th>eNodeB Name</th>\n",
       "      <th>EPM_RRC_SR</th>\n",
       "      <th>EPM_UL_Traffic_GB</th>\n",
       "      <th>EPM_ERAB_DR</th>\n",
       "      <th>EPM_ERAB_SR</th>\n",
       "      <th>EPM_DL_Traffic_GB</th>\n",
       "      <th>EPM_CSFB_Preparation_SR</th>\n",
       "      <th>EPM_CSFB_SR</th>\n",
       "      <th>TE Hourly Avala</th>\n",
       "      <th>TE Availabity Daily</th>\n",
       "      <th>EPM_Dropped_Sessions</th>\n",
       "      <th>L.Cell.Unavail.Dur.Manual(s)</th>\n",
       "      <th>L.Cell.Unavail.Dur.Sys(s)</th>\n",
       "      <th>L.Cell.Avail.Dur(s)</th>\n",
       "      <th>EPM_RRC_Failures</th>\n",
       "      <th>EPM_ERABSR_Failures</th>\n",
       "      <th>EPM_Total_Sessions</th>\n",
       "      <th>EPM_ERABSR_Attempts</th>\n",
       "      <th>EPM_RRC_Attempts</th>\n",
       "    </tr>\n",
       "  </thead>\n",
       "  <tbody>\n",
       "    <tr>\n",
       "      <th>0</th>\n",
       "      <td>4/1/2022 0:00</td>\n",
       "      <td>LCAIW30340_Site_83</td>\n",
       "      <td>99.9821</td>\n",
       "      <td>0.2975</td>\n",
       "      <td>0.017</td>\n",
       "      <td>99.9654</td>\n",
       "      <td>4.0582</td>\n",
       "      <td>100.0</td>\n",
       "      <td>100.0</td>\n",
       "      <td>100.0</td>\n",
       "      <td>100.0</td>\n",
       "      <td>1</td>\n",
       "      <td>0</td>\n",
       "      <td>0</td>\n",
       "      <td>32400</td>\n",
       "      <td>1</td>\n",
       "      <td>2</td>\n",
       "      <td>5888</td>\n",
       "      <td>5783</td>\n",
       "      <td>5601</td>\n",
       "    </tr>\n",
       "  </tbody>\n",
       "</table>\n",
       "</div>"
      ],
      "text/plain": [
       "            Time         eNodeB Name  EPM_RRC_SR  EPM_UL_Traffic_GB  \\\n",
       "0  4/1/2022 0:00  LCAIW30340_Site_83     99.9821             0.2975   \n",
       "\n",
       "  EPM_ERAB_DR EPM_ERAB_SR  EPM_DL_Traffic_GB  EPM_CSFB_Preparation_SR  \\\n",
       "0       0.017     99.9654             4.0582                    100.0   \n",
       "\n",
       "   EPM_CSFB_SR  TE Hourly Avala  TE Availabity Daily  EPM_Dropped_Sessions  \\\n",
       "0        100.0            100.0                100.0                     1   \n",
       "\n",
       "   L.Cell.Unavail.Dur.Manual(s)  L.Cell.Unavail.Dur.Sys(s)  \\\n",
       "0                             0                          0   \n",
       "\n",
       "   L.Cell.Avail.Dur(s)  EPM_RRC_Failures EPM_ERABSR_Failures  \\\n",
       "0                32400                 1                   2   \n",
       "\n",
       "  EPM_Total_Sessions EPM_ERABSR_Attempts  EPM_RRC_Attempts  \n",
       "0               5888                5783              5601  "
      ]
     },
     "execution_count": 4,
     "metadata": {},
     "output_type": "execute_result"
    }
   ],
   "source": [
    "df.drop(['Integrity'],axis=1,inplace=True)\n",
    "df.head(1)"
   ]
  },
  {
   "cell_type": "code",
   "execution_count": 5,
   "id": "88e669ae-bb14-4c27-929f-91a71e26893f",
   "metadata": {},
   "outputs": [],
   "source": [
    "#Drop missing values\n",
    "df.dropna(inplace=True)"
   ]
  },
  {
   "cell_type": "code",
   "execution_count": 6,
   "id": "1c0ddb7a-6915-49d6-94e2-49b361b16f75",
   "metadata": {},
   "outputs": [],
   "source": [
    "#Drop duplicates\n",
    "df.drop_duplicates(inplace=True)"
   ]
  },
  {
   "cell_type": "code",
   "execution_count": 7,
   "id": "f7fdc55d-7add-461d-9db6-1af4245d9c8e",
   "metadata": {},
   "outputs": [
    {
     "name": "stdout",
     "output_type": "stream",
     "text": [
      "<class 'pandas.core.frame.DataFrame'>\n",
      "Int64Index: 997892 entries, 0 to 1048568\n",
      "Data columns (total 20 columns):\n",
      " #   Column                        Non-Null Count   Dtype  \n",
      "---  ------                        --------------   -----  \n",
      " 0   Time                          997892 non-null  object \n",
      " 1   eNodeB Name                   997892 non-null  object \n",
      " 2   EPM_RRC_SR                    997892 non-null  float64\n",
      " 3   EPM_UL_Traffic_GB             997892 non-null  float64\n",
      " 4   EPM_ERAB_DR                   997892 non-null  object \n",
      " 5   EPM_ERAB_SR                   997892 non-null  object \n",
      " 6   EPM_DL_Traffic_GB             997892 non-null  float64\n",
      " 7   EPM_CSFB_Preparation_SR       997892 non-null  float64\n",
      " 8   EPM_CSFB_SR                   997892 non-null  float64\n",
      " 9   TE Hourly Avala               997892 non-null  float64\n",
      " 10  TE Availabity Daily           997892 non-null  float64\n",
      " 11  EPM_Dropped_Sessions          997892 non-null  int64  \n",
      " 12  L.Cell.Unavail.Dur.Manual(s)  997892 non-null  int64  \n",
      " 13  L.Cell.Unavail.Dur.Sys(s)     997892 non-null  int64  \n",
      " 14  L.Cell.Avail.Dur(s)           997892 non-null  int64  \n",
      " 15  EPM_RRC_Failures              997892 non-null  int64  \n",
      " 16  EPM_ERABSR_Failures           997892 non-null  object \n",
      " 17  EPM_Total_Sessions            997892 non-null  object \n",
      " 18  EPM_ERABSR_Attempts           997892 non-null  object \n",
      " 19  EPM_RRC_Attempts              997892 non-null  int64  \n",
      "dtypes: float64(7), int64(6), object(7)\n",
      "memory usage: 159.9+ MB\n"
     ]
    }
   ],
   "source": [
    "df.info()"
   ]
  },
  {
   "cell_type": "code",
   "execution_count": 8,
   "id": "1b262def-29be-4aa4-97c6-ecf73bd6ee5b",
   "metadata": {},
   "outputs": [],
   "source": [
    "#Transform Time from object to datetime format\n",
    "df['Time'] = pd.to_datetime(df['Time'])"
   ]
  },
  {
   "cell_type": "code",
   "execution_count": 9,
   "id": "4d85166b-d733-4cf1-8fbd-2cfd64f17095",
   "metadata": {},
   "outputs": [],
   "source": [
    "#Transform EPM_ERAB_DR from object to float format\n",
    "df.drop(df[df['EPM_ERAB_DR']=='NIL'].index,inplace=True)\n",
    "df['EPM_ERAB_DR'] = df['EPM_ERAB_DR'].apply(lambda x: float(x))"
   ]
  },
  {
   "cell_type": "code",
   "execution_count": 10,
   "id": "7b5fd0ab-cca7-45e9-8c7e-046729bed9da",
   "metadata": {},
   "outputs": [],
   "source": [
    "#Transform EPM_ERAB_SR from object to float format\n",
    "df['EPM_ERAB_SR'] = df['EPM_ERAB_SR'].apply(lambda x: float(x))"
   ]
  },
  {
   "cell_type": "code",
   "execution_count": 11,
   "id": "0ca8c8f8-cf79-4559-af8a-26f58dd32069",
   "metadata": {},
   "outputs": [],
   "source": [
    "#Transform EPM_ERABSR_Failures from object to int format\n",
    "df['EPM_ERABSR_Failures'] = df['EPM_ERABSR_Failures'].apply(lambda x: int(x))"
   ]
  },
  {
   "cell_type": "code",
   "execution_count": 12,
   "id": "fdc2e90b-badc-4532-a518-97ca9d5101fb",
   "metadata": {},
   "outputs": [],
   "source": [
    "#Transform EPM_Total_Sessions from object to int format\n",
    "df['EPM_Total_Sessions'] = df['EPM_Total_Sessions'].apply(lambda x: int(x))"
   ]
  },
  {
   "cell_type": "code",
   "execution_count": 13,
   "id": "10382ee0-d761-47ce-98ea-63857597c22b",
   "metadata": {},
   "outputs": [],
   "source": [
    "#Transform EPM_Total_Sessions from object to int format\n",
    "df['EPM_ERABSR_Attempts'] = df['EPM_ERABSR_Attempts'].apply(lambda x: int(x))"
   ]
  },
  {
   "cell_type": "code",
   "execution_count": 14,
   "id": "3de35238-0493-4674-bc12-7b16bf8dc286",
   "metadata": {},
   "outputs": [
    {
     "name": "stdout",
     "output_type": "stream",
     "text": [
      "<class 'pandas.core.frame.DataFrame'>\n",
      "Int64Index: 997805 entries, 0 to 1048568\n",
      "Data columns (total 20 columns):\n",
      " #   Column                        Non-Null Count   Dtype         \n",
      "---  ------                        --------------   -----         \n",
      " 0   Time                          997805 non-null  datetime64[ns]\n",
      " 1   eNodeB Name                   997805 non-null  object        \n",
      " 2   EPM_RRC_SR                    997805 non-null  float64       \n",
      " 3   EPM_UL_Traffic_GB             997805 non-null  float64       \n",
      " 4   EPM_ERAB_DR                   997805 non-null  float64       \n",
      " 5   EPM_ERAB_SR                   997805 non-null  float64       \n",
      " 6   EPM_DL_Traffic_GB             997805 non-null  float64       \n",
      " 7   EPM_CSFB_Preparation_SR       997805 non-null  float64       \n",
      " 8   EPM_CSFB_SR                   997805 non-null  float64       \n",
      " 9   TE Hourly Avala               997805 non-null  float64       \n",
      " 10  TE Availabity Daily           997805 non-null  float64       \n",
      " 11  EPM_Dropped_Sessions          997805 non-null  int64         \n",
      " 12  L.Cell.Unavail.Dur.Manual(s)  997805 non-null  int64         \n",
      " 13  L.Cell.Unavail.Dur.Sys(s)     997805 non-null  int64         \n",
      " 14  L.Cell.Avail.Dur(s)           997805 non-null  int64         \n",
      " 15  EPM_RRC_Failures              997805 non-null  int64         \n",
      " 16  EPM_ERABSR_Failures           997805 non-null  int64         \n",
      " 17  EPM_Total_Sessions            997805 non-null  int64         \n",
      " 18  EPM_ERABSR_Attempts           997805 non-null  int64         \n",
      " 19  EPM_RRC_Attempts              997805 non-null  int64         \n",
      "dtypes: datetime64[ns](1), float64(9), int64(9), object(1)\n",
      "memory usage: 159.9+ MB\n"
     ]
    }
   ],
   "source": [
    "df.info()"
   ]
  },
  {
   "cell_type": "code",
   "execution_count": 15,
   "id": "9ea1a926-1372-4aae-89c9-513bff123771",
   "metadata": {},
   "outputs": [
    {
     "data": {
      "text/plain": [
       "(997805, 20)"
      ]
     },
     "execution_count": 15,
     "metadata": {},
     "output_type": "execute_result"
    }
   ],
   "source": [
    "df.shape"
   ]
  },
  {
   "cell_type": "markdown",
   "id": "35ea50f9-0484-430f-ab6e-d6dbd58d0a51",
   "metadata": {},
   "source": [
    "## Save File to parquet file"
   ]
  },
  {
   "cell_type": "code",
   "execution_count": 16,
   "id": "7d0f32b6-a24c-42dc-b407-ca24835932af",
   "metadata": {},
   "outputs": [],
   "source": [
    "df.to_parquet('../data/processed/Sites_KPI_processed.parquet')"
   ]
  },
  {
   "cell_type": "code",
   "execution_count": null,
   "id": "2b6d6a26-aeab-4067-a56a-99dfd47bf030",
   "metadata": {},
   "outputs": [],
   "source": []
  }
 ],
 "metadata": {
  "kernelspec": {
   "display_name": "Python 3 (ipykernel)",
   "language": "python",
   "name": "python3"
  },
  "language_info": {
   "codemirror_mode": {
    "name": "ipython",
    "version": 3
   },
   "file_extension": ".py",
   "mimetype": "text/x-python",
   "name": "python",
   "nbconvert_exporter": "python",
   "pygments_lexer": "ipython3",
   "version": "3.9.7"
  }
 },
 "nbformat": 4,
 "nbformat_minor": 5
}
