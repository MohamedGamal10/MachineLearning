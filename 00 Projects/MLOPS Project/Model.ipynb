{
 "cells": [
  {
   "cell_type": "code",
   "execution_count": 1,
   "id": "ed6db65f-8825-42f6-9c3a-a4fae592a878",
   "metadata": {},
   "outputs": [],
   "source": [
    "#Setup Libs\n",
    "import pandas as pd\n",
    "import numpy as np\n",
    "import seaborn as sns\n",
    "import matplotlib.pyplot as plt\n",
    "from sklearn.feature_extraction import DictVectorizer\n",
    "from sklearn.linear_model import LinearRegression\n",
    "from sklearn.linear_model import Lasso\n",
    "from sklearn.linear_model import Ridge\n",
    "from sklearn.metrics import mean_squared_error\n",
    "import pickle"
   ]
  },
  {
   "cell_type": "code",
   "execution_count": 2,
   "id": "8048f59b-80c8-49a1-9936-3a415e8a0a31",
   "metadata": {},
   "outputs": [],
   "source": [
    "#Data Paths\n",
    "DATA_PATH_TRAIN = '../data/raw/fhv_tripdata_2021-01.parquet'\n",
    "DATA_PATH_VAL = '../data/raw/fhv_tripdata_2021-02.parquet'"
   ]
  },
  {
   "cell_type": "code",
   "execution_count": 3,
   "id": "48a4f02f-7aff-45bb-a1a2-8d859f1f8dd3",
   "metadata": {},
   "outputs": [
    {
     "name": "stdout",
     "output_type": "stream",
     "text": [
      "How many records are there for January ? 1154112\n"
     ]
    }
   ],
   "source": [
    "print(\"How many records are there for January ? {}\".format(pd.read_parquet(DATA_PATH_TRAIN).shape[0]))"
   ]
  },
  {
   "cell_type": "code",
   "execution_count": 4,
   "id": "bd5133e6-eaa0-441d-91bd-8ad12c5c2094",
   "metadata": {},
   "outputs": [],
   "source": [
    "def read_dataframe(filename):\n",
    "    df = pd.read_parquet(filename)\n",
    "\n",
    "    df['duration'] = df.dropOff_datetime - df.pickup_datetime\n",
    "    df.duration = df.duration.apply(lambda td: td.total_seconds() / 60)\n",
    "\n",
    "    df = df[(df.duration >= 1) & (df.duration <= 60)]\n",
    "    \n",
    "    return df"
   ]
  },
  {
   "cell_type": "code",
   "execution_count": 5,
   "id": "6b02e905-e6b6-4cd0-84f0-3835de06774a",
   "metadata": {},
   "outputs": [
    {
     "data": {
      "text/plain": [
       "1109826"
      ]
     },
     "execution_count": 5,
     "metadata": {},
     "output_type": "execute_result"
    }
   ],
   "source": [
    "df_train = read_dataframe(DATA_PATH_TRAIN)\n",
    "df_val = read_dataframe(DATA_PATH_VAL)\n",
    "\n",
    "df_train.shape[0]"
   ]
  },
  {
   "cell_type": "markdown",
   "id": "ba59a4cb-a4b7-477e-9e7b-b08bf759926d",
   "metadata": {},
   "source": [
    "- Let's remove them and keep only the records where the duration was between 1 and 60 minutes (inclusive).\n",
    "- How many records did you drop?"
   ]
  },
  {
   "cell_type": "code",
   "execution_count": 6,
   "id": "f9997feb-208b-467a-b8b6-20a6114ad8cf",
   "metadata": {},
   "outputs": [
    {
     "name": "stdout",
     "output_type": "stream",
     "text": [
      "number of droped records : 44286\n"
     ]
    }
   ],
   "source": [
    "print(\"number of droped records : {}\".format(1154112-1109826))"
   ]
  },
  {
   "cell_type": "code",
   "execution_count": 7,
   "id": "a6e4d29f-a215-46a2-bb06-f02ab3e261b0",
   "metadata": {},
   "outputs": [
    {
     "data": {
      "text/html": [
       "<div>\n",
       "<style scoped>\n",
       "    .dataframe tbody tr th:only-of-type {\n",
       "        vertical-align: middle;\n",
       "    }\n",
       "\n",
       "    .dataframe tbody tr th {\n",
       "        vertical-align: top;\n",
       "    }\n",
       "\n",
       "    .dataframe thead th {\n",
       "        text-align: right;\n",
       "    }\n",
       "</style>\n",
       "<table border=\"1\" class=\"dataframe\">\n",
       "  <thead>\n",
       "    <tr style=\"text-align: right;\">\n",
       "      <th></th>\n",
       "      <th>PUlocationID</th>\n",
       "      <th>DOlocationID</th>\n",
       "      <th>duration</th>\n",
       "    </tr>\n",
       "  </thead>\n",
       "  <tbody>\n",
       "    <tr>\n",
       "      <th>count</th>\n",
       "      <td>182818.00000</td>\n",
       "      <td>961919.00000</td>\n",
       "      <td>1109826.00000</td>\n",
       "    </tr>\n",
       "    <tr>\n",
       "      <th>mean</th>\n",
       "      <td>139.86163</td>\n",
       "      <td>135.68915</td>\n",
       "      <td>16.24725</td>\n",
       "    </tr>\n",
       "    <tr>\n",
       "      <th>std</th>\n",
       "      <td>74.76379</td>\n",
       "      <td>80.34968</td>\n",
       "      <td>11.55150</td>\n",
       "    </tr>\n",
       "    <tr>\n",
       "      <th>min</th>\n",
       "      <td>1.00000</td>\n",
       "      <td>1.00000</td>\n",
       "      <td>1.00000</td>\n",
       "    </tr>\n",
       "    <tr>\n",
       "      <th>25%</th>\n",
       "      <td>75.00000</td>\n",
       "      <td>67.00000</td>\n",
       "      <td>7.85000</td>\n",
       "    </tr>\n",
       "    <tr>\n",
       "      <th>50%</th>\n",
       "      <td>146.00000</td>\n",
       "      <td>132.00000</td>\n",
       "      <td>13.23333</td>\n",
       "    </tr>\n",
       "    <tr>\n",
       "      <th>75%</th>\n",
       "      <td>206.00000</td>\n",
       "      <td>213.00000</td>\n",
       "      <td>21.46667</td>\n",
       "    </tr>\n",
       "    <tr>\n",
       "      <th>max</th>\n",
       "      <td>265.00000</td>\n",
       "      <td>265.00000</td>\n",
       "      <td>60.00000</td>\n",
       "    </tr>\n",
       "  </tbody>\n",
       "</table>\n",
       "</div>"
      ],
      "text/plain": [
       "       PUlocationID  DOlocationID       duration\n",
       "count  182818.00000  961919.00000  1109826.00000\n",
       "mean      139.86163     135.68915       16.24725\n",
       "std        74.76379      80.34968       11.55150\n",
       "min         1.00000       1.00000        1.00000\n",
       "25%        75.00000      67.00000        7.85000\n",
       "50%       146.00000     132.00000       13.23333\n",
       "75%       206.00000     213.00000       21.46667\n",
       "max       265.00000     265.00000       60.00000"
      ]
     },
     "execution_count": 7,
     "metadata": {},
     "output_type": "execute_result"
    }
   ],
   "source": [
    "df_train.describe().apply(lambda s: s.apply('{0:.5f}'.format))"
   ]
  },
  {
   "cell_type": "code",
   "execution_count": 8,
   "id": "6930c0f0-395f-4f81-b865-4842403ba6c3",
   "metadata": {},
   "outputs": [
    {
     "name": "stdout",
     "output_type": "stream",
     "text": [
      "What's the average trip duration in January? 16.24\n"
     ]
    }
   ],
   "source": [
    "print(\"What's the average trip duration in January? 16.24\")"
   ]
  },
  {
   "cell_type": "code",
   "execution_count": 9,
   "id": "4f76c990-33b1-46c8-b40e-b93fe078f80d",
   "metadata": {},
   "outputs": [],
   "source": [
    "# Missing Values\n",
    "df_train['PUlocationID'].fillna(-1,inplace=True)\n",
    "df_train['DOlocationID'].fillna(-1,inplace=True)\n",
    "df_val['PUlocationID'].fillna(-1,inplace=True)\n",
    "df_val['DOlocationID'].fillna(-1,inplace=True)"
   ]
  },
  {
   "cell_type": "code",
   "execution_count": 10,
   "id": "e64715df-f09a-4650-9b17-9b10705e4426",
   "metadata": {},
   "outputs": [
    {
     "data": {
      "text/plain": [
       "0.8352732770722617"
      ]
     },
     "execution_count": 10,
     "metadata": {},
     "output_type": "execute_result"
    }
   ],
   "source": [
    "# What's the fractions of missing values for the pickup location ID? I.e. fraction of \"-1\"s after you filled the NAs.\n",
    "df_train[df_train['PUlocationID']==-1].shape[0]/df_train.shape[0]"
   ]
  },
  {
   "cell_type": "code",
   "execution_count": 12,
   "id": "4445029a-7f3b-4c4f-be1f-53b24a3ef5fd",
   "metadata": {},
   "outputs": [],
   "source": [
    "categorical = ['PUlocationID', 'DOlocationID']\n",
    "df_train[categorical] = df_train[categorical].astype(str)\n",
    "df_val[categorical] = df_val[categorical].astype(str)\n",
    "\n",
    "df_train['PU_DO'] = df_train['PUlocationID'] + '_' + df_train['PUlocationID']\n",
    "df_val['PU_DO'] = df_val['PUlocationID'] + '_' + df_val['PUlocationID']\n",
    "\n",
    "dv = DictVectorizer()\n",
    "\n",
    "train_dicts = df_train[categorical].to_dict(orient='records')\n",
    "X_train = dv.fit_transform(train_dicts)\n",
    "\n",
    "val_dicts = df_val[categorical].to_dict(orient='records')\n",
    "X_val = dv.transform(val_dicts)"
   ]
  },
  {
   "cell_type": "code",
   "execution_count": 13,
   "id": "0a30470c-642c-406b-bbb0-5e05d4669b45",
   "metadata": {},
   "outputs": [
    {
     "data": {
      "text/plain": [
       "<1109826x525 sparse matrix of type '<class 'numpy.float64'>'\n",
       "\twith 2219652 stored elements in Compressed Sparse Row format>"
      ]
     },
     "execution_count": 13,
     "metadata": {},
     "output_type": "execute_result"
    }
   ],
   "source": [
    "#What's the dimensionality of this matrix? (The number of columns).\n",
    "X_train"
   ]
  },
  {
   "cell_type": "code",
   "execution_count": 17,
   "id": "23fff50b-c4d4-4253-bf65-789d8652c4af",
   "metadata": {},
   "outputs": [],
   "source": [
    "target = 'duration'\n",
    "y_train = df_train[target].values\n",
    "y_val = df_val[target].values"
   ]
  },
  {
   "cell_type": "code",
   "execution_count": 16,
   "id": "1e21ad39-c5be-4c7b-bb37-e3ecf51b5dfc",
   "metadata": {},
   "outputs": [
    {
     "data": {
      "text/plain": [
       "10.52851910721103"
      ]
     },
     "execution_count": 16,
     "metadata": {},
     "output_type": "execute_result"
    }
   ],
   "source": [
    "lr = LinearRegression()\n",
    "lr.fit(X_train, y_train)\n",
    "\n",
    "y_pred = lr.predict(X_train)\n",
    "\n",
    "mean_squared_error(y_train, y_pred, squared=False)"
   ]
  },
  {
   "cell_type": "code",
   "execution_count": 18,
   "id": "10b29d2c-5666-4037-9705-5af980941e36",
   "metadata": {},
   "outputs": [
    {
     "data": {
      "text/plain": [
       "11.014283190951092"
      ]
     },
     "execution_count": 18,
     "metadata": {},
     "output_type": "execute_result"
    }
   ],
   "source": [
    "lr = LinearRegression()\n",
    "lr.fit(X_train, y_train)\n",
    "\n",
    "y_pred = lr.predict(X_val)\n",
    "\n",
    "mean_squared_error(y_val, y_pred, squared=False)"
   ]
  },
  {
   "cell_type": "code",
   "execution_count": null,
   "id": "592481c5-c759-450e-ae99-26703a7bbedb",
   "metadata": {},
   "outputs": [],
   "source": []
  }
 ],
 "metadata": {
  "kernelspec": {
   "display_name": "Python 3 (ipykernel)",
   "language": "python",
   "name": "python3"
  },
  "language_info": {
   "codemirror_mode": {
    "name": "ipython",
    "version": 3
   },
   "file_extension": ".py",
   "mimetype": "text/x-python",
   "name": "python",
   "nbconvert_exporter": "python",
   "pygments_lexer": "ipython3",
   "version": "3.9.7"
  }
 },
 "nbformat": 4,
 "nbformat_minor": 5
}
