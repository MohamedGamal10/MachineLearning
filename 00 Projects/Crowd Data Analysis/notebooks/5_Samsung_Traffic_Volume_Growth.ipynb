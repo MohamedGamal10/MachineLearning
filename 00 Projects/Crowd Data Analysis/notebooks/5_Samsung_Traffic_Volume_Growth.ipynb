{
 "cells": [
  {
   "cell_type": "markdown",
   "id": "94d0a9c8-2038-46a4-a8e3-5e64bef4b34b",
   "metadata": {},
   "source": [
    "## Samsung Traffic Volume Growth\n",
    "Samsung devices are the main handsets in our network. Can you predict the traffic volume growth, uplink and downlink, over time for these devices and compare it to the competitors?"
   ]
  },
  {
   "cell_type": "code",
   "execution_count": 1,
   "id": "fdaf49b1-f8d4-4412-b25d-7e3890d17dd5",
   "metadata": {},
   "outputs": [],
   "source": [
    "# Setup Libraries\n",
    "import pandas as pd\n",
    "import numpy as np\n",
    "import plotly.express as px\n",
    "import matplotlib.pyplot as plt\n",
    "import seaborn as sns\n",
    "import plotly.offline as pyo\n",
    "import plotly.graph_objs as go\n",
    "import warnings\n",
    "warnings.filterwarnings(\"ignore\")\n",
    "from sklearn.model_selection import train_test_split\n",
    "from sklearn.preprocessing import StandardScaler\n",
    "from sklearn.preprocessing import MinMaxScaler\n",
    "from sklearn import metrics\n",
    "import xgboost\n",
    "from sklearn.neural_network import MLPRegressor\n",
    "from sklearn.model_selection import learning_curve"
   ]
  },
  {
   "cell_type": "code",
   "execution_count": 37,
   "id": "a8dc3092-29f3-4615-a663-d693d244a950",
   "metadata": {},
   "outputs": [],
   "source": [
    "# Setup Dataset Path\n",
    "DATA_PATH = '../data/processed/RSRP_Traffic.parquet'"
   ]
  },
  {
   "cell_type": "code",
   "execution_count": 38,
   "id": "402d8141-aa63-4288-93eb-06e918c6800f",
   "metadata": {},
   "outputs": [],
   "source": [
    "#Load Data\n",
    "df = pd.read_parquet(DATA_PATH)"
   ]
  },
  {
   "cell_type": "code",
   "execution_count": 39,
   "id": "f1fa6d4f-00e7-4c91-ac04-a917b48b391f",
   "metadata": {},
   "outputs": [
    {
     "data": {
      "text/html": [
       "<div>\n",
       "<style scoped>\n",
       "    .dataframe tbody tr th:only-of-type {\n",
       "        vertical-align: middle;\n",
       "    }\n",
       "\n",
       "    .dataframe tbody tr th {\n",
       "        vertical-align: top;\n",
       "    }\n",
       "\n",
       "    .dataframe thead th {\n",
       "        text-align: right;\n",
       "    }\n",
       "</style>\n",
       "<table border=\"1\" class=\"dataframe\">\n",
       "  <thead>\n",
       "    <tr style=\"text-align: right;\">\n",
       "      <th></th>\n",
       "      <th>Timestamp</th>\n",
       "      <th>LocationLatitude</th>\n",
       "      <th>LocationLongitude</th>\n",
       "      <th>RadioConnectionType</th>\n",
       "      <th>RadioNetworkGeneration</th>\n",
       "      <th>RSRP</th>\n",
       "      <th>RadioMobileDataEnabled</th>\n",
       "      <th>DeviceManufacturer</th>\n",
       "      <th>DeviceName</th>\n",
       "      <th>time_approxmate</th>\n",
       "      <th>Average_RSRP</th>\n",
       "      <th>TrafficDirection</th>\n",
       "      <th>TrafficVolume</th>\n",
       "    </tr>\n",
       "  </thead>\n",
       "  <tbody>\n",
       "    <tr>\n",
       "      <th>0</th>\n",
       "      <td>2019-11-02 01:39:40</td>\n",
       "      <td>24.691517</td>\n",
       "      <td>46.65258</td>\n",
       "      <td>Mobile</td>\n",
       "      <td>4G</td>\n",
       "      <td>-94</td>\n",
       "      <td>Enabled</td>\n",
       "      <td>HUAWEI</td>\n",
       "      <td>Huawei Y5 2019</td>\n",
       "      <td>2019-11-02 01:45:00</td>\n",
       "      <td>-93.444444</td>\n",
       "      <td>Downlink</td>\n",
       "      <td>6.218721</td>\n",
       "    </tr>\n",
       "  </tbody>\n",
       "</table>\n",
       "</div>"
      ],
      "text/plain": [
       "            Timestamp  LocationLatitude  LocationLongitude  \\\n",
       "0 2019-11-02 01:39:40         24.691517           46.65258   \n",
       "\n",
       "  RadioConnectionType RadioNetworkGeneration  RSRP RadioMobileDataEnabled  \\\n",
       "0              Mobile                     4G   -94                Enabled   \n",
       "\n",
       "  DeviceManufacturer      DeviceName     time_approxmate  Average_RSRP  \\\n",
       "0             HUAWEI  Huawei Y5 2019 2019-11-02 01:45:00    -93.444444   \n",
       "\n",
       "  TrafficDirection  TrafficVolume  \n",
       "0         Downlink       6.218721  "
      ]
     },
     "execution_count": 39,
     "metadata": {},
     "output_type": "execute_result"
    }
   ],
   "source": [
    "df.head(1)"
   ]
  },
  {
   "cell_type": "code",
   "execution_count": 40,
   "id": "4ab96274-40d4-4491-b7dd-7e5279926533",
   "metadata": {},
   "outputs": [
    {
     "data": {
      "text/html": [
       "<div>\n",
       "<style scoped>\n",
       "    .dataframe tbody tr th:only-of-type {\n",
       "        vertical-align: middle;\n",
       "    }\n",
       "\n",
       "    .dataframe tbody tr th {\n",
       "        vertical-align: top;\n",
       "    }\n",
       "\n",
       "    .dataframe thead th {\n",
       "        text-align: right;\n",
       "    }\n",
       "</style>\n",
       "<table border=\"1\" class=\"dataframe\">\n",
       "  <thead>\n",
       "    <tr style=\"text-align: right;\">\n",
       "      <th></th>\n",
       "      <th>Timestamp</th>\n",
       "      <th>LocationLatitude</th>\n",
       "      <th>LocationLongitude</th>\n",
       "      <th>DeviceManufacturer</th>\n",
       "      <th>DeviceName</th>\n",
       "      <th>TrafficDirection</th>\n",
       "      <th>TrafficVolume</th>\n",
       "    </tr>\n",
       "  </thead>\n",
       "  <tbody>\n",
       "    <tr>\n",
       "      <th>0</th>\n",
       "      <td>2019-11-02 01:39:40</td>\n",
       "      <td>24.691517</td>\n",
       "      <td>46.65258</td>\n",
       "      <td>HUAWEI</td>\n",
       "      <td>Huawei Y5 2019</td>\n",
       "      <td>Downlink</td>\n",
       "      <td>6.218721</td>\n",
       "    </tr>\n",
       "  </tbody>\n",
       "</table>\n",
       "</div>"
      ],
      "text/plain": [
       "            Timestamp  LocationLatitude  LocationLongitude DeviceManufacturer  \\\n",
       "0 2019-11-02 01:39:40         24.691517           46.65258             HUAWEI   \n",
       "\n",
       "       DeviceName TrafficDirection  TrafficVolume  \n",
       "0  Huawei Y5 2019         Downlink       6.218721  "
      ]
     },
     "execution_count": 40,
     "metadata": {},
     "output_type": "execute_result"
    }
   ],
   "source": [
    "df = df[['Timestamp','LocationLatitude','LocationLongitude','DeviceManufacturer', 'DeviceName','TrafficDirection','TrafficVolume']]\n",
    "df.head(1)"
   ]
  },
  {
   "cell_type": "code",
   "execution_count": 41,
   "id": "1c2a7f3f-1234-4d54-b4b7-ec63a27d9cbd",
   "metadata": {},
   "outputs": [
    {
     "data": {
      "text/html": [
       "<div>\n",
       "<style scoped>\n",
       "    .dataframe tbody tr th:only-of-type {\n",
       "        vertical-align: middle;\n",
       "    }\n",
       "\n",
       "    .dataframe tbody tr th {\n",
       "        vertical-align: top;\n",
       "    }\n",
       "\n",
       "    .dataframe thead th {\n",
       "        text-align: right;\n",
       "    }\n",
       "</style>\n",
       "<table border=\"1\" class=\"dataframe\">\n",
       "  <thead>\n",
       "    <tr style=\"text-align: right;\">\n",
       "      <th></th>\n",
       "      <th>Timestamp</th>\n",
       "      <th>LocationLatitude</th>\n",
       "      <th>LocationLongitude</th>\n",
       "      <th>DeviceName</th>\n",
       "      <th>TrafficDirection</th>\n",
       "      <th>TrafficVolume</th>\n",
       "    </tr>\n",
       "  </thead>\n",
       "  <tbody>\n",
       "    <tr>\n",
       "      <th>20</th>\n",
       "      <td>2019-11-02 09:04:25</td>\n",
       "      <td>24.751925</td>\n",
       "      <td>46.8578</td>\n",
       "      <td>Galaxy On7 Prime</td>\n",
       "      <td>Uplink</td>\n",
       "      <td>0.997738</td>\n",
       "    </tr>\n",
       "    <tr>\n",
       "      <th>21</th>\n",
       "      <td>2019-11-02 09:04:25</td>\n",
       "      <td>24.751925</td>\n",
       "      <td>46.8578</td>\n",
       "      <td>Galaxy On7 Prime</td>\n",
       "      <td>Downlink</td>\n",
       "      <td>7.808209</td>\n",
       "    </tr>\n",
       "  </tbody>\n",
       "</table>\n",
       "</div>"
      ],
      "text/plain": [
       "             Timestamp  LocationLatitude  LocationLongitude        DeviceName  \\\n",
       "20 2019-11-02 09:04:25         24.751925            46.8578  Galaxy On7 Prime   \n",
       "21 2019-11-02 09:04:25         24.751925            46.8578  Galaxy On7 Prime   \n",
       "\n",
       "   TrafficDirection  TrafficVolume  \n",
       "20           Uplink       0.997738  \n",
       "21         Downlink       7.808209  "
      ]
     },
     "execution_count": 41,
     "metadata": {},
     "output_type": "execute_result"
    }
   ],
   "source": [
    "#Extract Samsung Data\n",
    "snap_samsung = df[df['DeviceManufacturer']=='samsung'].drop(['DeviceManufacturer'],axis=1)\n",
    "snap_samsung.head(2)"
   ]
  },
  {
   "cell_type": "code",
   "execution_count": 42,
   "id": "0f96d289-3a0b-4f72-88ca-44a731c9d079",
   "metadata": {},
   "outputs": [],
   "source": [
    "#snap_samsung = df.groupby(by=['Timestamp','TrafficDirection','DeviceName'])['TrafficVolume'].mean().reset_index()\n",
    "#snap_samsung.head()"
   ]
  },
  {
   "cell_type": "code",
   "execution_count": 43,
   "id": "956873ef-088a-4554-93d0-881c52d9e8d6",
   "metadata": {},
   "outputs": [
    {
     "data": {
      "text/plain": [
       "<AxesSubplot:ylabel='Frequency'>"
      ]
     },
     "execution_count": 43,
     "metadata": {},
     "output_type": "execute_result"
    },
    {
     "data": {
      "image/png": "[encoded data removed]",
      "text/plain": [
       "<Figure size 432x288 with 1 Axes>"
      ]
     },
     "metadata": {
      "needs_background": "light"
     },
     "output_type": "display_data"
    }
   ],
   "source": [
    "snap_samsung['TrafficVolume'].plot.hist(alpha=0.5, bins=15, grid=True, legend=None)"
   ]
  },
  {
   "cell_type": "code",
   "execution_count": 44,
   "id": "b399729e-7100-4f14-a73d-a2ddd06f5103",
   "metadata": {},
   "outputs": [
    {
     "data": {
      "text/plain": [
       "<AxesSubplot:ylabel='Frequency'>"
      ]
     },
     "execution_count": 44,
     "metadata": {},
     "output_type": "execute_result"
    },
    {
     "data": {
      "image/png": "[encoded data removed]",
      "text/plain": [
       "<Figure size 432x288 with 1 Axes>"
      ]
     },
     "metadata": {
      "needs_background": "light"
     },
     "output_type": "display_data"
    }
   ],
   "source": [
    "snap_samsung['TrafficVolume_log'] = [np.log(x) for x in snap_samsung['TrafficVolume']]\n",
    "snap_samsung['TrafficVolume_log'].plot.hist(alpha=0.5, bins=15, grid=True, legend=None)"
   ]
  },
  {
   "cell_type": "code",
   "execution_count": 45,
   "id": "3255266b-efc9-4e13-ba29-70bc62b36f35",
   "metadata": {},
   "outputs": [
    {
     "data": {
      "text/html": [
       "<div>\n",
       "<style scoped>\n",
       "    .dataframe tbody tr th:only-of-type {\n",
       "        vertical-align: middle;\n",
       "    }\n",
       "\n",
       "    .dataframe tbody tr th {\n",
       "        vertical-align: top;\n",
       "    }\n",
       "\n",
       "    .dataframe thead th {\n",
       "        text-align: right;\n",
       "    }\n",
       "</style>\n",
       "<table border=\"1\" class=\"dataframe\">\n",
       "  <thead>\n",
       "    <tr style=\"text-align: right;\">\n",
       "      <th></th>\n",
       "      <th>Hour</th>\n",
       "      <th>Mintue</th>\n",
       "      <th>DeviceName</th>\n",
       "      <th>LocationLatitude</th>\n",
       "      <th>LocationLongitude</th>\n",
       "      <th>TrafficDirection</th>\n",
       "      <th>TrafficVolume_log</th>\n",
       "    </tr>\n",
       "  </thead>\n",
       "  <tbody>\n",
       "    <tr>\n",
       "      <th>20</th>\n",
       "      <td>9</td>\n",
       "      <td>4</td>\n",
       "      <td>Galaxy On7 Prime</td>\n",
       "      <td>24.751925</td>\n",
       "      <td>46.8578</td>\n",
       "      <td>Uplink</td>\n",
       "      <td>-0.002265</td>\n",
       "    </tr>\n",
       "  </tbody>\n",
       "</table>\n",
       "</div>"
      ],
      "text/plain": [
       "    Hour  Mintue        DeviceName  LocationLatitude  LocationLongitude  \\\n",
       "20     9       4  Galaxy On7 Prime         24.751925            46.8578   \n",
       "\n",
       "   TrafficDirection  TrafficVolume_log  \n",
       "20           Uplink          -0.002265  "
      ]
     },
     "execution_count": 45,
     "metadata": {},
     "output_type": "execute_result"
    }
   ],
   "source": [
    "snap_samsung['Hour'] = snap_samsung['Timestamp'].dt.hour\n",
    "snap_samsung['Mintue'] = snap_samsung['Timestamp'].dt.minute\n",
    "snap_samsung = snap_samsung[['Hour','Mintue','DeviceName','LocationLatitude','LocationLongitude','TrafficDirection','TrafficVolume_log']]\n",
    "snap_samsung.head(1)"
   ]
  },
  {
   "cell_type": "code",
   "execution_count": 46,
   "id": "d5a650e1-76ff-401d-9700-9ee1409bbd35",
   "metadata": {},
   "outputs": [
    {
     "data": {
      "text/html": [
       "<div>\n",
       "<style scoped>\n",
       "    .dataframe tbody tr th:only-of-type {\n",
       "        vertical-align: middle;\n",
       "    }\n",
       "\n",
       "    .dataframe tbody tr th {\n",
       "        vertical-align: top;\n",
       "    }\n",
       "\n",
       "    .dataframe thead th {\n",
       "        text-align: right;\n",
       "    }\n",
       "</style>\n",
       "<table border=\"1\" class=\"dataframe\">\n",
       "  <thead>\n",
       "    <tr style=\"text-align: right;\">\n",
       "      <th></th>\n",
       "      <th>Hour</th>\n",
       "      <th>Mintue</th>\n",
       "      <th>LocationLatitude</th>\n",
       "      <th>LocationLongitude</th>\n",
       "      <th>TrafficVolume_log</th>\n",
       "      <th>TrafficDirection_Uplink</th>\n",
       "      <th>DeviceName_Galaxy A10S</th>\n",
       "      <th>DeviceName_Galaxy A20</th>\n",
       "      <th>DeviceName_Galaxy A20S</th>\n",
       "      <th>DeviceName_Galaxy A30</th>\n",
       "      <th>...</th>\n",
       "      <th>DeviceName_Galaxy S5</th>\n",
       "      <th>DeviceName_Galaxy S5 Dual Sim</th>\n",
       "      <th>DeviceName_Galaxy S6 Edge</th>\n",
       "      <th>DeviceName_Galaxy S6 Edge+</th>\n",
       "      <th>DeviceName_Galaxy S7</th>\n",
       "      <th>DeviceName_Galaxy S7 Edge</th>\n",
       "      <th>DeviceName_Galaxy S8</th>\n",
       "      <th>DeviceName_Galaxy S8+</th>\n",
       "      <th>DeviceName_Galaxy S9</th>\n",
       "      <th>DeviceName_Galaxy S9+</th>\n",
       "    </tr>\n",
       "  </thead>\n",
       "  <tbody>\n",
       "    <tr>\n",
       "      <th>20</th>\n",
       "      <td>9</td>\n",
       "      <td>4</td>\n",
       "      <td>24.751925</td>\n",
       "      <td>46.8578</td>\n",
       "      <td>-0.002265</td>\n",
       "      <td>1</td>\n",
       "      <td>0</td>\n",
       "      <td>0</td>\n",
       "      <td>0</td>\n",
       "      <td>0</td>\n",
       "      <td>...</td>\n",
       "      <td>0</td>\n",
       "      <td>0</td>\n",
       "      <td>0</td>\n",
       "      <td>0</td>\n",
       "      <td>0</td>\n",
       "      <td>0</td>\n",
       "      <td>0</td>\n",
       "      <td>0</td>\n",
       "      <td>0</td>\n",
       "      <td>0</td>\n",
       "    </tr>\n",
       "  </tbody>\n",
       "</table>\n",
       "<p>1 rows × 65 columns</p>\n",
       "</div>"
      ],
      "text/plain": [
       "    Hour  Mintue  LocationLatitude  LocationLongitude  TrafficVolume_log  \\\n",
       "20     9       4         24.751925            46.8578          -0.002265   \n",
       "\n",
       "    TrafficDirection_Uplink  DeviceName_Galaxy A10S  DeviceName_Galaxy A20  \\\n",
       "20                        1                       0                      0   \n",
       "\n",
       "    DeviceName_Galaxy A20S  DeviceName_Galaxy A30  ...  DeviceName_Galaxy S5  \\\n",
       "20                       0                      0  ...                     0   \n",
       "\n",
       "    DeviceName_Galaxy S5 Dual Sim  DeviceName_Galaxy S6 Edge  \\\n",
       "20                              0                          0   \n",
       "\n",
       "    DeviceName_Galaxy S6 Edge+  DeviceName_Galaxy S7  \\\n",
       "20                           0                     0   \n",
       "\n",
       "    DeviceName_Galaxy S7 Edge  DeviceName_Galaxy S8  DeviceName_Galaxy S8+  \\\n",
       "20                          0                     0                      0   \n",
       "\n",
       "    DeviceName_Galaxy S9  DeviceName_Galaxy S9+  \n",
       "20                     0                      0  \n",
       "\n",
       "[1 rows x 65 columns]"
      ]
     },
     "execution_count": 46,
     "metadata": {},
     "output_type": "execute_result"
    }
   ],
   "source": [
    "#One Hot encoding\n",
    "snap_samsung=pd.concat([snap_samsung,pd.get_dummies(snap_samsung['TrafficDirection'], drop_first=True, prefix='TrafficDirection')],axis=1).drop(['TrafficDirection'],axis=1)\n",
    "snap_samsung=pd.concat([snap_samsung,pd.get_dummies(snap_samsung['DeviceName'], drop_first=True, prefix='DeviceName')],axis=1).drop(['DeviceName'],axis=1)\n",
    "snap_samsung.head(1)"
   ]
  },
  {
   "cell_type": "code",
   "execution_count": 47,
   "id": "524aa81a-e7af-4736-b05d-364ee223439d",
   "metadata": {},
   "outputs": [],
   "source": [
    "# Get the feature values until the target column (not included)\n",
    "X = snap_samsung.drop(['TrafficVolume_log'],axis=1).values.astype(np.float32)\n",
    "\n",
    "# Get the target column\n",
    "y = snap_samsung['TrafficVolume_log'].values.astype(np.float32)"
   ]
  },
  {
   "cell_type": "code",
   "execution_count": 48,
   "id": "cc699a47-9b50-458e-952e-284978db760f",
   "metadata": {},
   "outputs": [
    {
     "name": "stdout",
     "output_type": "stream",
     "text": [
      "Length of train_features is: (49714, 64)\n",
      "Length of train_labels is: (49714,)\n",
      "Length of test_features is: (12429, 64)\n",
      "Length of test_labels is: (12429,)\n"
     ]
    }
   ],
   "source": [
    "# Get 80% of the data for training; the remaining 20% will be for validation and test\n",
    "X_train, X_test, y_train, y_test = train_test_split(X, y, test_size=0.2)\n",
    "\n",
    "print(f\"Length of train_features is: {X_train.shape}\")\n",
    "print(f\"Length of train_labels is: {y_train.shape}\")\n",
    "print(f\"Length of test_features is: {X_test.shape}\")\n",
    "print(f\"Length of test_labels is: {y_test.shape}\")"
   ]
  },
  {
   "cell_type": "code",
   "execution_count": 49,
   "id": "29c17aa4-3f9e-4bd7-88f7-89c6297d3378",
   "metadata": {},
   "outputs": [],
   "source": [
    "#xgb\n",
    "xgb = xgboost.XGBRegressor()\n",
    "xgb.fit(X_train, y_train)\n",
    "y_xgb_predicted = xgb.predict(X_test)"
   ]
  },
  {
   "cell_type": "code",
   "execution_count": 50,
   "id": "d9e671a8-318c-4cae-a177-83e54e7c49e3",
   "metadata": {},
   "outputs": [
    {
     "name": "stdout",
     "output_type": "stream",
     "text": [
      "The model performance for testing set\n",
      "--------------------------------------\n",
      "MAE is 0.5965806841850281\n",
      "MSE is 0.8531978130340576\n",
      "R2 score is 0.7486401713554709\n"
     ]
    }
   ],
   "source": [
    "mae_xgb = metrics.mean_absolute_error(y_test, y_xgb_predicted)\n",
    "mse_xgb = metrics.mean_squared_error(y_test, y_xgb_predicted)\n",
    "r2_xgb  = metrics.r2_score(y_test, y_xgb_predicted)\n",
    "\n",
    "print(\"The model performance for testing set\")\n",
    "print(\"--------------------------------------\")\n",
    "print('MAE is {}'.format(mae_xgb ))\n",
    "print('MSE is {}'.format(mse_xgb ))\n",
    "print('R2 score is {}'.format(r2_xgb))"
   ]
  },
  {
   "cell_type": "code",
   "execution_count": null,
   "id": "591d0905-85fe-4052-a8f8-1abfc263d860",
   "metadata": {},
   "outputs": [],
   "source": []
  }
 ],
 "metadata": {
  "kernelspec": {
   "display_name": "Python 3 (ipykernel)",
   "language": "python",
   "name": "python3"
  },
  "language_info": {
   "codemirror_mode": {
    "name": "ipython",
    "version": 3
   },
   "file_extension": ".py",
   "mimetype": "text/x-python",
   "name": "python",
   "nbconvert_exporter": "python",
   "pygments_lexer": "ipython3",
   "version": "3.9.7"
  }
 },
 "nbformat": 4,
 "nbformat_minor": 5
}
