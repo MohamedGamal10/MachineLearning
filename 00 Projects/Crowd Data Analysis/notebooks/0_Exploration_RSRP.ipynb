{
 "cells": [
  {
   "cell_type": "code",
   "execution_count": 1,
   "id": "509067d6-73fc-4156-b655-856dd31944a8",
   "metadata": {},
   "outputs": [],
   "source": [
    "# Setup Libraries\n",
    "import pandas as pd\n",
    "import numpy as np\n",
    "import matplotlib.pyplot as plt"
   ]
  },
  {
   "cell_type": "code",
   "execution_count": 2,
   "id": "9a3dd3e8-bf86-4df1-b327-766980fcb81e",
   "metadata": {},
   "outputs": [],
   "source": [
    "# Setup Dataset Path\n",
    "DATA_PATH = '../data/raw/RSRP.csv'"
   ]
  },
  {
   "cell_type": "code",
   "execution_count": 3,
   "id": "cd7e0f1a-c36c-4b64-a044-09a341e5a310",
   "metadata": {},
   "outputs": [],
   "source": [
    "# load Data\n",
    "df = pd.read_csv(DATA_PATH)"
   ]
  },
  {
   "cell_type": "code",
   "execution_count": 4,
   "id": "da640309-b14b-4251-9add-ab5f19b2951d",
   "metadata": {},
   "outputs": [
    {
     "data": {
      "text/html": [
       "<div>\n",
       "<style scoped>\n",
       "    .dataframe tbody tr th:only-of-type {\n",
       "        vertical-align: middle;\n",
       "    }\n",
       "\n",
       "    .dataframe tbody tr th {\n",
       "        vertical-align: top;\n",
       "    }\n",
       "\n",
       "    .dataframe thead th {\n",
       "        text-align: right;\n",
       "    }\n",
       "</style>\n",
       "<table border=\"1\" class=\"dataframe\">\n",
       "  <thead>\n",
       "    <tr style=\"text-align: right;\">\n",
       "      <th></th>\n",
       "      <th>Timestamp</th>\n",
       "      <th>LocationLatitude</th>\n",
       "      <th>LocationLongitude</th>\n",
       "      <th>RadioConnectionType</th>\n",
       "      <th>Country</th>\n",
       "      <th>RadioNetworkGeneration</th>\n",
       "      <th>RadioOperatorName</th>\n",
       "      <th>RSRP</th>\n",
       "      <th>RadioMobileDataEnabled</th>\n",
       "      <th>DeviceManufacturer</th>\n",
       "      <th>DeviceName</th>\n",
       "    </tr>\n",
       "  </thead>\n",
       "  <tbody>\n",
       "    <tr>\n",
       "      <th>0</th>\n",
       "      <td>2019-11-02 00:09:29.386 +0300</td>\n",
       "      <td>24.54054</td>\n",
       "      <td>46.784737</td>\n",
       "      <td>Mobile</td>\n",
       "      <td>Saudi Arabia</td>\n",
       "      <td>4G</td>\n",
       "      <td>Operator C</td>\n",
       "      <td>2147483647</td>\n",
       "      <td>Enabled</td>\n",
       "      <td>HTC</td>\n",
       "      <td>D728W</td>\n",
       "    </tr>\n",
       "    <tr>\n",
       "      <th>1</th>\n",
       "      <td>2019-11-02 00:09:29.386 +0300</td>\n",
       "      <td>24.54054</td>\n",
       "      <td>46.784737</td>\n",
       "      <td>Mobile</td>\n",
       "      <td>Saudi Arabia</td>\n",
       "      <td>4G</td>\n",
       "      <td>Operator C</td>\n",
       "      <td>2147483647</td>\n",
       "      <td>Enabled</td>\n",
       "      <td>HTC</td>\n",
       "      <td>Desire 728 Dual Sim</td>\n",
       "    </tr>\n",
       "    <tr>\n",
       "      <th>2</th>\n",
       "      <td>2019-11-02 00:10:45.323 +0300</td>\n",
       "      <td>24.54054</td>\n",
       "      <td>46.784737</td>\n",
       "      <td>Mobile</td>\n",
       "      <td>Saudi Arabia</td>\n",
       "      <td>3G</td>\n",
       "      <td>Operator C</td>\n",
       "      <td>2147483647</td>\n",
       "      <td>Enabled</td>\n",
       "      <td>HTC</td>\n",
       "      <td>D728W</td>\n",
       "    </tr>\n",
       "    <tr>\n",
       "      <th>3</th>\n",
       "      <td>2019-11-02 00:10:45.323 +0300</td>\n",
       "      <td>24.54054</td>\n",
       "      <td>46.784737</td>\n",
       "      <td>Mobile</td>\n",
       "      <td>Saudi Arabia</td>\n",
       "      <td>3G</td>\n",
       "      <td>Operator C</td>\n",
       "      <td>2147483647</td>\n",
       "      <td>Enabled</td>\n",
       "      <td>HTC</td>\n",
       "      <td>Desire 728 Dual Sim</td>\n",
       "    </tr>\n",
       "    <tr>\n",
       "      <th>4</th>\n",
       "      <td>2019-11-02 00:11:26.822 +0300</td>\n",
       "      <td>24.54054</td>\n",
       "      <td>46.784737</td>\n",
       "      <td>Mobile</td>\n",
       "      <td>Saudi Arabia</td>\n",
       "      <td>4G</td>\n",
       "      <td>Operator C</td>\n",
       "      <td>2147483647</td>\n",
       "      <td>Enabled</td>\n",
       "      <td>HTC</td>\n",
       "      <td>D728W</td>\n",
       "    </tr>\n",
       "  </tbody>\n",
       "</table>\n",
       "</div>"
      ],
      "text/plain": [
       "                       Timestamp  LocationLatitude  LocationLongitude  \\\n",
       "0  2019-11-02 00:09:29.386 +0300          24.54054          46.784737   \n",
       "1  2019-11-02 00:09:29.386 +0300          24.54054          46.784737   \n",
       "2  2019-11-02 00:10:45.323 +0300          24.54054          46.784737   \n",
       "3  2019-11-02 00:10:45.323 +0300          24.54054          46.784737   \n",
       "4  2019-11-02 00:11:26.822 +0300          24.54054          46.784737   \n",
       "\n",
       "  RadioConnectionType       Country RadioNetworkGeneration RadioOperatorName  \\\n",
       "0              Mobile  Saudi Arabia                     4G        Operator C   \n",
       "1              Mobile  Saudi Arabia                     4G        Operator C   \n",
       "2              Mobile  Saudi Arabia                     3G        Operator C   \n",
       "3              Mobile  Saudi Arabia                     3G        Operator C   \n",
       "4              Mobile  Saudi Arabia                     4G        Operator C   \n",
       "\n",
       "         RSRP RadioMobileDataEnabled DeviceManufacturer           DeviceName  \n",
       "0  2147483647                Enabled                HTC                D728W  \n",
       "1  2147483647                Enabled                HTC  Desire 728 Dual Sim  \n",
       "2  2147483647                Enabled                HTC                D728W  \n",
       "3  2147483647                Enabled                HTC  Desire 728 Dual Sim  \n",
       "4  2147483647                Enabled                HTC                D728W  "
      ]
     },
     "execution_count": 4,
     "metadata": {},
     "output_type": "execute_result"
    }
   ],
   "source": [
    "# Let Explore\n",
    "df.head()"
   ]
  },
  {
   "cell_type": "code",
   "execution_count": 5,
   "id": "6872af71-56a7-4f3c-8017-07d5de7d48dc",
   "metadata": {},
   "outputs": [
    {
     "data": {
      "text/html": [
       "<div>\n",
       "<style scoped>\n",
       "    .dataframe tbody tr th:only-of-type {\n",
       "        vertical-align: middle;\n",
       "    }\n",
       "\n",
       "    .dataframe tbody tr th {\n",
       "        vertical-align: top;\n",
       "    }\n",
       "\n",
       "    .dataframe thead th {\n",
       "        text-align: right;\n",
       "    }\n",
       "</style>\n",
       "<table border=\"1\" class=\"dataframe\">\n",
       "  <thead>\n",
       "    <tr style=\"text-align: right;\">\n",
       "      <th></th>\n",
       "      <th>Timestamp</th>\n",
       "      <th>LocationLatitude</th>\n",
       "      <th>LocationLongitude</th>\n",
       "      <th>RadioConnectionType</th>\n",
       "      <th>Country</th>\n",
       "      <th>RadioNetworkGeneration</th>\n",
       "      <th>RadioOperatorName</th>\n",
       "      <th>RSRP</th>\n",
       "      <th>RadioMobileDataEnabled</th>\n",
       "      <th>DeviceManufacturer</th>\n",
       "      <th>DeviceName</th>\n",
       "    </tr>\n",
       "  </thead>\n",
       "  <tbody>\n",
       "    <tr>\n",
       "      <th>2725348</th>\n",
       "      <td>2019-11-03 22:30:32.181 +0300</td>\n",
       "      <td>24.812230</td>\n",
       "      <td>46.752800</td>\n",
       "      <td>Mobile</td>\n",
       "      <td>Saudi Arabia</td>\n",
       "      <td>4G</td>\n",
       "      <td>Operator A</td>\n",
       "      <td>-81</td>\n",
       "      <td>Enabled</td>\n",
       "      <td>samsung</td>\n",
       "      <td>Galaxy A20S</td>\n",
       "    </tr>\n",
       "    <tr>\n",
       "      <th>2725349</th>\n",
       "      <td>2019-11-03 22:33:39.525 +0300</td>\n",
       "      <td>24.812230</td>\n",
       "      <td>46.752800</td>\n",
       "      <td>Mobile</td>\n",
       "      <td>Saudi Arabia</td>\n",
       "      <td>4G</td>\n",
       "      <td>Operator A</td>\n",
       "      <td>-90</td>\n",
       "      <td>Enabled</td>\n",
       "      <td>samsung</td>\n",
       "      <td>Galaxy A20S</td>\n",
       "    </tr>\n",
       "    <tr>\n",
       "      <th>2725350</th>\n",
       "      <td>2019-11-03 14:36:57.390 +0300</td>\n",
       "      <td>24.773191</td>\n",
       "      <td>46.654728</td>\n",
       "      <td>WiFi</td>\n",
       "      <td>Saudi Arabia</td>\n",
       "      <td>4G</td>\n",
       "      <td>Operator A</td>\n",
       "      <td>-99</td>\n",
       "      <td>Enabled</td>\n",
       "      <td>HUAWEI</td>\n",
       "      <td>Mate 8</td>\n",
       "    </tr>\n",
       "    <tr>\n",
       "      <th>2725351</th>\n",
       "      <td>2019-11-03 17:02:08.409 +0300</td>\n",
       "      <td>24.774273</td>\n",
       "      <td>46.773990</td>\n",
       "      <td>Mobile</td>\n",
       "      <td>Saudi Arabia</td>\n",
       "      <td>4G</td>\n",
       "      <td>Operator A</td>\n",
       "      <td>-111</td>\n",
       "      <td>Enabled</td>\n",
       "      <td>HUAWEI</td>\n",
       "      <td>Mate 8</td>\n",
       "    </tr>\n",
       "    <tr>\n",
       "      <th>2725352</th>\n",
       "      <td>2019-11-03 18:05:05.029 +0300</td>\n",
       "      <td>24.774136</td>\n",
       "      <td>46.774260</td>\n",
       "      <td>Mobile</td>\n",
       "      <td>Saudi Arabia</td>\n",
       "      <td>4G</td>\n",
       "      <td>Operator A</td>\n",
       "      <td>-88</td>\n",
       "      <td>Enabled</td>\n",
       "      <td>HUAWEI</td>\n",
       "      <td>Mate 8</td>\n",
       "    </tr>\n",
       "  </tbody>\n",
       "</table>\n",
       "</div>"
      ],
      "text/plain": [
       "                             Timestamp  LocationLatitude  LocationLongitude  \\\n",
       "2725348  2019-11-03 22:30:32.181 +0300         24.812230          46.752800   \n",
       "2725349  2019-11-03 22:33:39.525 +0300         24.812230          46.752800   \n",
       "2725350  2019-11-03 14:36:57.390 +0300         24.773191          46.654728   \n",
       "2725351  2019-11-03 17:02:08.409 +0300         24.774273          46.773990   \n",
       "2725352  2019-11-03 18:05:05.029 +0300         24.774136          46.774260   \n",
       "\n",
       "        RadioConnectionType       Country RadioNetworkGeneration  \\\n",
       "2725348              Mobile  Saudi Arabia                     4G   \n",
       "2725349              Mobile  Saudi Arabia                     4G   \n",
       "2725350                WiFi  Saudi Arabia                     4G   \n",
       "2725351              Mobile  Saudi Arabia                     4G   \n",
       "2725352              Mobile  Saudi Arabia                     4G   \n",
       "\n",
       "        RadioOperatorName  RSRP RadioMobileDataEnabled DeviceManufacturer  \\\n",
       "2725348        Operator A   -81                Enabled            samsung   \n",
       "2725349        Operator A   -90                Enabled            samsung   \n",
       "2725350        Operator A   -99                Enabled             HUAWEI   \n",
       "2725351        Operator A  -111                Enabled             HUAWEI   \n",
       "2725352        Operator A   -88                Enabled             HUAWEI   \n",
       "\n",
       "          DeviceName  \n",
       "2725348  Galaxy A20S  \n",
       "2725349  Galaxy A20S  \n",
       "2725350       Mate 8  \n",
       "2725351       Mate 8  \n",
       "2725352       Mate 8  "
      ]
     },
     "execution_count": 5,
     "metadata": {},
     "output_type": "execute_result"
    }
   ],
   "source": [
    "df.tail()"
   ]
  },
  {
   "cell_type": "code",
   "execution_count": 6,
   "id": "02202f97-013b-422e-a785-8816d7ac47ec",
   "metadata": {},
   "outputs": [
    {
     "name": "stdout",
     "output_type": "stream",
     "text": [
      "Total Number of Rows : 2725353\n",
      "Total Number of Features : 11\n"
     ]
    }
   ],
   "source": [
    "print(\"Total Number of Rows : {}\".format(df.shape[0]))\n",
    "print(\"Total Number of Features : {}\".format(df.shape[1]))"
   ]
  },
  {
   "cell_type": "code",
   "execution_count": 7,
   "id": "483ce38a-971b-43ab-989e-a712b2207741",
   "metadata": {},
   "outputs": [
    {
     "name": "stdout",
     "output_type": "stream",
     "text": [
      "###########################     Timestamp    ###########################\n",
      "['2019-11-02 00:09:29.386 +0300' '2019-11-02 00:10:45.323 +0300'\n",
      " '2019-11-02 00:11:26.822 +0300' ... '2019-11-03 14:36:57.390 +0300'\n",
      " '2019-11-03 17:02:08.409 +0300' '2019-11-03 18:05:05.029 +0300']\n",
      " \n",
      " \n",
      "###########################     LocationLatitude    ###########################\n",
      "[24.54054  24.691517 24.612879 ... 24.492819 24.492523 24.492239]\n",
      " \n",
      " \n",
      "###########################     LocationLongitude    ###########################\n",
      "[46.784737 46.65258  46.857464 ... 46.93801  46.93864  46.938698]\n",
      " \n",
      " \n",
      "###########################     RadioConnectionType    ###########################\n",
      "['Mobile' 'Unknown' 'WiFi']\n",
      " \n",
      " \n",
      "###########################     Country    ###########################\n",
      "['Saudi Arabia' nan]\n",
      " \n",
      " \n",
      "###########################     RadioNetworkGeneration    ###########################\n",
      "['4G' '3G' '2G' 'Unknown' 'WiFi']\n",
      " \n",
      " \n",
      "###########################     RadioOperatorName    ###########################\n",
      "['Operator C' 'Operator A' 'Operator B']\n",
      " \n",
      " \n",
      "###########################     RSRP    ###########################\n",
      "[2147483647        -94        -89       -104       -101       -103\n",
      "        -80        -75        -85        -73        -95       -100\n",
      "       -109        -92        -72        -82        -76        -69\n",
      "        -87        -78        -71        -74        -67        -68\n",
      "        -79        -81        -77        -66        -61        -97\n",
      "        -96        -98       -106        -93        -90        -91\n",
      "        -88        -99        -84        -86        -70        -83\n",
      "        -64        -62        -63        -65       -107        -59\n",
      "        -58        -60       -110       -111       -108       -117\n",
      "       -116       -115       -102       -112       -105        -44\n",
      "       -128       -119       -124       -123        -55        -54\n",
      "        -57       -118       -126        -56       -113          0\n",
      "        -53        -51       -120       -114       -122       -125\n",
      "       -129       -131       -121        -52        -49       -140\n",
      "        -48       -132       -133       -134        -47        -50\n",
      "       -136         12       -127       -130        -46        -45\n",
      "       -135       -138         -1]\n",
      " \n",
      " \n",
      "###########################     RadioMobileDataEnabled    ###########################\n",
      "['Enabled' 'Disabled']\n",
      " \n",
      " \n",
      "###########################     DeviceManufacturer    ###########################\n",
      "['HTC' 'HUAWEI' 'samsung' 'OPPO' 'OnePlus' 'Xiaomi' 'motorola'\n",
      " 'HMD Global' 'Sony' 'Hisense' 'LENOVO' 'Realme' 'LGE' 'ZTE' 'lenovo'\n",
      " 'htc' 'Lenovo' 'TCL' 'vivo' 'PANASONIC' 'OBI' 'SHARP' 'E1' 'realme'\n",
      " 'LAVA' 'Mione' 'LeEco' 'Infinix' 'QMobile']\n",
      " \n",
      " \n",
      "###########################     DeviceName    ###########################\n",
      "['D728W' 'Desire 728 Dual Sim' 'Huawei Y5 2019' 'Galaxy J6+' 'Galaxy S7'\n",
      " 'Galaxy S8+' 'Galaxy A50' 'Galaxy Note Fan Edition' 'Desire 10 Lifestyle'\n",
      " 'Galaxy A7(2016)' 'Galaxy A7(2017)' 'Galaxy Note9' 'Galaxy S7 Edge'\n",
      " 'Galaxy S8' 'Huawei P Smart Pro' 'Huawei Y9 Prime 2019' 'Huawei Y9S'\n",
      " 'Y9 Prime 2019' 'Galaxy J7 Neo' 'Reno' 'Oneplus 6' 'Galaxy Note4'\n",
      " 'Galaxy J7 Prime' 'Galaxy On Nxt' 'Poco F1' 'Huawei Nova 3I' 'Nova 3I'\n",
      " 'P20 Pro' 'P20Pro' 'Galaxy Note8' 'Galaxy S9+' 'Galaxy S5 Dual Sim'\n",
      " 'Galaxy S5' 'Galaxy A20' 'Galaxy On7 Prime' 'Galaxy J5 Prime'\n",
      " 'Galaxy S6 Edge' 'Galaxy A7 (2018)' 'Y6Ii' 'Moto E (4) Plus'\n",
      " 'Galaxy A30S' 'Galaxy S6 Edge+' 'Nokia 6' 'Nokia 7 Plus' 'Galaxy A30'\n",
      " 'Xperia Xa Ultra' 'Galaxy A20S' 'Motorola One' 'Galaxy S9' 'F7' 'U988'\n",
      " 'U988Ae' 'U988E-1' 'U988E-2' 'Huawei Mate 20 Pro' 'Mate 20 Pro'\n",
      " 'Mate 10 Lite' 'Galaxy Grand Prime Plus' 'Galaxy Note3' 'Desire 10 Pro'\n",
      " 'Y5 2017' 'P2' 'Mi A2 Lite' 'Y7' 'Galaxy J4' 'Htc One' 'One'\n",
      " 'One Google Play Edition' 'Huawei P Smart 2019' 'Realme X青春版'\n",
      " 'Realme 3Pro' 'Nokia 8' 'Vibe K6 Note' 'Huawei Y9 2019' 'Mate 8'\n",
      " 'Galaxy A10' 'Galaxy S10+' 'Nokia 3.2' 'Galaxy J6' 'Nokia 2.2'\n",
      " 'Nokia 6.2' 'Lg K10 Lte' 'Galaxy Grand Neo Plus' 'Redmi 5 Plus' 'Bolton'\n",
      " 'Honor 10 Lite' 'Galaxy S10' 'Galaxy J8' 'Galaxy J7' 'Lenovo K8 Note'\n",
      " 'Oneplus6T' 'Desire 12+' 'Galaxy A70' 'Redmi Note 7 Pro' 'Huawei Y7 2018'\n",
      " 'Huawei Y7 Prime 2018' 'Galaxy Note5' 'Galaxy A10S' 'Xperia L1' 'Mix 2'\n",
      " 'Xperia X Compact' 'K5 Note' 'Lg K10 Power' 'Lg X Charge' 'Lg X500'\n",
      " 'Galaxy A51' 'Tab 2 A7-30Hc' 'Galaxy J4+' 'Redmi Note 5'\n",
      " 'Redmi Note 5 Pro' '0Pk72' 'One M9+' 'One M9Plus' 'Alcatel 3X'\n",
      " 'Huawei P Smart' 'U Ultra' 'Galaxy Grand2' 'Galaxy On7(2016)'\n",
      " 'Galaxy A5(2017)' 'Desire 12' 'Galaxy A3(2017)' 'Realme 2 Pro'\n",
      " 'Galaxy J7(2016)' 'Galaxy Grand Prime' 'Galaxy J2 Pro' 'Galaxy J2(2016)'\n",
      " 'M10' 'Huawei Nova 2 Plus' 'Vivo 1806' 'Xperia Z2' 'Vivo 1611'\n",
      " 'Galaxy J2 Prime' 'Galaxy A6+' 'Desire 628 Dual Sim'\n",
      " 'Htc Desire 628 Dual Sim' 'Lg K10 (2017)' 'Nokia 3'\n",
      " 'Galaxy Grand Prime Pro' 'Galaxy J2' 'Moto G (5S) Plus' 'Galaxy M30S'\n",
      " 'Desire 830 Dual Sim' 'Galaxy J3(2017)' 'Nokia 5' 'Huawei P30 Lite'\n",
      " 'Honor 10I' 'Alcatel 3' 'Honor 8' 'U11' 'Xperia Xz Premium'\n",
      " 'Galaxy Note10' 'Reno2 Z' 'Lg G4' 'Nokia 6.1 Plus' 'Htc U11+'\n",
      " 'Galaxy A9 (2018)' 'Redmi Note 7' 'Galaxy S4' 'Galaxy A80' 'Galaxy A5'\n",
      " 'Galaxy J5' 'S90-A' 'Mate 10 Pro' 'Honor 9A' 'Huawei Y7 2019'\n",
      " 'Huawei Y7S' 'Y7 Prime 2019' 'Redmi Note 8' 'Nova 3' 'Galaxy J7 Max'\n",
      " 'Xperia X' 'Eluga Arc 2' 'Galaxy Note3 Neo' 'Galaxy S6' 'Galaxy A5(2016)'\n",
      " 'Motorola One Vision' 'Galaxy A8+(2018)' 'Galaxy J3(2016)' 'Nokia 6.1'\n",
      " 'Xperia Xa1' 'Galaxy A6' 'M9' 'One M9' 'Desire 828 Dual Sim'\n",
      " 'Galaxy A8(2018)' 'Honor 8X' 'Lg G6' 'Eluga A4' 'Desire 12S' 'Mi A1'\n",
      " 'P8 Lite' 'Galaxy Note10+' 'Oneplus 7' 'Oneplus5T' 'Mi 9T' 'Redmi K20'\n",
      " 'Z6' 'Z6 Pro' 'Pocofone F1' 'Mi 9' 'Lenovo K10' 'P70' 'Mi A3'\n",
      " 'Lenovo Phab2' 'Xperia Xa1 Ultra' 'Redmi 6' 'V10' 'Galaxy Note Edge'\n",
      " 'Redmi Note 6 Pro' 'Honor 7A' 'Honor 7S' 'Honor 8A Pro' 'Huawei Y6S'\n",
      " 'Honor 8A' 'Huawei Mediapad M3 Lite' 'Nokia 5.1 Plus' 'U12+' 'Moto C'\n",
      " 'Y6 Pro' 'Mi A2' 'Lenovo Vibe P1M' 'Huawei Gr5 2017' 'Ax7' 'Cph1903'\n",
      " 'Galaxy C9 Pro' 'F9' 'Honor View20' 'Alcatel 1X' 'Honor 9X Lite'\n",
      " 'Lg Stylo 2' 'P9' 'Lenovo A6 Note' 'Lenovo K10 Plus' 'Galaxy J2 Core'\n",
      " 'Xperia Xa2 Ultra' 'Huawei P30' 'Huawei Y6 2019' 'Mv1' 'Lg G5'\n",
      " 'Lg X Power' 'F11 Pro' 'Disney Mobile On Docomo Dm-01J' 'Huawei Y9 2018'\n",
      " 'Mi Max 2' 'Vibe X3 Lite' 'Galaxy J3 Pro' 'E1' 'Honor 8S' 'Lg Q6'\n",
      " 'Oneplus5' 'Redmi Note 8 Pro' 'D626Q' 'Desire 626 Dual Sim' 'Honor 6X'\n",
      " 'Vibe K10' 'Duraforce Pro' 'Xperia Z5 Premium Dual' 'Nokia 7.1'\n",
      " 'Redmi 6A' 'Realme 5Pro' 'Realme Q' 'Xperia Z5 Dual' 'Dav' 'P8Max'\n",
      " 'A2020A40' 'Mediapad 7 Youth2' 'Galaxy J1 Ace' 'Eluga Mark 2' 'Sm-J327F'\n",
      " 'Mediapad M3 Lite 10' 'Lg Stylus 2' 'Lg Stylus2' 'P1' 'Redmi Note 5A'\n",
      " 'Mate 7' 'Galaxy J7 Pro' 'Redmi S2' 'Iris50' 'Iris50C'\n",
      " 'Motorola One Macro' 'Xperia Xz2' 'Mix Mini' 'Droid Turbo 2' 'A7000'\n",
      " 'A7000 Plus' 'Lex820' 'X552' 'X552-C1' 'X552-E1' 'X552-F1' 'Z12'\n",
      " 'Galaxy M20']\n",
      " \n",
      " \n"
     ]
    }
   ],
   "source": [
    "# Show uniqe values of each column\n",
    "for i in range(df.shape[1]):\n",
    "    print(\"###########################     {}    ###########################\".format(df.columns[i]))\n",
    "    print(df.iloc[:,i].unique())\n",
    "    print(\" \")\n",
    "    print(\" \")"
   ]
  },
  {
   "cell_type": "code",
   "execution_count": 8,
   "id": "658f6198-6813-462a-bec1-6454dee2d795",
   "metadata": {},
   "outputs": [
    {
     "name": "stdout",
     "output_type": "stream",
     "text": [
      "<class 'pandas.core.frame.DataFrame'>\n",
      "RangeIndex: 2725353 entries, 0 to 2725352\n",
      "Data columns (total 11 columns):\n",
      " #   Column                  Dtype  \n",
      "---  ------                  -----  \n",
      " 0   Timestamp               object \n",
      " 1   LocationLatitude        float64\n",
      " 2   LocationLongitude       float64\n",
      " 3   RadioConnectionType     object \n",
      " 4   Country                 object \n",
      " 5   RadioNetworkGeneration  object \n",
      " 6   RadioOperatorName       object \n",
      " 7   RSRP                    int64  \n",
      " 8   RadioMobileDataEnabled  object \n",
      " 9   DeviceManufacturer      object \n",
      " 10  DeviceName              object \n",
      "dtypes: float64(2), int64(1), object(8)\n",
      "memory usage: 228.7+ MB\n"
     ]
    }
   ],
   "source": [
    "df.info()"
   ]
  },
  {
   "cell_type": "code",
   "execution_count": null,
   "id": "9ba78d42-fa4b-400f-8180-4c3ba65c554a",
   "metadata": {},
   "outputs": [
    {
     "data": {
      "text/html": [
       "<div>\n",
       "<style scoped>\n",
       "    .dataframe tbody tr th:only-of-type {\n",
       "        vertical-align: middle;\n",
       "    }\n",
       "\n",
       "    .dataframe tbody tr th {\n",
       "        vertical-align: top;\n",
       "    }\n",
       "\n",
       "    .dataframe thead th {\n",
       "        text-align: right;\n",
       "    }\n",
       "</style>\n",
       "<table border=\"1\" class=\"dataframe\">\n",
       "  <thead>\n",
       "    <tr style=\"text-align: right;\">\n",
       "      <th></th>\n",
       "      <th>Timestamp</th>\n",
       "    </tr>\n",
       "  </thead>\n",
       "  <tbody>\n",
       "    <tr>\n",
       "      <th>522</th>\n",
       "      <td>2019-11-02 00:22:37.206 +0600</td>\n",
       "    </tr>\n",
       "    <tr>\n",
       "      <th>523</th>\n",
       "      <td>2019-11-02 00:28:59.813 +0300</td>\n",
       "    </tr>\n",
       "  </tbody>\n",
       "</table>\n",
       "</div>"
      ],
      "text/plain": [
       "                         Timestamp\n",
       "522  2019-11-02 00:22:37.206 +0600\n",
       "523  2019-11-02 00:28:59.813 +0300"
      ]
     },
     "execution_count": 9,
     "metadata": {},
     "output_type": "execute_result"
    }
   ],
   "source": [
    "# Different time zone lead to dtype become object instead of datetime and Saudi Arabia have one time zone '+3'\n",
    "temp = pd.DataFrame(df['Timestamp'].loc[522:523])\n",
    "temp"
   ]
  },
  {
   "cell_type": "code",
   "execution_count": 10,
   "id": "856e317b-ecdf-4ae6-97dd-753feb437663",
   "metadata": {},
   "outputs": [
    {
     "data": {
      "text/html": [
       "<div>\n",
       "<style scoped>\n",
       "    .dataframe tbody tr th:only-of-type {\n",
       "        vertical-align: middle;\n",
       "    }\n",
       "\n",
       "    .dataframe tbody tr th {\n",
       "        vertical-align: top;\n",
       "    }\n",
       "\n",
       "    .dataframe thead th {\n",
       "        text-align: right;\n",
       "    }\n",
       "</style>\n",
       "<table border=\"1\" class=\"dataframe\">\n",
       "  <thead>\n",
       "    <tr style=\"text-align: right;\">\n",
       "      <th></th>\n",
       "      <th>Total</th>\n",
       "      <th>Percent</th>\n",
       "    </tr>\n",
       "  </thead>\n",
       "  <tbody>\n",
       "    <tr>\n",
       "      <th>Country</th>\n",
       "      <td>156</td>\n",
       "      <td>0.000057</td>\n",
       "    </tr>\n",
       "    <tr>\n",
       "      <th>Timestamp</th>\n",
       "      <td>0</td>\n",
       "      <td>0.000000</td>\n",
       "    </tr>\n",
       "    <tr>\n",
       "      <th>LocationLatitude</th>\n",
       "      <td>0</td>\n",
       "      <td>0.000000</td>\n",
       "    </tr>\n",
       "    <tr>\n",
       "      <th>LocationLongitude</th>\n",
       "      <td>0</td>\n",
       "      <td>0.000000</td>\n",
       "    </tr>\n",
       "    <tr>\n",
       "      <th>RadioConnectionType</th>\n",
       "      <td>0</td>\n",
       "      <td>0.000000</td>\n",
       "    </tr>\n",
       "    <tr>\n",
       "      <th>RadioNetworkGeneration</th>\n",
       "      <td>0</td>\n",
       "      <td>0.000000</td>\n",
       "    </tr>\n",
       "    <tr>\n",
       "      <th>RadioOperatorName</th>\n",
       "      <td>0</td>\n",
       "      <td>0.000000</td>\n",
       "    </tr>\n",
       "    <tr>\n",
       "      <th>RSRP</th>\n",
       "      <td>0</td>\n",
       "      <td>0.000000</td>\n",
       "    </tr>\n",
       "    <tr>\n",
       "      <th>RadioMobileDataEnabled</th>\n",
       "      <td>0</td>\n",
       "      <td>0.000000</td>\n",
       "    </tr>\n",
       "    <tr>\n",
       "      <th>DeviceManufacturer</th>\n",
       "      <td>0</td>\n",
       "      <td>0.000000</td>\n",
       "    </tr>\n",
       "    <tr>\n",
       "      <th>DeviceName</th>\n",
       "      <td>0</td>\n",
       "      <td>0.000000</td>\n",
       "    </tr>\n",
       "  </tbody>\n",
       "</table>\n",
       "</div>"
      ],
      "text/plain": [
       "                        Total   Percent\n",
       "Country                   156  0.000057\n",
       "Timestamp                   0  0.000000\n",
       "LocationLatitude            0  0.000000\n",
       "LocationLongitude           0  0.000000\n",
       "RadioConnectionType         0  0.000000\n",
       "RadioNetworkGeneration      0  0.000000\n",
       "RadioOperatorName           0  0.000000\n",
       "RSRP                        0  0.000000\n",
       "RadioMobileDataEnabled      0  0.000000\n",
       "DeviceManufacturer          0  0.000000\n",
       "DeviceName                  0  0.000000"
      ]
     },
     "execution_count": 10,
     "metadata": {},
     "output_type": "execute_result"
    }
   ],
   "source": [
    "# Missing Values\n",
    "total = df.isnull().sum().sort_values(ascending=False)\n",
    "percent = (df.isnull().sum()/df.isnull().count()).sort_values(ascending=False)\n",
    "missing_data = pd.concat([total, percent], axis=1, keys=['Total', 'Percent'])\n",
    "missing_data.head(25)"
   ]
  },
  {
   "cell_type": "code",
   "execution_count": 11,
   "id": "70b4a8af-52e8-45fb-bf04-9a39335e8cdf",
   "metadata": {},
   "outputs": [
    {
     "name": "stdout",
     "output_type": "stream",
     "text": [
      "Timestamp : 0\n",
      "LocationLatitude : 0\n",
      "LocationLongitude : 0\n",
      "RadioConnectionType : 668\n",
      "Country : 0\n",
      "RadioNetworkGeneration : 17361\n",
      "RadioOperatorName : 0\n",
      "RSRP : 0\n",
      "RadioMobileDataEnabled : 0\n",
      "DeviceManufacturer : 0\n",
      "DeviceName : 0\n"
     ]
    }
   ],
   "source": [
    "#Count of rows that contain value 'Unknown'\n",
    "for column in df.columns:\n",
    "    print('{} : '.format(column) + str(sum(df[column] == 'Unknown')))"
   ]
  },
  {
   "cell_type": "code",
   "execution_count": 12,
   "id": "daacc7b6-f4fb-4439-b4a3-a107c6049d4a",
   "metadata": {},
   "outputs": [
    {
     "data": {
      "text/html": [
       "<div>\n",
       "<style scoped>\n",
       "    .dataframe tbody tr th:only-of-type {\n",
       "        vertical-align: middle;\n",
       "    }\n",
       "\n",
       "    .dataframe tbody tr th {\n",
       "        vertical-align: top;\n",
       "    }\n",
       "\n",
       "    .dataframe thead th {\n",
       "        text-align: right;\n",
       "    }\n",
       "</style>\n",
       "<table border=\"1\" class=\"dataframe\">\n",
       "  <thead>\n",
       "    <tr style=\"text-align: right;\">\n",
       "      <th></th>\n",
       "      <th>Unique Count</th>\n",
       "      <th>Duplicate Count</th>\n",
       "      <th>Unique percent</th>\n",
       "      <th>Duplicate Percent</th>\n",
       "    </tr>\n",
       "  </thead>\n",
       "  <tbody>\n",
       "    <tr>\n",
       "      <th>0</th>\n",
       "      <td>2723541</td>\n",
       "      <td>1812</td>\n",
       "      <td>99.933513</td>\n",
       "      <td>0.066487</td>\n",
       "    </tr>\n",
       "  </tbody>\n",
       "</table>\n",
       "</div>"
      ],
      "text/plain": [
       "   Unique Count  Duplicate Count  Unique percent  Duplicate Percent\n",
       "0       2723541             1812       99.933513           0.066487"
      ]
     },
     "execution_count": 12,
     "metadata": {},
     "output_type": "execute_result"
    }
   ],
   "source": [
    "#check duplicate rows\n",
    "def check_duplicate(data):\n",
    "    duplicate = data.duplicated()\n",
    "    unique_data  = pd.Series(data.shape[0] - duplicate.value_counts()[1])\n",
    "    duplicate_data = pd.Series(data.shape[0] - duplicate.value_counts()[0])\n",
    "    unique_data_percent = pd.Series((unique_data/data.shape[0])*100)\n",
    "    duplicate_data_percent = pd.Series((duplicate_data/data.shape[0])*100)\n",
    "    dub = pd.concat([unique_data, duplicate_data,unique_data_percent,duplicate_data_percent], axis=1, keys=['Unique Count', 'Duplicate Count','Unique percent','Duplicate Percent'])\n",
    "    return dub\n",
    "\n",
    "check_duplicate(df)"
   ]
  },
  {
   "cell_type": "code",
   "execution_count": 13,
   "id": "97779bf3-3331-4da2-99c5-8ff22352df29",
   "metadata": {},
   "outputs": [
    {
     "data": {
      "text/plain": [
       "<AxesSubplot:>"
      ]
     },
     "execution_count": 13,
     "metadata": {},
     "output_type": "execute_result"
    },
    {
     "data": {
      "image/png": "[encoded data removed]",
      "text/plain": [
       "<Figure size 432x288 with 1 Axes>"
      ]
     },
     "metadata": {
      "needs_background": "light"
     },
     "output_type": "display_data"
    }
   ],
   "source": [
    "df.boxplot()"
   ]
  },
  {
   "cell_type": "code",
   "execution_count": 14,
   "id": "63bd2b02-bc31-4120-9f77-2e308480346f",
   "metadata": {},
   "outputs": [
    {
     "data": {
      "image/png": "[encoded data removed]",
      "text/plain": [
       "<Figure size 432x288 with 1 Axes>"
      ]
     },
     "metadata": {
      "needs_background": "light"
     },
     "output_type": "display_data"
    },
    {
     "data": {
      "text/plain": [
       "<Figure size 720x720 with 0 Axes>"
      ]
     },
     "metadata": {},
     "output_type": "display_data"
    }
   ],
   "source": [
    "plt.boxplot(df['RSRP'])\n",
    "plt.yscale('symlog')\n",
    "plt.figure(figsize=(10,10))\n",
    "plt.show()"
   ]
  },
  {
   "cell_type": "code",
   "execution_count": 20,
   "id": "6eec06e2-2a39-4638-a005-6016cb5d91ec",
   "metadata": {},
   "outputs": [
    {
     "name": "stdout",
     "output_type": "stream",
     "text": [
      "Data points considered outliers for the feature 'RSRP':\n",
      "\n",
      "[2147483647          0       -131       -140       -132       -133\n",
      "       -134       -136         12       -130       -135       -138\n",
      "         -1]\n",
      "\n",
      "Number of total outliers : 644457 \n"
     ]
    }
   ],
   "source": [
    "# Calculate Q1 (25th percentile of the data) for the given feature\n",
    "Q1 = np.percentile(df['RSRP'], 25)\n",
    "\n",
    "# Calculate Q3 (75th percentile of the data) for the given feature\n",
    "Q3 = np.percentile(df['RSRP'], 75)\n",
    "\n",
    "# Use the interquartile range to calculate an outlier step (1.5 times the interquartile range)\n",
    "step = 1.5 * (Q3 - Q1)\n",
    "\n",
    "# Display the outliers\n",
    "print (\"Data points considered outliers for the feature '{}':\".format('RSRP'))\n",
    "feature_outliers = df[~((df['RSRP']>= Q1 - step) & (df['RSRP'] <= Q3 + step))]\n",
    "print(\"\")\n",
    "print(feature_outliers['RSRP'].unique())\n",
    "print(\"\")\n",
    "print(\"Number of total outliers : {} \".format(feature_outliers['RSRP'].shape[0]))"
   ]
  },
  {
   "cell_type": "markdown",
   "id": "ec51c0f7-d115-4936-b1f3-84a9671f4fa1",
   "metadata": {},
   "source": [
    "# Conclusion and Recommended actions"
   ]
  },
  {
   "cell_type": "markdown",
   "id": "f33016e1-c517-4004-a37b-f6bff4e4aa0b",
   "metadata": {},
   "source": [
    "- Convert Timestamp to datetime instead of object\n",
    "- there are 156 blank value in country column should imputed by 'Saudi Arabia' \n",
    "- there are 668 Unknown value in RadioConnectionType column\n",
    "- there are 17361 Unknown value in RadioNetworkGeneration column\n",
    "- there are 1812 Duplicate rows should be dropped\n",
    "- RSRP Column has outliers values should deal with them"
   ]
  },
  {
   "cell_type": "code",
   "execution_count": null,
   "id": "eca23ac4-a996-461d-8010-3d468e630a21",
   "metadata": {},
   "outputs": [],
   "source": []
  }
 ],
 "metadata": {
  "kernelspec": {
   "display_name": "Python 3 (ipykernel)",
   "language": "python",
   "name": "python3"
  },
  "language_info": {
   "codemirror_mode": {
    "name": "ipython",
    "version": 3
   },
   "file_extension": ".py",
   "mimetype": "text/x-python",
   "name": "python",
   "nbconvert_exporter": "python",
   "pygments_lexer": "ipython3",
   "version": "3.9.7"
  }
 },
 "nbformat": 4,
 "nbformat_minor": 5
}
