{
 "cells": [
  {
   "cell_type": "markdown",
   "id": "0e7d5459-3656-42ec-801b-17643d657a77",
   "metadata": {},
   "source": [
    "## Actions\n",
    "- Convert Timestamp to datetime instead of object **Done**\n",
    "- there are 2 Unknown value in RadioNetworkGeneration column **Leave to Modeling Phase**\n",
    "- there are 30 Duplicate rows should be dropped **Done**"
   ]
  },
  {
   "cell_type": "code",
   "execution_count": 1,
   "id": "3e428e84-ee3e-4b09-85ac-0ca42abf83b5",
   "metadata": {},
   "outputs": [],
   "source": [
    "# Setup Libraries\n",
    "import pandas as pd\n",
    "import numpy as np\n",
    "import re"
   ]
  },
  {
   "cell_type": "code",
   "execution_count": 2,
   "id": "5edfd3a8-7d6f-4396-b8bc-04de38843be5",
   "metadata": {},
   "outputs": [],
   "source": [
    "# Setup Dataset Path\n",
    "DATA_PATH = '../data/raw/TrafficVolume.csv'"
   ]
  },
  {
   "cell_type": "code",
   "execution_count": 3,
   "id": "cf2a3b1f-2850-4d5e-8c59-7706b23a7230",
   "metadata": {},
   "outputs": [],
   "source": [
    "# load Data\n",
    "df = pd.read_csv(DATA_PATH)"
   ]
  },
  {
   "cell_type": "markdown",
   "id": "24753ad2-7928-4212-8845-f2e2bcdf12db",
   "metadata": {},
   "source": [
    "#### Convert Timestamp to datetime instead of object"
   ]
  },
  {
   "cell_type": "code",
   "execution_count": 4,
   "id": "04123dc4-d086-4be0-a945-bcf95a3ab9c9",
   "metadata": {},
   "outputs": [
    {
     "name": "stdout",
     "output_type": "stream",
     "text": [
      "(80, 10)\n"
     ]
    },
    {
     "data": {
      "text/html": [
       "<div>\n",
       "<style scoped>\n",
       "    .dataframe tbody tr th:only-of-type {\n",
       "        vertical-align: middle;\n",
       "    }\n",
       "\n",
       "    .dataframe tbody tr th {\n",
       "        vertical-align: top;\n",
       "    }\n",
       "\n",
       "    .dataframe thead th {\n",
       "        text-align: right;\n",
       "    }\n",
       "</style>\n",
       "<table border=\"1\" class=\"dataframe\">\n",
       "  <thead>\n",
       "    <tr style=\"text-align: right;\">\n",
       "      <th></th>\n",
       "      <th>Timestamp</th>\n",
       "      <th>LocationLatitude</th>\n",
       "      <th>LocationLongitude</th>\n",
       "      <th>RadioConnectionType</th>\n",
       "      <th>Country</th>\n",
       "      <th>RadioNetworkGeneration</th>\n",
       "      <th>RadioOperatorName</th>\n",
       "      <th>TrafficDirection</th>\n",
       "      <th>TrafficVolume</th>\n",
       "      <th>RadioMobileDataEnabled</th>\n",
       "    </tr>\n",
       "  </thead>\n",
       "  <tbody>\n",
       "    <tr>\n",
       "      <th>0</th>\n",
       "      <td>00:00.0</td>\n",
       "      <td>24.58759</td>\n",
       "      <td>46.606747</td>\n",
       "      <td>Mobile</td>\n",
       "      <td>Saudi Arabia</td>\n",
       "      <td>4G</td>\n",
       "      <td>Operator A</td>\n",
       "      <td>Downlink</td>\n",
       "      <td>21.853164</td>\n",
       "      <td>Enabled</td>\n",
       "    </tr>\n",
       "    <tr>\n",
       "      <th>1</th>\n",
       "      <td>00:00.0</td>\n",
       "      <td>24.58759</td>\n",
       "      <td>46.606747</td>\n",
       "      <td>Mobile</td>\n",
       "      <td>Saudi Arabia</td>\n",
       "      <td>4G</td>\n",
       "      <td>Operator A</td>\n",
       "      <td>Uplink</td>\n",
       "      <td>0.158825</td>\n",
       "      <td>Enabled</td>\n",
       "    </tr>\n",
       "  </tbody>\n",
       "</table>\n",
       "</div>"
      ],
      "text/plain": [
       "  Timestamp  LocationLatitude  LocationLongitude RadioConnectionType  \\\n",
       "0   00:00.0          24.58759          46.606747              Mobile   \n",
       "1   00:00.0          24.58759          46.606747              Mobile   \n",
       "\n",
       "        Country RadioNetworkGeneration RadioOperatorName TrafficDirection  \\\n",
       "0  Saudi Arabia                     4G        Operator A         Downlink   \n",
       "1  Saudi Arabia                     4G        Operator A           Uplink   \n",
       "\n",
       "   TrafficVolume RadioMobileDataEnabled  \n",
       "0      21.853164                Enabled  \n",
       "1       0.158825                Enabled  "
      ]
     },
     "execution_count": 4,
     "metadata": {},
     "output_type": "execute_result"
    }
   ],
   "source": [
    "#there is no Date in below rows we will drop them in next phase which be blank values as a result of regex\n",
    "df_00 = df[df['Timestamp']=='00:00.0']\n",
    "df_15 = df[df['Timestamp']=='15:00.0']\n",
    "df_30 = df[df['Timestamp']=='30:00.0']\n",
    "df_45 = df[df['Timestamp']=='45:00.0']\n",
    "df_converted = df_00.append(df_15, ignore_index = True)\n",
    "df_converted = df_converted.append(df_30, ignore_index = True)\n",
    "df_converted = df_converted.append(df_45, ignore_index = True)\n",
    "print(df_converted.shape)\n",
    "df_converted.head(2)"
   ]
  },
  {
   "cell_type": "code",
   "execution_count": 5,
   "id": "071b3377-aaba-4691-95f2-08ae438f9428",
   "metadata": {},
   "outputs": [],
   "source": [
    "def TimeStamp_Parser(TimeStampValue):\n",
    "    return re.findall(r'\\d{4}-\\d?\\d-\\d?\\d (?:2[0-3]|[01]?[0-9]):[0-5]?[0-9]:[0-5]?[0-9]', TimeStampValue)"
   ]
  },
  {
   "cell_type": "code",
   "execution_count": 6,
   "id": "843bca67-8c7f-4faa-a4ed-e8a6ac3e8dac",
   "metadata": {},
   "outputs": [
    {
     "name": "stdout",
     "output_type": "stream",
     "text": [
      "<class 'pandas.core.frame.DataFrame'>\n",
      "RangeIndex: 138469 entries, 0 to 138468\n",
      "Data columns (total 10 columns):\n",
      " #   Column                  Non-Null Count   Dtype         \n",
      "---  ------                  --------------   -----         \n",
      " 0   Timestamp               138389 non-null  datetime64[ns]\n",
      " 1   LocationLatitude        138469 non-null  float64       \n",
      " 2   LocationLongitude       138469 non-null  float64       \n",
      " 3   RadioConnectionType     138469 non-null  object        \n",
      " 4   Country                 138469 non-null  object        \n",
      " 5   RadioNetworkGeneration  138469 non-null  object        \n",
      " 6   RadioOperatorName       138469 non-null  object        \n",
      " 7   TrafficDirection        138469 non-null  object        \n",
      " 8   TrafficVolume           138469 non-null  float64       \n",
      " 9   RadioMobileDataEnabled  138469 non-null  object        \n",
      "dtypes: datetime64[ns](1), float64(3), object(6)\n",
      "memory usage: 10.6+ MB\n"
     ]
    }
   ],
   "source": [
    "df['Timestamp'] = pd.to_datetime(df['Timestamp'].apply(lambda x: TimeStamp_Parser(x)).str[0])\n",
    "df.info()"
   ]
  },
  {
   "cell_type": "code",
   "execution_count": 12,
   "id": "6f0c1d04-9694-4a8a-b79c-4349e479418b",
   "metadata": {},
   "outputs": [
    {
     "data": {
      "text/html": [
       "<div>\n",
       "<style scoped>\n",
       "    .dataframe tbody tr th:only-of-type {\n",
       "        vertical-align: middle;\n",
       "    }\n",
       "\n",
       "    .dataframe tbody tr th {\n",
       "        vertical-align: top;\n",
       "    }\n",
       "\n",
       "    .dataframe thead th {\n",
       "        text-align: right;\n",
       "    }\n",
       "</style>\n",
       "<table border=\"1\" class=\"dataframe\">\n",
       "  <thead>\n",
       "    <tr style=\"text-align: right;\">\n",
       "      <th></th>\n",
       "      <th>Total</th>\n",
       "      <th>Percent</th>\n",
       "    </tr>\n",
       "  </thead>\n",
       "  <tbody>\n",
       "    <tr>\n",
       "      <th>Timestamp</th>\n",
       "      <td>80</td>\n",
       "      <td>0.000578</td>\n",
       "    </tr>\n",
       "    <tr>\n",
       "      <th>LocationLatitude</th>\n",
       "      <td>0</td>\n",
       "      <td>0.000000</td>\n",
       "    </tr>\n",
       "    <tr>\n",
       "      <th>LocationLongitude</th>\n",
       "      <td>0</td>\n",
       "      <td>0.000000</td>\n",
       "    </tr>\n",
       "    <tr>\n",
       "      <th>RadioConnectionType</th>\n",
       "      <td>0</td>\n",
       "      <td>0.000000</td>\n",
       "    </tr>\n",
       "    <tr>\n",
       "      <th>Country</th>\n",
       "      <td>0</td>\n",
       "      <td>0.000000</td>\n",
       "    </tr>\n",
       "    <tr>\n",
       "      <th>RadioNetworkGeneration</th>\n",
       "      <td>0</td>\n",
       "      <td>0.000000</td>\n",
       "    </tr>\n",
       "    <tr>\n",
       "      <th>RadioOperatorName</th>\n",
       "      <td>0</td>\n",
       "      <td>0.000000</td>\n",
       "    </tr>\n",
       "    <tr>\n",
       "      <th>TrafficDirection</th>\n",
       "      <td>0</td>\n",
       "      <td>0.000000</td>\n",
       "    </tr>\n",
       "    <tr>\n",
       "      <th>TrafficVolume</th>\n",
       "      <td>0</td>\n",
       "      <td>0.000000</td>\n",
       "    </tr>\n",
       "    <tr>\n",
       "      <th>RadioMobileDataEnabled</th>\n",
       "      <td>0</td>\n",
       "      <td>0.000000</td>\n",
       "    </tr>\n",
       "  </tbody>\n",
       "</table>\n",
       "</div>"
      ],
      "text/plain": [
       "                        Total   Percent\n",
       "Timestamp                  80  0.000578\n",
       "LocationLatitude            0  0.000000\n",
       "LocationLongitude           0  0.000000\n",
       "RadioConnectionType         0  0.000000\n",
       "Country                     0  0.000000\n",
       "RadioNetworkGeneration      0  0.000000\n",
       "RadioOperatorName           0  0.000000\n",
       "TrafficDirection            0  0.000000\n",
       "TrafficVolume               0  0.000000\n",
       "RadioMobileDataEnabled      0  0.000000"
      ]
     },
     "execution_count": 12,
     "metadata": {},
     "output_type": "execute_result"
    }
   ],
   "source": [
    "# Missing Values\n",
    "total = df.isnull().sum().sort_values(ascending=False)\n",
    "percent = (df.isnull().sum()/df.isnull().count()).sort_values(ascending=False)\n",
    "missing_data = pd.concat([total, percent], axis=1, keys=['Total', 'Percent'])\n",
    "missing_data.head(25)"
   ]
  },
  {
   "cell_type": "code",
   "execution_count": 13,
   "id": "e617614b-7ef5-4207-896f-e2cc4befff7b",
   "metadata": {},
   "outputs": [],
   "source": [
    "df.dropna(inplace=True)"
   ]
  },
  {
   "cell_type": "markdown",
   "id": "262e8315-8d81-4a94-8403-b73d1ff2b558",
   "metadata": {},
   "source": [
    "#### there are 1812 Duplicate rows should be dropped"
   ]
  },
  {
   "cell_type": "code",
   "execution_count": 16,
   "id": "94db7d72-66f2-4f21-95a9-8f260d91fac1",
   "metadata": {},
   "outputs": [],
   "source": [
    "df.drop_duplicates(inplace=True)"
   ]
  },
  {
   "cell_type": "markdown",
   "id": "35162598-e3bb-4d93-843c-ca81f98fa30b",
   "metadata": {},
   "source": [
    "#### Save File to parquet file"
   ]
  },
  {
   "cell_type": "code",
   "execution_count": 17,
   "id": "0ac44fef-8f68-4a34-9bad-57bc8bcd100a",
   "metadata": {},
   "outputs": [],
   "source": [
    "df.to_parquet(\"../data/processed/TrafficVolume_processed.parquet\")"
   ]
  },
  {
   "cell_type": "code",
   "execution_count": null,
   "id": "764c5374-9abb-4ea8-8d06-1fd0169ef706",
   "metadata": {},
   "outputs": [],
   "source": []
  }
 ],
 "metadata": {
  "kernelspec": {
   "display_name": "Python 3 (ipykernel)",
   "language": "python",
   "name": "python3"
  },
  "language_info": {
   "codemirror_mode": {
    "name": "ipython",
    "version": 3
   },
   "file_extension": ".py",
   "mimetype": "text/x-python",
   "name": "python",
   "nbconvert_exporter": "python",
   "pygments_lexer": "ipython3",
   "version": "3.9.7"
  }
 },
 "nbformat": 4,
 "nbformat_minor": 5
}
