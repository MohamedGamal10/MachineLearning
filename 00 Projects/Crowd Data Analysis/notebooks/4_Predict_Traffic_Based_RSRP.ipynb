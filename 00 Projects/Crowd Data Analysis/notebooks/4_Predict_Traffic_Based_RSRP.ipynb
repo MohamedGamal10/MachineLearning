{
 "cells": [
  {
   "cell_type": "markdown",
   "id": "51a0c13e-be8b-4877-8c9a-83c978c0dc28",
   "metadata": {},
   "source": [
    "## Predict Traffic Based RSRP\n",
    "**Imagine you are running a conversation with one of the operators whose data is in the dataset provided. The discussion is referring to any polygon of your choice that’s at least 10km x 10km size and has enough data samples. Can you help the operator to answer the questions below?**\n",
    "\n",
    "Assuming that the coverage next week will improve in that polygon compared to competition (i.e., RSRP will get better than other operators). What would be the impact on downlink and uplink traffic volumes?"
   ]
  },
  {
   "cell_type": "code",
   "execution_count": 1,
   "id": "9efad290-9226-4ec8-92af-fbccb9c53fca",
   "metadata": {},
   "outputs": [],
   "source": [
    "# Setup Libraries\n",
    "import pandas as pd\n",
    "import numpy as np\n",
    "import plotly.express as px\n",
    "import matplotlib.pyplot as plt\n",
    "import seaborn as sns\n",
    "import warnings\n",
    "warnings.filterwarnings(\"ignore\")\n",
    "from sklearn.model_selection import train_test_split\n",
    "from sklearn.preprocessing import StandardScaler\n",
    "from sklearn.preprocessing import MinMaxScaler\n",
    "from sklearn import metrics\n",
    "import xgboost\n",
    "from sklearn.neural_network import MLPRegressor\n",
    "from sklearn.model_selection import learning_curve"
   ]
  },
  {
   "cell_type": "code",
   "execution_count": 2,
   "id": "2efa7ba8-3bc5-41b7-805e-a65e4bcc09aa",
   "metadata": {},
   "outputs": [],
   "source": [
    "# Setup Dataset Path\n",
    "DATA_PATH = '../data/processed/RSRP_Traffic.parquet'"
   ]
  },
  {
   "cell_type": "code",
   "execution_count": 3,
   "id": "c28826d9-c8e3-4b81-bdc9-b9f2433566c9",
   "metadata": {},
   "outputs": [],
   "source": [
    "#Load Data\n",
    "df = pd.read_parquet(DATA_PATH)"
   ]
  },
  {
   "cell_type": "code",
   "execution_count": 4,
   "id": "31f07b0d-1504-4933-bcb8-6b90aed08c2c",
   "metadata": {},
   "outputs": [
    {
     "data": {
      "text/html": [
       "<div>\n",
       "<style scoped>\n",
       "    .dataframe tbody tr th:only-of-type {\n",
       "        vertical-align: middle;\n",
       "    }\n",
       "\n",
       "    .dataframe tbody tr th {\n",
       "        vertical-align: top;\n",
       "    }\n",
       "\n",
       "    .dataframe thead th {\n",
       "        text-align: right;\n",
       "    }\n",
       "</style>\n",
       "<table border=\"1\" class=\"dataframe\">\n",
       "  <thead>\n",
       "    <tr style=\"text-align: right;\">\n",
       "      <th></th>\n",
       "      <th>Timestamp</th>\n",
       "      <th>LocationLatitude</th>\n",
       "      <th>LocationLongitude</th>\n",
       "      <th>RadioConnectionType</th>\n",
       "      <th>RadioNetworkGeneration</th>\n",
       "      <th>RSRP</th>\n",
       "      <th>RadioMobileDataEnabled</th>\n",
       "      <th>DeviceManufacturer</th>\n",
       "      <th>DeviceName</th>\n",
       "      <th>time_approxmate</th>\n",
       "      <th>Average_RSRP</th>\n",
       "      <th>TrafficDirection</th>\n",
       "      <th>TrafficVolume</th>\n",
       "    </tr>\n",
       "  </thead>\n",
       "  <tbody>\n",
       "    <tr>\n",
       "      <th>0</th>\n",
       "      <td>2019-11-02 01:39:40</td>\n",
       "      <td>24.691517</td>\n",
       "      <td>46.65258</td>\n",
       "      <td>Mobile</td>\n",
       "      <td>4G</td>\n",
       "      <td>-94</td>\n",
       "      <td>Enabled</td>\n",
       "      <td>HUAWEI</td>\n",
       "      <td>Huawei Y5 2019</td>\n",
       "      <td>2019-11-02 01:45:00</td>\n",
       "      <td>-93.444444</td>\n",
       "      <td>Downlink</td>\n",
       "      <td>6.218721</td>\n",
       "    </tr>\n",
       "  </tbody>\n",
       "</table>\n",
       "</div>"
      ],
      "text/plain": [
       "            Timestamp  LocationLatitude  LocationLongitude  \\\n",
       "0 2019-11-02 01:39:40         24.691517           46.65258   \n",
       "\n",
       "  RadioConnectionType RadioNetworkGeneration  RSRP RadioMobileDataEnabled  \\\n",
       "0              Mobile                     4G   -94                Enabled   \n",
       "\n",
       "  DeviceManufacturer      DeviceName     time_approxmate  Average_RSRP  \\\n",
       "0             HUAWEI  Huawei Y5 2019 2019-11-02 01:45:00    -93.444444   \n",
       "\n",
       "  TrafficDirection  TrafficVolume  \n",
       "0         Downlink       6.218721  "
      ]
     },
     "execution_count": 4,
     "metadata": {},
     "output_type": "execute_result"
    }
   ],
   "source": [
    "df.head(1)"
   ]
  },
  {
   "cell_type": "code",
   "execution_count": 5,
   "id": "0b3a1b94-8b00-463b-be66-524227accc7f",
   "metadata": {},
   "outputs": [
    {
     "data": {
      "text/plain": [
       "<AxesSubplot:ylabel='Frequency'>"
      ]
     },
     "execution_count": 5,
     "metadata": {},
     "output_type": "execute_result"
    },
    {
     "data": {
      "image/png": "[encoded data removed]",
      "text/plain": [
       "<Figure size 432x288 with 1 Axes>"
      ]
     },
     "metadata": {
      "needs_background": "light"
     },
     "output_type": "display_data"
    }
   ],
   "source": [
    "df['TrafficVolume'].plot.hist(alpha=0.5, bins=15, grid=True, legend=None)"
   ]
  },
  {
   "cell_type": "code",
   "execution_count": 6,
   "id": "3573b2c0-773e-4868-9016-c1fff9215046",
   "metadata": {},
   "outputs": [],
   "source": [
    "#Traffic volume has many outliers so we need to transform them using log and very Skewed\n",
    "df['TrafficVolume_log'] = [np.log(x) for x in df['TrafficVolume']]"
   ]
  },
  {
   "cell_type": "code",
   "execution_count": 7,
   "id": "faaa928e-683b-4a3b-95ec-fda987c619c4",
   "metadata": {},
   "outputs": [
    {
     "data": {
      "text/plain": [
       "<AxesSubplot:ylabel='Frequency'>"
      ]
     },
     "execution_count": 7,
     "metadata": {},
     "output_type": "execute_result"
    },
    {
     "data": {
      "image/png": "[encoded data removed]",
      "text/plain": [
       "<Figure size 432x288 with 1 Axes>"
      ]
     },
     "metadata": {
      "needs_background": "light"
     },
     "output_type": "display_data"
    }
   ],
   "source": [
    "df['TrafficVolume_log'].plot.hist(alpha=0.5, bins=15, grid=True, legend=None)"
   ]
  },
  {
   "cell_type": "code",
   "execution_count": 8,
   "id": "1a508fee-ea42-48c3-be90-4e9ead80bd88",
   "metadata": {},
   "outputs": [
    {
     "data": {
      "text/html": [
       "<div>\n",
       "<style scoped>\n",
       "    .dataframe tbody tr th:only-of-type {\n",
       "        vertical-align: middle;\n",
       "    }\n",
       "\n",
       "    .dataframe tbody tr th {\n",
       "        vertical-align: top;\n",
       "    }\n",
       "\n",
       "    .dataframe thead th {\n",
       "        text-align: right;\n",
       "    }\n",
       "</style>\n",
       "<table border=\"1\" class=\"dataframe\">\n",
       "  <thead>\n",
       "    <tr style=\"text-align: right;\">\n",
       "      <th></th>\n",
       "      <th>time_approxmate</th>\n",
       "      <th>LocationLatitude</th>\n",
       "      <th>LocationLongitude</th>\n",
       "      <th>RadioConnectionType</th>\n",
       "      <th>RadioNetworkGeneration</th>\n",
       "      <th>RadioMobileDataEnabled</th>\n",
       "      <th>RSRP</th>\n",
       "      <th>TrafficDirection</th>\n",
       "      <th>TrafficVolume_log</th>\n",
       "    </tr>\n",
       "  </thead>\n",
       "  <tbody>\n",
       "    <tr>\n",
       "      <th>0</th>\n",
       "      <td>2019-11-02 01:45:00</td>\n",
       "      <td>24.691517</td>\n",
       "      <td>46.65258</td>\n",
       "      <td>Mobile</td>\n",
       "      <td>4G</td>\n",
       "      <td>Enabled</td>\n",
       "      <td>-94</td>\n",
       "      <td>Downlink</td>\n",
       "      <td>1.827564</td>\n",
       "    </tr>\n",
       "  </tbody>\n",
       "</table>\n",
       "</div>"
      ],
      "text/plain": [
       "      time_approxmate  LocationLatitude  LocationLongitude  \\\n",
       "0 2019-11-02 01:45:00         24.691517           46.65258   \n",
       "\n",
       "  RadioConnectionType RadioNetworkGeneration RadioMobileDataEnabled  RSRP  \\\n",
       "0              Mobile                     4G                Enabled   -94   \n",
       "\n",
       "  TrafficDirection  TrafficVolume_log  \n",
       "0         Downlink           1.827564  "
      ]
     },
     "execution_count": 8,
     "metadata": {},
     "output_type": "execute_result"
    }
   ],
   "source": [
    "#Select needed data\n",
    "df = df[['time_approxmate','LocationLatitude','LocationLongitude','RadioConnectionType',\n",
    "         'RadioNetworkGeneration','RadioMobileDataEnabled','RSRP','TrafficDirection','TrafficVolume_log']]\n",
    "\n",
    "df.head(1)"
   ]
  },
  {
   "cell_type": "code",
   "execution_count": 9,
   "id": "a153c5a9-6992-4e11-af0c-7039022fdbd8",
   "metadata": {},
   "outputs": [
    {
     "data": {
      "text/html": [
       "<div>\n",
       "<style scoped>\n",
       "    .dataframe tbody tr th:only-of-type {\n",
       "        vertical-align: middle;\n",
       "    }\n",
       "\n",
       "    .dataframe tbody tr th {\n",
       "        vertical-align: top;\n",
       "    }\n",
       "\n",
       "    .dataframe thead th {\n",
       "        text-align: right;\n",
       "    }\n",
       "</style>\n",
       "<table border=\"1\" class=\"dataframe\">\n",
       "  <thead>\n",
       "    <tr style=\"text-align: right;\">\n",
       "      <th></th>\n",
       "      <th>Hour</th>\n",
       "      <th>Mintue</th>\n",
       "      <th>LocationLatitude</th>\n",
       "      <th>LocationLongitude</th>\n",
       "      <th>RadioConnectionType</th>\n",
       "      <th>RadioNetworkGeneration</th>\n",
       "      <th>RadioMobileDataEnabled</th>\n",
       "      <th>RSRP</th>\n",
       "      <th>TrafficDirection</th>\n",
       "      <th>TrafficVolume_log</th>\n",
       "    </tr>\n",
       "  </thead>\n",
       "  <tbody>\n",
       "    <tr>\n",
       "      <th>0</th>\n",
       "      <td>1</td>\n",
       "      <td>45</td>\n",
       "      <td>24.691517</td>\n",
       "      <td>46.65258</td>\n",
       "      <td>Mobile</td>\n",
       "      <td>4G</td>\n",
       "      <td>Enabled</td>\n",
       "      <td>-94</td>\n",
       "      <td>Downlink</td>\n",
       "      <td>1.827564</td>\n",
       "    </tr>\n",
       "  </tbody>\n",
       "</table>\n",
       "</div>"
      ],
      "text/plain": [
       "   Hour  Mintue  LocationLatitude  LocationLongitude RadioConnectionType  \\\n",
       "0     1      45         24.691517           46.65258              Mobile   \n",
       "\n",
       "  RadioNetworkGeneration RadioMobileDataEnabled  RSRP TrafficDirection  \\\n",
       "0                     4G                Enabled   -94         Downlink   \n",
       "\n",
       "   TrafficVolume_log  \n",
       "0           1.827564  "
      ]
     },
     "execution_count": 9,
     "metadata": {},
     "output_type": "execute_result"
    }
   ],
   "source": [
    "df['Hour'] = df['time_approxmate'].dt.hour\n",
    "df['Mintue'] = df['time_approxmate'].dt.minute\n",
    "df = df[['Hour','Mintue','LocationLatitude','LocationLongitude','RadioConnectionType',\n",
    "         'RadioNetworkGeneration','RadioMobileDataEnabled','RSRP','TrafficDirection','TrafficVolume_log']]\n",
    "df.head(1)"
   ]
  },
  {
   "cell_type": "code",
   "execution_count": 10,
   "id": "2fa18358-b78b-4690-8693-cfe8329c1619",
   "metadata": {},
   "outputs": [
    {
     "data": {
      "text/html": [
       "<div>\n",
       "<style scoped>\n",
       "    .dataframe tbody tr th:only-of-type {\n",
       "        vertical-align: middle;\n",
       "    }\n",
       "\n",
       "    .dataframe tbody tr th {\n",
       "        vertical-align: top;\n",
       "    }\n",
       "\n",
       "    .dataframe thead th {\n",
       "        text-align: right;\n",
       "    }\n",
       "</style>\n",
       "<table border=\"1\" class=\"dataframe\">\n",
       "  <thead>\n",
       "    <tr style=\"text-align: right;\">\n",
       "      <th></th>\n",
       "      <th>Hour</th>\n",
       "      <th>Mintue</th>\n",
       "      <th>LocationLatitude</th>\n",
       "      <th>LocationLongitude</th>\n",
       "      <th>RSRP</th>\n",
       "      <th>TrafficVolume_log</th>\n",
       "      <th>TrafficDirection_Uplink</th>\n",
       "      <th>RadioMobileDataEnabled_Enabled</th>\n",
       "      <th>RadioConnectionType_Unknown</th>\n",
       "      <th>RadioConnectionType_WiFi</th>\n",
       "      <th>RadioNetworkGeneration_3G</th>\n",
       "      <th>RadioNetworkGeneration_4G</th>\n",
       "    </tr>\n",
       "  </thead>\n",
       "  <tbody>\n",
       "    <tr>\n",
       "      <th>0</th>\n",
       "      <td>1</td>\n",
       "      <td>45</td>\n",
       "      <td>24.691517</td>\n",
       "      <td>46.65258</td>\n",
       "      <td>-94</td>\n",
       "      <td>1.827564</td>\n",
       "      <td>0</td>\n",
       "      <td>1</td>\n",
       "      <td>0</td>\n",
       "      <td>0</td>\n",
       "      <td>0</td>\n",
       "      <td>1</td>\n",
       "    </tr>\n",
       "  </tbody>\n",
       "</table>\n",
       "</div>"
      ],
      "text/plain": [
       "   Hour  Mintue  LocationLatitude  LocationLongitude  RSRP  TrafficVolume_log  \\\n",
       "0     1      45         24.691517           46.65258   -94           1.827564   \n",
       "\n",
       "   TrafficDirection_Uplink  RadioMobileDataEnabled_Enabled  \\\n",
       "0                        0                               1   \n",
       "\n",
       "   RadioConnectionType_Unknown  RadioConnectionType_WiFi  \\\n",
       "0                            0                         0   \n",
       "\n",
       "   RadioNetworkGeneration_3G  RadioNetworkGeneration_4G  \n",
       "0                          0                          1  "
      ]
     },
     "execution_count": 10,
     "metadata": {},
     "output_type": "execute_result"
    }
   ],
   "source": [
    "#One Hot encoding\n",
    "df=pd.concat([df,pd.get_dummies(df['TrafficDirection'], drop_first=True, prefix='TrafficDirection')],axis=1).drop(['TrafficDirection'],axis=1)\n",
    "df=pd.concat([df,pd.get_dummies(df['RadioMobileDataEnabled'], drop_first=True, prefix='RadioMobileDataEnabled')],axis=1).drop(['RadioMobileDataEnabled'],axis=1)\n",
    "df=pd.concat([df,pd.get_dummies(df['RadioConnectionType'], drop_first=True, prefix='RadioConnectionType')],axis=1).drop(['RadioConnectionType'],axis=1)\n",
    "df=pd.concat([df,pd.get_dummies(df['RadioNetworkGeneration'], drop_first=True, prefix='RadioNetworkGeneration')],axis=1).drop(['RadioNetworkGeneration'],axis=1)\n",
    "\n",
    "df.head(1)"
   ]
  },
  {
   "cell_type": "code",
   "execution_count": 11,
   "id": "76dbc3ac-9c26-4c92-9992-78f40f8fb7a6",
   "metadata": {},
   "outputs": [],
   "source": [
    "# Get the feature values until the target column (not included)\n",
    "X = df.drop(['TrafficVolume_log'],axis=1).values.astype(np.float32)\n",
    "\n",
    "# Get the target column\n",
    "y = df['TrafficVolume_log'].values.astype(np.float32)"
   ]
  },
  {
   "cell_type": "code",
   "execution_count": 12,
   "id": "a9f1afdb-ad70-43dc-8208-afaa97b6f3da",
   "metadata": {},
   "outputs": [
    {
     "name": "stdout",
     "output_type": "stream",
     "text": [
      "Length of train_features is: (63691, 11)\n",
      "Length of train_labels is: (63691,)\n",
      "Length of test_features is: (15923, 11)\n",
      "Length of test_labels is: (15923,)\n"
     ]
    }
   ],
   "source": [
    "# Get 80% of the data for training; the remaining 20% will be for validation and test\n",
    "X_train, X_test, y_train, y_test = train_test_split(X, y, test_size=0.2)\n",
    "\n",
    "print(f\"Length of train_features is: {X_train.shape}\")\n",
    "print(f\"Length of train_labels is: {y_train.shape}\")\n",
    "print(f\"Length of test_features is: {X_test.shape}\")\n",
    "print(f\"Length of test_labels is: {y_test.shape}\")"
   ]
  },
  {
   "cell_type": "code",
   "execution_count": 13,
   "id": "2acaac20-ea7c-4efa-96c2-569e4b4d3c57",
   "metadata": {},
   "outputs": [],
   "source": [
    "#N_N\n",
    "Regresor_N_N = MLPRegressor()\n",
    "Regresor_N_N.fit(X_train, y_train)\n",
    "y__N_N_predicted = Regresor_N_N.predict(X_test)"
   ]
  },
  {
   "cell_type": "code",
   "execution_count": 14,
   "id": "1feb5d92-69bc-4aac-be55-23151c0a668a",
   "metadata": {},
   "outputs": [
    {
     "name": "stdout",
     "output_type": "stream",
     "text": [
      "The model performance for testing set\n",
      "--------------------------------------\n",
      "MAE is 1.3085081577301025\n",
      "MSE is 2.8876307010650635\n",
      "R2 score is 0.2022615763323189\n"
     ]
    }
   ],
   "source": [
    "mae_N_N = metrics.mean_absolute_error(y_test, y__N_N_predicted)\n",
    "mse_N_N = metrics.mean_squared_error(y_test, y__N_N_predicted)\n",
    "r2_N_N = metrics.r2_score(y_test, y__N_N_predicted)\n",
    "\n",
    "print(\"The model performance for testing set\")\n",
    "print(\"--------------------------------------\")\n",
    "print('MAE is {}'.format(mae_N_N))\n",
    "print('MSE is {}'.format(mse_N_N))\n",
    "print('R2 score is {}'.format(r2_N_N))"
   ]
  },
  {
   "cell_type": "code",
   "execution_count": 15,
   "id": "56ee86f9-6d1a-4632-90ef-c448b82f4716",
   "metadata": {},
   "outputs": [],
   "source": [
    "#xgb\n",
    "xgb = xgboost.XGBRegressor()\n",
    "xgb.fit(X_train, y_train)\n",
    "y_xgb_predicted = xgb.predict(X_test)"
   ]
  },
  {
   "cell_type": "code",
   "execution_count": 16,
   "id": "ed36c3ad-ff8f-47b0-8563-e42b3cdbcb1c",
   "metadata": {},
   "outputs": [
    {
     "name": "stdout",
     "output_type": "stream",
     "text": [
      "The model performance for testing set\n",
      "--------------------------------------\n",
      "MAE is 0.6224871873855591\n",
      "MSE is 0.919834554195404\n",
      "R2 score is 0.74588601074571\n"
     ]
    }
   ],
   "source": [
    "mae_xgb = metrics.mean_absolute_error(y_test, y_xgb_predicted)\n",
    "mse_xgb = metrics.mean_squared_error(y_test, y_xgb_predicted)\n",
    "r2_xgb  = metrics.r2_score(y_test, y_xgb_predicted)\n",
    "\n",
    "print(\"The model performance for testing set\")\n",
    "print(\"--------------------------------------\")\n",
    "print('MAE is {}'.format(mae_xgb ))\n",
    "print('MSE is {}'.format(mse_xgb ))\n",
    "print('R2 score is {}'.format(r2_xgb))"
   ]
  },
  {
   "cell_type": "code",
   "execution_count": 17,
   "id": "9012cb4a-ffe6-42b8-9bc6-acabf884c990",
   "metadata": {},
   "outputs": [
    {
     "data": {
      "image/png": "[encoded data removed]",
      "text/plain": [
       "<Figure size 432x288 with 1 Axes>"
      ]
     },
     "metadata": {
      "needs_background": "light"
     },
     "output_type": "display_data"
    }
   ],
   "source": [
    "# It is good to randomize the data before drawing Learning Curves\n",
    "def randomize(X, Y):\n",
    "    permutation = np.random.permutation(Y.shape[0])\n",
    "    X2 = X[permutation,:]\n",
    "    Y2 = Y[permutation]\n",
    "    return X2, Y2\n",
    "\n",
    "X2, y2 = randomize(X, y)\n",
    "\n",
    "def draw_learning_curves(X, y, estimator, num_trainings):\n",
    "    train_sizes, train_scores, test_scores = learning_curve(\n",
    "        estimator, X2, y2, cv=None, n_jobs=1, train_sizes=np.linspace(.1, 1.0, num_trainings))\n",
    "\n",
    "    train_scores_mean = np.mean(train_scores, axis=1)\n",
    "    train_scores_std = np.std(train_scores, axis=1)\n",
    "    test_scores_mean = np.mean(test_scores, axis=1)\n",
    "    test_scores_std = np.std(test_scores, axis=1)\n",
    "\n",
    "    plt.grid()\n",
    "\n",
    "    plt.title(\"Learning Curves\")\n",
    "    plt.xlabel(\"Training examples\")\n",
    "    plt.ylabel(\"Score\")\n",
    "\n",
    "    plt.plot(train_scores_mean, 'o-', color=\"g\",\n",
    "             label=\"Training score\")\n",
    "    plt.plot(test_scores_mean, 'o-', color=\"y\",\n",
    "             label=\"Cross-validation score\")\n",
    "\n",
    "\n",
    "    plt.legend(loc=\"best\")\n",
    "\n",
    "    plt.show()\n",
    "    \n",
    "draw_learning_curves(X, y, xgb, 20)\n"
   ]
  },
  {
   "cell_type": "code",
   "execution_count": 90,
   "id": "1d787286-e501-4e00-a426-74893acb9035",
   "metadata": {},
   "outputs": [
    {
     "name": "stdout",
     "output_type": "stream",
     "text": [
      "IF RSRP is Better -41\n",
      "Traffic is : [7.162543]\n"
     ]
    }
   ],
   "source": [
    "#Predict Traffic other location\n",
    "print('IF RSRP is Better -41')\n",
    "print ('Traffic is : {}'.format(np.exp(xgb.predict([[19,30,24.762995,46.81263,-41,0,1,0,0,1,0]]))))"
   ]
  },
  {
   "cell_type": "code",
   "execution_count": 91,
   "id": "209844a4-d579-4580-bcf4-5aacf6ef7edc",
   "metadata": {},
   "outputs": [
    {
     "name": "stdout",
     "output_type": "stream",
     "text": [
      "IF RSRP is low -140\n",
      "Traffic is : [0.5489987]\n"
     ]
    }
   ],
   "source": [
    "#Predict Traffic other location\n",
    "print('IF RSRP is low -140')\n",
    "print ('Traffic is : {}'.format(np.exp(xgb.predict([[19,30,24.762995,46.81263,-140,0,1,0,0,1,0]]))))"
   ]
  },
  {
   "cell_type": "markdown",
   "id": "ffa6d219-9439-4b8d-96bd-c9ac2ef53a99",
   "metadata": {},
   "source": [
    "### the test value show in this location if the RSRP is better the traffic will become High"
   ]
  },
  {
   "cell_type": "code",
   "execution_count": null,
   "id": "cad95d63-5459-45b5-b425-e8a0be565afd",
   "metadata": {},
   "outputs": [],
   "source": []
  }
 ],
 "metadata": {
  "kernelspec": {
   "display_name": "Python 3 (ipykernel)",
   "language": "python",
   "name": "python3"
  },
  "language_info": {
   "codemirror_mode": {
    "name": "ipython",
    "version": 3
   },
   "file_extension": ".py",
   "mimetype": "text/x-python",
   "name": "python",
   "nbconvert_exporter": "python",
   "pygments_lexer": "ipython3",
   "version": "3.9.7"
  }
 },
 "nbformat": 4,
 "nbformat_minor": 5
}
