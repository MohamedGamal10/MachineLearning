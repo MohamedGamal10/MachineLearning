{
 "cells": [
  {
   "cell_type": "markdown",
   "id": "0e7d5459-3656-42ec-801b-17643d657a77",
   "metadata": {},
   "source": [
    "## Actions\n",
    "- Convert Timestamp to datetime instead of object **Done**\n",
    "- there are 156 blank value in country column should imputed by 'Saudi Arabia' **Done**\n",
    "- there are 668 Unknown value in RadioConnectionType column **Leave to Modeling Phase**\n",
    "- there are 17361 Unknown value in RadioNetworkGeneration column **Leave to Modeling Phase**\n",
    "- there are 1812 Duplicate rows should be dropped **Done**\n",
    "- RSRP Column has outliers values should deal with them **Done**"
   ]
  },
  {
   "cell_type": "code",
   "execution_count": 1,
   "id": "3e428e84-ee3e-4b09-85ac-0ca42abf83b5",
   "metadata": {},
   "outputs": [],
   "source": [
    "# Setup Libraries\n",
    "import pandas as pd\n",
    "import numpy as np\n",
    "import re"
   ]
  },
  {
   "cell_type": "code",
   "execution_count": 2,
   "id": "5edfd3a8-7d6f-4396-b8bc-04de38843be5",
   "metadata": {},
   "outputs": [],
   "source": [
    "# Setup Dataset Path\n",
    "DATA_PATH = '../data/raw/RSRP.csv'"
   ]
  },
  {
   "cell_type": "code",
   "execution_count": 3,
   "id": "cf2a3b1f-2850-4d5e-8c59-7706b23a7230",
   "metadata": {},
   "outputs": [],
   "source": [
    "# load Data\n",
    "df = pd.read_csv(DATA_PATH)"
   ]
  },
  {
   "cell_type": "markdown",
   "id": "24753ad2-7928-4212-8845-f2e2bcdf12db",
   "metadata": {},
   "source": [
    "#### Convert Timestamp to datetime instead of object"
   ]
  },
  {
   "cell_type": "code",
   "execution_count": 4,
   "id": "071b3377-aaba-4691-95f2-08ae438f9428",
   "metadata": {},
   "outputs": [],
   "source": [
    "def TimeStamp_Parser(TimeStampValue):\n",
    "    return re.findall(r'\\d{4}-\\d?\\d-\\d?\\d (?:2[0-3]|[01]?[0-9]):[0-5]?[0-9]:[0-5]?[0-9]', TimeStampValue)"
   ]
  },
  {
   "cell_type": "code",
   "execution_count": 5,
   "id": "843bca67-8c7f-4faa-a4ed-e8a6ac3e8dac",
   "metadata": {},
   "outputs": [
    {
     "name": "stdout",
     "output_type": "stream",
     "text": [
      "<class 'pandas.core.frame.DataFrame'>\n",
      "RangeIndex: 2725353 entries, 0 to 2725352\n",
      "Data columns (total 11 columns):\n",
      " #   Column                  Dtype         \n",
      "---  ------                  -----         \n",
      " 0   Timestamp               datetime64[ns]\n",
      " 1   LocationLatitude        float64       \n",
      " 2   LocationLongitude       float64       \n",
      " 3   RadioConnectionType     object        \n",
      " 4   Country                 object        \n",
      " 5   RadioNetworkGeneration  object        \n",
      " 6   RadioOperatorName       object        \n",
      " 7   RSRP                    int64         \n",
      " 8   RadioMobileDataEnabled  object        \n",
      " 9   DeviceManufacturer      object        \n",
      " 10  DeviceName              object        \n",
      "dtypes: datetime64[ns](1), float64(2), int64(1), object(7)\n",
      "memory usage: 228.7+ MB\n"
     ]
    }
   ],
   "source": [
    "df['Timestamp'] = pd.to_datetime(df['Timestamp'].apply(lambda x: TimeStamp_Parser(x)).str[0])\n",
    "df.info()"
   ]
  },
  {
   "cell_type": "markdown",
   "id": "5da7ce02-b1eb-43f1-a083-eea2e8c97c06",
   "metadata": {},
   "source": [
    "#### there are 156 blank value in country column should imputed by 'Saudi Arabia'"
   ]
  },
  {
   "cell_type": "code",
   "execution_count": 6,
   "id": "de3a374c-0b5d-4957-8e21-026637409ecb",
   "metadata": {},
   "outputs": [],
   "source": [
    "df['Country'] = 'Saudi Arabia'"
   ]
  },
  {
   "cell_type": "markdown",
   "id": "262e8315-8d81-4a94-8403-b73d1ff2b558",
   "metadata": {},
   "source": [
    "#### there are 1812 Duplicate rows should be dropped"
   ]
  },
  {
   "cell_type": "code",
   "execution_count": 7,
   "id": "94db7d72-66f2-4f21-95a9-8f260d91fac1",
   "metadata": {},
   "outputs": [],
   "source": [
    "df.drop_duplicates(inplace=True)"
   ]
  },
  {
   "cell_type": "markdown",
   "id": "9f188531-7d4f-473f-a9a7-3481a012ba42",
   "metadata": {},
   "source": [
    "#### RSRP Column has outliers values should deal with them"
   ]
  },
  {
   "cell_type": "code",
   "execution_count": 8,
   "id": "0ccd1601-78ec-4819-9059-9962bf34a3fe",
   "metadata": {},
   "outputs": [],
   "source": [
    "df['RSRP'] = df['RSRP'].apply(lambda i: -140 if i in [2147483647, 0, 12] else i)"
   ]
  },
  {
   "cell_type": "markdown",
   "id": "35162598-e3bb-4d93-843c-ca81f98fa30b",
   "metadata": {},
   "source": [
    "#### Save File to parquet file"
   ]
  },
  {
   "cell_type": "code",
   "execution_count": 9,
   "id": "0ac44fef-8f68-4a34-9bad-57bc8bcd100a",
   "metadata": {},
   "outputs": [],
   "source": [
    "df.to_parquet(\"../data/processed/RSRP_processed.parquet\")"
   ]
  },
  {
   "cell_type": "code",
   "execution_count": null,
   "id": "2190a1d8-ce5f-4a62-9d12-0aad539d5258",
   "metadata": {},
   "outputs": [],
   "source": []
  }
 ],
 "metadata": {
  "kernelspec": {
   "display_name": "Python 3 (ipykernel)",
   "language": "python",
   "name": "python3"
  },
  "language_info": {
   "codemirror_mode": {
    "name": "ipython",
    "version": 3
   },
   "file_extension": ".py",
   "mimetype": "text/x-python",
   "name": "python",
   "nbconvert_exporter": "python",
   "pygments_lexer": "ipython3",
   "version": "3.9.7"
  }
 },
 "nbformat": 4,
 "nbformat_minor": 5
}
