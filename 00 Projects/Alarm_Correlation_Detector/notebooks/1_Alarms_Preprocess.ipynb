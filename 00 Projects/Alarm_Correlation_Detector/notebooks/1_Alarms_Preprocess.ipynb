{
 "cells": [
  {
   "cell_type": "code",
   "execution_count": 1,
   "id": "62090ed1-5cba-48b1-9821-2f3546e4fd69",
   "metadata": {},
   "outputs": [],
   "source": [
    "#import libs\n",
    "import os, glob\n",
    "import pandas as pd\n",
    "import seaborn as sns\n",
    "import plotly.express as px\n",
    "import matplotlib.pyplot as plt\n",
    "import numpy as np\n",
    "from datetime import date, timedelta\n",
    "import warnings\n",
    "warnings.simplefilter(\"ignore\")"
   ]
  },
  {
   "cell_type": "code",
   "execution_count": 2,
   "id": "5ab31715-7077-4fc6-ae72-f3c118ed7481",
   "metadata": {},
   "outputs": [],
   "source": [
    "#Merge CSVs\n",
    "path = \"../data/raw/log\"\n",
    "all_files = glob.glob(os.path.join(path, \"*.csv\"))\n",
    "df_from_each_file = (pd.read_csv(f, sep=',') for f in all_files)\n",
    "df_merged   = pd.concat(df_from_each_file, ignore_index=True)"
   ]
  },
  {
   "cell_type": "code",
   "execution_count": 3,
   "id": "889e06c5-af11-475e-afbc-8a9170f50442",
   "metadata": {},
   "outputs": [
    {
     "data": {
      "text/html": [
       "<div>\n",
       "<style scoped>\n",
       "    .dataframe tbody tr th:only-of-type {\n",
       "        vertical-align: middle;\n",
       "    }\n",
       "\n",
       "    .dataframe tbody tr th {\n",
       "        vertical-align: top;\n",
       "    }\n",
       "\n",
       "    .dataframe thead th {\n",
       "        text-align: right;\n",
       "    }\n",
       "</style>\n",
       "<table border=\"1\" class=\"dataframe\">\n",
       "  <thead>\n",
       "    <tr style=\"text-align: right;\">\n",
       "      <th></th>\n",
       "      <th></th>\n",
       "      <th>Severity</th>\n",
       "      <th>Name</th>\n",
       "      <th>Alarm Source</th>\n",
       "      <th>Occurred On (NT)</th>\n",
       "      <th>Cleared On (NT)</th>\n",
       "      <th>Type</th>\n",
       "      <th>Clearance Status</th>\n",
       "      <th>Alarm Duration</th>\n",
       "    </tr>\n",
       "  </thead>\n",
       "  <tbody>\n",
       "    <tr>\n",
       "      <th>0</th>\n",
       "      <td>\\t\\t-</td>\n",
       "      <td>Minor</td>\n",
       "      <td>Task execution failure alarm</td>\n",
       "      <td>OSS</td>\n",
       "      <td>9/17/2021 19:39</td>\n",
       "      <td>1/22/2022 15:16</td>\n",
       "      <td>QoS</td>\n",
       "      <td>Cleared</td>\n",
       "      <td>3043 hours 36 minutes 45 seconds</td>\n",
       "    </tr>\n",
       "    <tr>\n",
       "      <th>1</th>\n",
       "      <td>\\t\\t-</td>\n",
       "      <td>Minor</td>\n",
       "      <td>Task execution failure alarm</td>\n",
       "      <td>OSS</td>\n",
       "      <td>9/18/2021 21:35</td>\n",
       "      <td>1/22/2022 15:16</td>\n",
       "      <td>QoS</td>\n",
       "      <td>Cleared</td>\n",
       "      <td>3017 hours 40 minutes 50 seconds</td>\n",
       "    </tr>\n",
       "  </tbody>\n",
       "</table>\n",
       "</div>"
      ],
      "text/plain": [
       "         Severity                          Name Alarm Source Occurred On (NT)  \\\n",
       "0  \\t\\t-    Minor  Task execution failure alarm          OSS  9/17/2021 19:39   \n",
       "1  \\t\\t-    Minor  Task execution failure alarm          OSS  9/18/2021 21:35   \n",
       "\n",
       "   Cleared On (NT) Type Clearance Status                    Alarm Duration  \n",
       "0  1/22/2022 15:16  QoS          Cleared  3043 hours 36 minutes 45 seconds  \n",
       "1  1/22/2022 15:16  QoS          Cleared  3017 hours 40 minutes 50 seconds  "
      ]
     },
     "execution_count": 3,
     "metadata": {},
     "output_type": "execute_result"
    }
   ],
   "source": [
    "df = df_merged.copy()\n",
    "df.head(2)"
   ]
  },
  {
   "cell_type": "code",
   "execution_count": 4,
   "id": "a4b01240-7c2a-4ec1-abfe-23f2e303a349",
   "metadata": {},
   "outputs": [
    {
     "data": {
      "text/html": [
       "<div>\n",
       "<style scoped>\n",
       "    .dataframe tbody tr th:only-of-type {\n",
       "        vertical-align: middle;\n",
       "    }\n",
       "\n",
       "    .dataframe tbody tr th {\n",
       "        vertical-align: top;\n",
       "    }\n",
       "\n",
       "    .dataframe thead th {\n",
       "        text-align: right;\n",
       "    }\n",
       "</style>\n",
       "<table border=\"1\" class=\"dataframe\">\n",
       "  <thead>\n",
       "    <tr style=\"text-align: right;\">\n",
       "      <th></th>\n",
       "      <th>Severity</th>\n",
       "      <th>Name</th>\n",
       "      <th>Alarm Source</th>\n",
       "      <th>Occurred On (NT)</th>\n",
       "      <th>Cleared On (NT)</th>\n",
       "      <th>Type</th>\n",
       "      <th>Alarm Duration</th>\n",
       "    </tr>\n",
       "  </thead>\n",
       "  <tbody>\n",
       "    <tr>\n",
       "      <th>0</th>\n",
       "      <td>Minor</td>\n",
       "      <td>Task execution failure alarm</td>\n",
       "      <td>OSS</td>\n",
       "      <td>9/17/2021 19:39</td>\n",
       "      <td>1/22/2022 15:16</td>\n",
       "      <td>QoS</td>\n",
       "      <td>3043 hours 36 minutes 45 seconds</td>\n",
       "    </tr>\n",
       "    <tr>\n",
       "      <th>1</th>\n",
       "      <td>Minor</td>\n",
       "      <td>Task execution failure alarm</td>\n",
       "      <td>OSS</td>\n",
       "      <td>9/18/2021 21:35</td>\n",
       "      <td>1/22/2022 15:16</td>\n",
       "      <td>QoS</td>\n",
       "      <td>3017 hours 40 minutes 50 seconds</td>\n",
       "    </tr>\n",
       "  </tbody>\n",
       "</table>\n",
       "</div>"
      ],
      "text/plain": [
       "  Severity                          Name Alarm Source Occurred On (NT)  \\\n",
       "0    Minor  Task execution failure alarm          OSS  9/17/2021 19:39   \n",
       "1    Minor  Task execution failure alarm          OSS  9/18/2021 21:35   \n",
       "\n",
       "   Cleared On (NT) Type                    Alarm Duration  \n",
       "0  1/22/2022 15:16  QoS  3043 hours 36 minutes 45 seconds  \n",
       "1  1/22/2022 15:16  QoS  3017 hours 40 minutes 50 seconds  "
      ]
     },
     "execution_count": 4,
     "metadata": {},
     "output_type": "execute_result"
    }
   ],
   "source": [
    "df = df[['Severity','Name','Alarm Source','Occurred On (NT)','Cleared On (NT)','Type','Alarm Duration']]\n",
    "df.head(2)"
   ]
  },
  {
   "cell_type": "code",
   "execution_count": 5,
   "id": "f197b544-e7cf-4e11-be28-14c6d2330a16",
   "metadata": {},
   "outputs": [],
   "source": [
    "#We Don't need OSS Alarms\n",
    "df.drop(df[df['Alarm Source'] =='OSS'].index, inplace=True)"
   ]
  },
  {
   "cell_type": "code",
   "execution_count": 6,
   "id": "c6e1730a-1fbb-4d69-9586-ce44a9f2be27",
   "metadata": {},
   "outputs": [],
   "source": [
    "#Drop duplicates\n",
    "df.drop_duplicates(inplace=True)"
   ]
  },
  {
   "cell_type": "code",
   "execution_count": 7,
   "id": "03914c38-7840-4b2a-a2fa-b9d8dcabfca9",
   "metadata": {},
   "outputs": [],
   "source": [
    "df['Occurred On (NT)'] = pd.to_datetime(df['Occurred On (NT)'])\n",
    "df['Cleared On (NT)'] = pd.to_datetime(df['Cleared On (NT)'])"
   ]
  },
  {
   "cell_type": "code",
   "execution_count": 8,
   "id": "ca6769f8-ab34-4cb8-a3ae-3ed2d69830de",
   "metadata": {},
   "outputs": [
    {
     "name": "stdout",
     "output_type": "stream",
     "text": [
      "<class 'pandas.core.frame.DataFrame'>\n",
      "Int64Index: 6400938 entries, 40 to 7712598\n",
      "Data columns (total 7 columns):\n",
      " #   Column            Dtype         \n",
      "---  ------            -----         \n",
      " 0   Severity          object        \n",
      " 1   Name              object        \n",
      " 2   Alarm Source      object        \n",
      " 3   Occurred On (NT)  datetime64[ns]\n",
      " 4   Cleared On (NT)   datetime64[ns]\n",
      " 5   Type              object        \n",
      " 6   Alarm Duration    object        \n",
      "dtypes: datetime64[ns](2), object(5)\n",
      "memory usage: 390.7+ MB\n"
     ]
    }
   ],
   "source": [
    "df.info()"
   ]
  },
  {
   "cell_type": "code",
   "execution_count": 9,
   "id": "9b90f78b-af51-4263-a14e-3fe6910da38a",
   "metadata": {},
   "outputs": [],
   "source": [
    "df['Alarm_Duration_Hour'] = (pd.to_datetime(df['Cleared On (NT)'])-pd.to_datetime(df['Occurred On (NT)']))/ pd.Timedelta(hours=1)"
   ]
  },
  {
   "cell_type": "markdown",
   "id": "cb8e7ba0-266a-4eb7-ab9b-cb05d31563ee",
   "metadata": {},
   "source": [
    "## Save File to parquet file"
   ]
  },
  {
   "cell_type": "code",
   "execution_count": 10,
   "id": "7c7b961a-4494-41b1-a36c-0244dc78b8ac",
   "metadata": {},
   "outputs": [],
   "source": [
    "df.to_parquet('../data/processed/Alarms_data_processed.parquet')"
   ]
  },
  {
   "cell_type": "code",
   "execution_count": null,
   "id": "e7cb376c-e5cf-40cb-8acc-a3294a0a24cd",
   "metadata": {},
   "outputs": [],
   "source": []
  }
 ],
 "metadata": {
  "kernelspec": {
   "display_name": "Python 3 (ipykernel)",
   "language": "python",
   "name": "python3"
  },
  "language_info": {
   "codemirror_mode": {
    "name": "ipython",
    "version": 3
   },
   "file_extension": ".py",
   "mimetype": "text/x-python",
   "name": "python",
   "nbconvert_exporter": "python",
   "pygments_lexer": "ipython3",
   "version": "3.9.7"
  }
 },
 "nbformat": 4,
 "nbformat_minor": 5
}
