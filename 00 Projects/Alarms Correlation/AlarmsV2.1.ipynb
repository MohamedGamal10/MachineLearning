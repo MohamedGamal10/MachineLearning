{
 "cells": [
  {
   "cell_type": "code",
   "execution_count": 1,
   "metadata": {},
   "outputs": [],
   "source": [
    "#import libs\n",
    "import os, glob\n",
    "import pandas as pd\n",
    "import plotly.offline as pyo\n",
    "import plotly.graph_objs as go\n",
    "import seaborn as sns\n",
    "import plotly.express as px\n",
    "import matplotlib.pyplot as plt\n",
    "import numpy as np\n",
    "from datetime import date, timedelta\n",
    "from mlxtend.frequent_patterns import apriori\n",
    "from mlxtend.frequent_patterns import association_rules\n",
    "import warnings\n",
    "warnings.simplefilter(\"ignore\")"
   ]
  },
  {
   "cell_type": "code",
   "execution_count": 2,
   "metadata": {},
   "outputs": [],
   "source": [
    "#Merge CSVs\n",
    "path = \"log\"\n",
    "all_files = glob.glob(os.path.join(path, \"*.csv\"))\n",
    "df_from_each_file = (pd.read_csv(f, sep=',') for f in all_files)\n",
    "df_merged   = pd.concat(df_from_each_file, ignore_index=True)"
   ]
  },
  {
   "cell_type": "code",
   "execution_count": 3,
   "metadata": {},
   "outputs": [
    {
     "data": {
      "text/html": [
       "<div>\n",
       "<style scoped>\n",
       "    .dataframe tbody tr th:only-of-type {\n",
       "        vertical-align: middle;\n",
       "    }\n",
       "\n",
       "    .dataframe tbody tr th {\n",
       "        vertical-align: top;\n",
       "    }\n",
       "\n",
       "    .dataframe thead th {\n",
       "        text-align: right;\n",
       "    }\n",
       "</style>\n",
       "<table border=\"1\" class=\"dataframe\">\n",
       "  <thead>\n",
       "    <tr style=\"text-align: right;\">\n",
       "      <th></th>\n",
       "      <th></th>\n",
       "      <th>Severity</th>\n",
       "      <th>Name</th>\n",
       "      <th>Alarm Source</th>\n",
       "      <th>Occurred On (NT)</th>\n",
       "      <th>Cleared On (NT)</th>\n",
       "      <th>Type</th>\n",
       "      <th>Clearance Status</th>\n",
       "      <th>Alarm Duration</th>\n",
       "    </tr>\n",
       "  </thead>\n",
       "  <tbody>\n",
       "    <tr>\n",
       "      <th>0</th>\n",
       "      <td>\\t\\t-</td>\n",
       "      <td>Minor</td>\n",
       "      <td>Task execution failure alarm</td>\n",
       "      <td>OSS</td>\n",
       "      <td>9/17/2021 19:39</td>\n",
       "      <td>1/22/2022 15:16</td>\n",
       "      <td>QoS</td>\n",
       "      <td>Cleared</td>\n",
       "      <td>3043 hours 36 minutes 45 seconds</td>\n",
       "    </tr>\n",
       "    <tr>\n",
       "      <th>1</th>\n",
       "      <td>\\t\\t-</td>\n",
       "      <td>Minor</td>\n",
       "      <td>Task execution failure alarm</td>\n",
       "      <td>OSS</td>\n",
       "      <td>9/18/2021 21:35</td>\n",
       "      <td>1/22/2022 15:16</td>\n",
       "      <td>QoS</td>\n",
       "      <td>Cleared</td>\n",
       "      <td>3017 hours 40 minutes 50 seconds</td>\n",
       "    </tr>\n",
       "    <tr>\n",
       "      <th>2</th>\n",
       "      <td>\\t\\t-</td>\n",
       "      <td>Minor</td>\n",
       "      <td>Task execution failure alarm</td>\n",
       "      <td>OSS</td>\n",
       "      <td>9/17/2021 19:40</td>\n",
       "      <td>1/22/2022 15:16</td>\n",
       "      <td>QoS</td>\n",
       "      <td>Cleared</td>\n",
       "      <td>3043 hours 35 minutes 25 seconds</td>\n",
       "    </tr>\n",
       "    <tr>\n",
       "      <th>3</th>\n",
       "      <td>\\t\\t-</td>\n",
       "      <td>Minor</td>\n",
       "      <td>Task execution failure alarm</td>\n",
       "      <td>OSS</td>\n",
       "      <td>9/18/2021 22:08</td>\n",
       "      <td>1/22/2022 15:16</td>\n",
       "      <td>QoS</td>\n",
       "      <td>Cleared</td>\n",
       "      <td>3017 hours 7 minutes 31 seconds</td>\n",
       "    </tr>\n",
       "    <tr>\n",
       "      <th>4</th>\n",
       "      <td>\\t\\t-</td>\n",
       "      <td>Minor</td>\n",
       "      <td>Task execution failure alarm</td>\n",
       "      <td>OSS</td>\n",
       "      <td>9/18/2021 21:58</td>\n",
       "      <td>1/22/2022 15:16</td>\n",
       "      <td>QoS</td>\n",
       "      <td>Cleared</td>\n",
       "      <td>3017 hours 17 minutes 30 seconds</td>\n",
       "    </tr>\n",
       "  </tbody>\n",
       "</table>\n",
       "</div>"
      ],
      "text/plain": [
       "         Severity                          Name Alarm Source Occurred On (NT)  \\\n",
       "0  \\t\\t-    Minor  Task execution failure alarm          OSS  9/17/2021 19:39   \n",
       "1  \\t\\t-    Minor  Task execution failure alarm          OSS  9/18/2021 21:35   \n",
       "2  \\t\\t-    Minor  Task execution failure alarm          OSS  9/17/2021 19:40   \n",
       "3  \\t\\t-    Minor  Task execution failure alarm          OSS  9/18/2021 22:08   \n",
       "4  \\t\\t-    Minor  Task execution failure alarm          OSS  9/18/2021 21:58   \n",
       "\n",
       "   Cleared On (NT) Type Clearance Status                    Alarm Duration  \n",
       "0  1/22/2022 15:16  QoS          Cleared  3043 hours 36 minutes 45 seconds  \n",
       "1  1/22/2022 15:16  QoS          Cleared  3017 hours 40 minutes 50 seconds  \n",
       "2  1/22/2022 15:16  QoS          Cleared  3043 hours 35 minutes 25 seconds  \n",
       "3  1/22/2022 15:16  QoS          Cleared   3017 hours 7 minutes 31 seconds  \n",
       "4  1/22/2022 15:16  QoS          Cleared  3017 hours 17 minutes 30 seconds  "
      ]
     },
     "execution_count": 3,
     "metadata": {},
     "output_type": "execute_result"
    }
   ],
   "source": [
    "df = df_merged.copy()\n",
    "df.head()"
   ]
  },
  {
   "cell_type": "code",
   "execution_count": 4,
   "metadata": {},
   "outputs": [
    {
     "data": {
      "text/html": [
       "<div>\n",
       "<style scoped>\n",
       "    .dataframe tbody tr th:only-of-type {\n",
       "        vertical-align: middle;\n",
       "    }\n",
       "\n",
       "    .dataframe tbody tr th {\n",
       "        vertical-align: top;\n",
       "    }\n",
       "\n",
       "    .dataframe thead th {\n",
       "        text-align: right;\n",
       "    }\n",
       "</style>\n",
       "<table border=\"1\" class=\"dataframe\">\n",
       "  <thead>\n",
       "    <tr style=\"text-align: right;\">\n",
       "      <th></th>\n",
       "      <th>Severity</th>\n",
       "      <th>Name</th>\n",
       "      <th>Alarm Source</th>\n",
       "      <th>Occurred On (NT)</th>\n",
       "      <th>Cleared On (NT)</th>\n",
       "      <th>Type</th>\n",
       "      <th>Alarm Duration</th>\n",
       "    </tr>\n",
       "  </thead>\n",
       "  <tbody>\n",
       "    <tr>\n",
       "      <th>0</th>\n",
       "      <td>Minor</td>\n",
       "      <td>Task execution failure alarm</td>\n",
       "      <td>OSS</td>\n",
       "      <td>9/17/2021 19:39</td>\n",
       "      <td>1/22/2022 15:16</td>\n",
       "      <td>QoS</td>\n",
       "      <td>3043 hours 36 minutes 45 seconds</td>\n",
       "    </tr>\n",
       "    <tr>\n",
       "      <th>1</th>\n",
       "      <td>Minor</td>\n",
       "      <td>Task execution failure alarm</td>\n",
       "      <td>OSS</td>\n",
       "      <td>9/18/2021 21:35</td>\n",
       "      <td>1/22/2022 15:16</td>\n",
       "      <td>QoS</td>\n",
       "      <td>3017 hours 40 minutes 50 seconds</td>\n",
       "    </tr>\n",
       "    <tr>\n",
       "      <th>2</th>\n",
       "      <td>Minor</td>\n",
       "      <td>Task execution failure alarm</td>\n",
       "      <td>OSS</td>\n",
       "      <td>9/17/2021 19:40</td>\n",
       "      <td>1/22/2022 15:16</td>\n",
       "      <td>QoS</td>\n",
       "      <td>3043 hours 35 minutes 25 seconds</td>\n",
       "    </tr>\n",
       "    <tr>\n",
       "      <th>3</th>\n",
       "      <td>Minor</td>\n",
       "      <td>Task execution failure alarm</td>\n",
       "      <td>OSS</td>\n",
       "      <td>9/18/2021 22:08</td>\n",
       "      <td>1/22/2022 15:16</td>\n",
       "      <td>QoS</td>\n",
       "      <td>3017 hours 7 minutes 31 seconds</td>\n",
       "    </tr>\n",
       "    <tr>\n",
       "      <th>4</th>\n",
       "      <td>Minor</td>\n",
       "      <td>Task execution failure alarm</td>\n",
       "      <td>OSS</td>\n",
       "      <td>9/18/2021 21:58</td>\n",
       "      <td>1/22/2022 15:16</td>\n",
       "      <td>QoS</td>\n",
       "      <td>3017 hours 17 minutes 30 seconds</td>\n",
       "    </tr>\n",
       "  </tbody>\n",
       "</table>\n",
       "</div>"
      ],
      "text/plain": [
       "  Severity                          Name Alarm Source Occurred On (NT)  \\\n",
       "0    Minor  Task execution failure alarm          OSS  9/17/2021 19:39   \n",
       "1    Minor  Task execution failure alarm          OSS  9/18/2021 21:35   \n",
       "2    Minor  Task execution failure alarm          OSS  9/17/2021 19:40   \n",
       "3    Minor  Task execution failure alarm          OSS  9/18/2021 22:08   \n",
       "4    Minor  Task execution failure alarm          OSS  9/18/2021 21:58   \n",
       "\n",
       "   Cleared On (NT) Type                    Alarm Duration  \n",
       "0  1/22/2022 15:16  QoS  3043 hours 36 minutes 45 seconds  \n",
       "1  1/22/2022 15:16  QoS  3017 hours 40 minutes 50 seconds  \n",
       "2  1/22/2022 15:16  QoS  3043 hours 35 minutes 25 seconds  \n",
       "3  1/22/2022 15:16  QoS   3017 hours 7 minutes 31 seconds  \n",
       "4  1/22/2022 15:16  QoS  3017 hours 17 minutes 30 seconds  "
      ]
     },
     "execution_count": 4,
     "metadata": {},
     "output_type": "execute_result"
    }
   ],
   "source": [
    "df = df[['Severity','Name','Alarm Source','Occurred On (NT)','Cleared On (NT)','Type','Alarm Duration']]\n",
    "df.head()"
   ]
  },
  {
   "cell_type": "code",
   "execution_count": 5,
   "metadata": {},
   "outputs": [],
   "source": [
    "#We Don't need OSS Alarms\n",
    "df.drop(df[df['Alarm Source'] =='OSS'].index, inplace=True)"
   ]
  },
  {
   "cell_type": "code",
   "execution_count": 6,
   "metadata": {},
   "outputs": [
    {
     "data": {
      "text/html": [
       "<div>\n",
       "<style scoped>\n",
       "    .dataframe tbody tr th:only-of-type {\n",
       "        vertical-align: middle;\n",
       "    }\n",
       "\n",
       "    .dataframe tbody tr th {\n",
       "        vertical-align: top;\n",
       "    }\n",
       "\n",
       "    .dataframe thead th {\n",
       "        text-align: right;\n",
       "    }\n",
       "</style>\n",
       "<table border=\"1\" class=\"dataframe\">\n",
       "  <thead>\n",
       "    <tr style=\"text-align: right;\">\n",
       "      <th></th>\n",
       "      <th>Total</th>\n",
       "      <th>Percent</th>\n",
       "    </tr>\n",
       "  </thead>\n",
       "  <tbody>\n",
       "    <tr>\n",
       "      <th>Alarm Duration</th>\n",
       "      <td>0</td>\n",
       "      <td>0.0</td>\n",
       "    </tr>\n",
       "    <tr>\n",
       "      <th>Type</th>\n",
       "      <td>0</td>\n",
       "      <td>0.0</td>\n",
       "    </tr>\n",
       "    <tr>\n",
       "      <th>Cleared On (NT)</th>\n",
       "      <td>0</td>\n",
       "      <td>0.0</td>\n",
       "    </tr>\n",
       "    <tr>\n",
       "      <th>Occurred On (NT)</th>\n",
       "      <td>0</td>\n",
       "      <td>0.0</td>\n",
       "    </tr>\n",
       "    <tr>\n",
       "      <th>Alarm Source</th>\n",
       "      <td>0</td>\n",
       "      <td>0.0</td>\n",
       "    </tr>\n",
       "    <tr>\n",
       "      <th>Name</th>\n",
       "      <td>0</td>\n",
       "      <td>0.0</td>\n",
       "    </tr>\n",
       "    <tr>\n",
       "      <th>Severity</th>\n",
       "      <td>0</td>\n",
       "      <td>0.0</td>\n",
       "    </tr>\n",
       "  </tbody>\n",
       "</table>\n",
       "</div>"
      ],
      "text/plain": [
       "                  Total  Percent\n",
       "Alarm Duration        0      0.0\n",
       "Type                  0      0.0\n",
       "Cleared On (NT)       0      0.0\n",
       "Occurred On (NT)      0      0.0\n",
       "Alarm Source          0      0.0\n",
       "Name                  0      0.0\n",
       "Severity              0      0.0"
      ]
     },
     "execution_count": 6,
     "metadata": {},
     "output_type": "execute_result"
    }
   ],
   "source": [
    "#Check Missing Values\n",
    "def check_missing(data):\n",
    "    total = data.isnull().sum().sort_values(ascending=False)\n",
    "    percent = (data.isnull().sum()/data.isnull().count()).sort_values(ascending=False)\n",
    "    missing_data = pd.concat([total, percent], axis=1, keys=['Total', 'Percent'])\n",
    "    return missing_data.head(20)\n",
    "\n",
    "check_missing(df)"
   ]
  },
  {
   "cell_type": "code",
   "execution_count": 7,
   "metadata": {},
   "outputs": [
    {
     "data": {
      "text/html": [
       "<div>\n",
       "<style scoped>\n",
       "    .dataframe tbody tr th:only-of-type {\n",
       "        vertical-align: middle;\n",
       "    }\n",
       "\n",
       "    .dataframe tbody tr th {\n",
       "        vertical-align: top;\n",
       "    }\n",
       "\n",
       "    .dataframe thead th {\n",
       "        text-align: right;\n",
       "    }\n",
       "</style>\n",
       "<table border=\"1\" class=\"dataframe\">\n",
       "  <thead>\n",
       "    <tr style=\"text-align: right;\">\n",
       "      <th></th>\n",
       "      <th>Unique Count</th>\n",
       "      <th>Duplicate Count</th>\n",
       "      <th>Unique percent</th>\n",
       "      <th>Duplicate Percent</th>\n",
       "    </tr>\n",
       "  </thead>\n",
       "  <tbody>\n",
       "    <tr>\n",
       "      <th>0</th>\n",
       "      <td>6400938</td>\n",
       "      <td>1026319</td>\n",
       "      <td>86.181722</td>\n",
       "      <td>13.818278</td>\n",
       "    </tr>\n",
       "  </tbody>\n",
       "</table>\n",
       "</div>"
      ],
      "text/plain": [
       "   Unique Count  Duplicate Count  Unique percent  Duplicate Percent\n",
       "0       6400938          1026319       86.181722          13.818278"
      ]
     },
     "execution_count": 7,
     "metadata": {},
     "output_type": "execute_result"
    }
   ],
   "source": [
    "#check duplicate rows\n",
    "def check_duplicate(data):\n",
    "    duplicate = data.duplicated()\n",
    "    unique_data  = pd.Series(data.shape[0] - duplicate.value_counts()[1])\n",
    "    duplicate_data = pd.Series(data.shape[0] - duplicate.value_counts()[0])\n",
    "    unique_data_percent = pd.Series((unique_data/data.shape[0])*100)\n",
    "    duplicate_data_percent = pd.Series((duplicate_data/data.shape[0])*100)\n",
    "    dub = pd.concat([unique_data, duplicate_data,unique_data_percent,duplicate_data_percent], axis=1, keys=['Unique Count', 'Duplicate Count','Unique percent','Duplicate Percent'])\n",
    "    return dub\n",
    "\n",
    "check_duplicate(df)"
   ]
  },
  {
   "cell_type": "code",
   "execution_count": 6,
   "metadata": {},
   "outputs": [],
   "source": [
    "#Drop duplicates\n",
    "df.drop_duplicates(inplace=True)"
   ]
  },
  {
   "cell_type": "code",
   "execution_count": 9,
   "metadata": {},
   "outputs": [
    {
     "name": "stdout",
     "output_type": "stream",
     "text": [
      "Total Number of Alarms : 6400938\n"
     ]
    }
   ],
   "source": [
    "print(\"Total Number of Alarms : {}\".format(df.shape[0]))"
   ]
  },
  {
   "cell_type": "code",
   "execution_count": 10,
   "metadata": {},
   "outputs": [
    {
     "name": "stdout",
     "output_type": "stream",
     "text": [
      "Number of unique Alarms: 163\n"
     ]
    }
   ],
   "source": [
    "print('Number of unique Alarms: {}'.format(len(df['Name'].unique())))"
   ]
  },
  {
   "cell_type": "code",
   "execution_count": 11,
   "metadata": {},
   "outputs": [
    {
     "name": "stdout",
     "output_type": "stream",
     "text": [
      "Number of Alarm Source : 1465\n"
     ]
    }
   ],
   "source": [
    "print('Number of Alarm Source : {}'.format(len(df['Alarm Source'].unique())))"
   ]
  },
  {
   "cell_type": "code",
   "execution_count": 12,
   "metadata": {},
   "outputs": [
    {
     "data": {
      "text/html": [
       "<div>\n",
       "<style scoped>\n",
       "    .dataframe tbody tr th:only-of-type {\n",
       "        vertical-align: middle;\n",
       "    }\n",
       "\n",
       "    .dataframe tbody tr th {\n",
       "        vertical-align: top;\n",
       "    }\n",
       "\n",
       "    .dataframe thead th {\n",
       "        text-align: right;\n",
       "    }\n",
       "</style>\n",
       "<table border=\"1\" class=\"dataframe\">\n",
       "  <thead>\n",
       "    <tr style=\"text-align: right;\">\n",
       "      <th></th>\n",
       "      <th>Severity</th>\n",
       "      <th>Name</th>\n",
       "      <th>Alarm Source</th>\n",
       "      <th>Occurred On (NT)</th>\n",
       "      <th>Cleared On (NT)</th>\n",
       "      <th>Type</th>\n",
       "      <th>Alarm_Duration_Hour</th>\n",
       "    </tr>\n",
       "  </thead>\n",
       "  <tbody>\n",
       "    <tr>\n",
       "      <th>40</th>\n",
       "      <td>Major</td>\n",
       "      <td>IKE Negotiation Failure</td>\n",
       "      <td>LSINS38284</td>\n",
       "      <td>10/13/2021 14:38</td>\n",
       "      <td>10/14/2021 10:38</td>\n",
       "      <td>Trunk system</td>\n",
       "      <td>20.000000</td>\n",
       "    </tr>\n",
       "    <tr>\n",
       "      <th>41</th>\n",
       "      <td>Major</td>\n",
       "      <td>Cell Unavailable</td>\n",
       "      <td>LDELE54858</td>\n",
       "      <td>10/13/2021 14:39</td>\n",
       "      <td>10/13/2021 14:39</td>\n",
       "      <td>Signaling system</td>\n",
       "      <td>0.000000</td>\n",
       "    </tr>\n",
       "    <tr>\n",
       "      <th>42</th>\n",
       "      <td>Minor</td>\n",
       "      <td>SCTP Link Congestion</td>\n",
       "      <td>LCAIN10797</td>\n",
       "      <td>10/13/2021 14:38</td>\n",
       "      <td>10/13/2021 14:40</td>\n",
       "      <td>Trunk system</td>\n",
       "      <td>0.033333</td>\n",
       "    </tr>\n",
       "    <tr>\n",
       "      <th>43</th>\n",
       "      <td>Major</td>\n",
       "      <td>SCTP Link Fault</td>\n",
       "      <td>LSINS26375</td>\n",
       "      <td>10/13/2021 14:38</td>\n",
       "      <td>10/13/2021 15:38</td>\n",
       "      <td>Trunk system</td>\n",
       "      <td>1.000000</td>\n",
       "    </tr>\n",
       "    <tr>\n",
       "      <th>44</th>\n",
       "      <td>Major</td>\n",
       "      <td>User Plane Path Fault</td>\n",
       "      <td>LCAIE12478</td>\n",
       "      <td>10/13/2021 14:39</td>\n",
       "      <td>10/13/2021 15:37</td>\n",
       "      <td>Trunk system</td>\n",
       "      <td>0.966667</td>\n",
       "    </tr>\n",
       "  </tbody>\n",
       "</table>\n",
       "</div>"
      ],
      "text/plain": [
       "   Severity                     Name Alarm Source  Occurred On (NT)  \\\n",
       "40    Major  IKE Negotiation Failure   LSINS38284  10/13/2021 14:38   \n",
       "41    Major         Cell Unavailable   LDELE54858  10/13/2021 14:39   \n",
       "42    Minor     SCTP Link Congestion   LCAIN10797  10/13/2021 14:38   \n",
       "43    Major          SCTP Link Fault   LSINS26375  10/13/2021 14:38   \n",
       "44    Major    User Plane Path Fault   LCAIE12478  10/13/2021 14:39   \n",
       "\n",
       "     Cleared On (NT)              Type  Alarm_Duration_Hour  \n",
       "40  10/14/2021 10:38      Trunk system            20.000000  \n",
       "41  10/13/2021 14:39  Signaling system             0.000000  \n",
       "42  10/13/2021 14:40      Trunk system             0.033333  \n",
       "43  10/13/2021 15:38      Trunk system             1.000000  \n",
       "44  10/13/2021 15:37      Trunk system             0.966667  "
      ]
     },
     "execution_count": 12,
     "metadata": {},
     "output_type": "execute_result"
    }
   ],
   "source": [
    "df['Alarm_Duration_Hour'] = (pd.to_datetime(df['Cleared On (NT)'])-pd.to_datetime(df['Occurred On (NT)']))/ pd.Timedelta(hours=1)\n",
    "df = df[['Severity','Name','Alarm Source','Occurred On (NT)','Cleared On (NT)','Type','Alarm_Duration_Hour']]\n",
    "df.head()"
   ]
  },
  {
   "cell_type": "code",
   "execution_count": 13,
   "metadata": {},
   "outputs": [
    {
     "data": {
      "text/plain": [
       "Text(0.5, 1.0, 'Severity Percentage')"
      ]
     },
     "execution_count": 13,
     "metadata": {},
     "output_type": "execute_result"
    },
    {
     "data": {
      "image/png": "[encoded data removed]",
      "text/plain": [
       "<Figure size 720x1080 with 1 Axes>"
      ]
     },
     "metadata": {},
     "output_type": "display_data"
    }
   ],
   "source": [
    "df['Severity'].value_counts().plot(kind='pie',figsize=[10,15],autopct='%1.1f%%')\n",
    "plt.title('Severity Percentage')"
   ]
  },
  {
   "cell_type": "code",
   "execution_count": 14,
   "metadata": {},
   "outputs": [
    {
     "data": {
      "text/plain": [
       "Text(0.5, 1.0, 'Count of Types')"
      ]
     },
     "execution_count": 14,
     "metadata": {},
     "output_type": "execute_result"
    },
    {
     "data": {
      "image/png": "[encoded data removed]",
      "text/plain": [
       "<Figure size 1440x576 with 1 Axes>"
      ]
     },
     "metadata": {
      "needs_background": "light"
     },
     "output_type": "display_data"
    }
   ],
   "source": [
    "ax = df['Type'].value_counts().plot(kind='bar',figsize=[20,8])\n",
    "for p in ax.patches:\n",
    "    ax.annotate(format(p.get_height()), \n",
    "                   (p.get_x() + p.get_width() / 2., p.get_height()), \n",
    "                   ha = 'center', va = 'center', \n",
    "                   xytext = (0, 9), \n",
    "                   textcoords = 'offset points')\n",
    "plt.title('Count of Types')"
   ]
  },
  {
   "cell_type": "code",
   "execution_count": 15,
   "metadata": {},
   "outputs": [
    {
     "data": {
      "image/png": "[encoded data removed]",
      "text/plain": [
       "<Figure size 720x576 with 1 Axes>"
      ]
     },
     "metadata": {
      "needs_background": "light"
     },
     "output_type": "display_data"
    }
   ],
   "source": [
    "fig, axs = plt.subplots(figsize = (10,8))\n",
    "fig = sns.countplot(x=\"Severity\", hue ='Type', data = df)\n",
    "plt.title('Severity Vs Type')\n",
    "plt.show()"
   ]
  },
  {
   "cell_type": "code",
   "execution_count": 16,
   "metadata": {},
   "outputs": [
    {
     "data": {
      "image/png": "[encoded data removed]",
      "text/plain": [
       "<Figure size 2880x720 with 1 Axes>"
      ]
     },
     "metadata": {
      "needs_background": "light"
     },
     "output_type": "display_data"
    }
   ],
   "source": [
    "fig, axs = plt.subplots(figsize = (40,10))\n",
    "sns.countplot(x=\"Type\", hue ='Severity', data = df)\n",
    "plt.title('Type Vs Severity')\n",
    "plt.show()"
   ]
  },
  {
   "cell_type": "code",
   "execution_count": 17,
   "metadata": {},
   "outputs": [
    {
     "data": {
      "text/plain": [
       "<AxesSubplot:>"
      ]
     },
     "execution_count": 17,
     "metadata": {},
     "output_type": "execute_result"
    },
    {
     "data": {
      "image/png": "[encoded data removed]",
      "text/plain": [
       "<Figure size 720x720 with 1 Axes>"
      ]
     },
     "metadata": {
      "needs_background": "light"
     },
     "output_type": "display_data"
    }
   ],
   "source": [
    "df['Name'].value_counts().head(20).plot(kind='barh',figsize=[10,10])"
   ]
  },
  {
   "cell_type": "code",
   "execution_count": 18,
   "metadata": {},
   "outputs": [
    {
     "data": {
      "text/plain": [
       "Text(0.5, 1.0, 'Top 20 Sites')"
      ]
     },
     "execution_count": 18,
     "metadata": {},
     "output_type": "execute_result"
    },
    {
     "data": {
      "image/png": "[encoded data removed]",
      "text/plain": [
       "<Figure size 720x720 with 1 Axes>"
      ]
     },
     "metadata": {
      "needs_background": "light"
     },
     "output_type": "display_data"
    }
   ],
   "source": [
    "df['Alarm Source'].value_counts().head(20).plot(kind='barh',figsize=[10,10])\n",
    "plt.title('Top 20 Sites')"
   ]
  },
  {
   "cell_type": "code",
   "execution_count": 19,
   "metadata": {},
   "outputs": [
    {
     "data": {
      "text/plain": [
       "array([10, 11, 12], dtype=int64)"
      ]
     },
     "execution_count": 19,
     "metadata": {},
     "output_type": "execute_result"
    }
   ],
   "source": [
    "pd.to_datetime(df['Occurred On (NT)']).dt.month.unique()"
   ]
  },
  {
   "cell_type": "code",
   "execution_count": 20,
   "metadata": {},
   "outputs": [
    {
     "data": {
      "text/html": [
       "<div>\n",
       "<style scoped>\n",
       "    .dataframe tbody tr th:only-of-type {\n",
       "        vertical-align: middle;\n",
       "    }\n",
       "\n",
       "    .dataframe tbody tr th {\n",
       "        vertical-align: top;\n",
       "    }\n",
       "\n",
       "    .dataframe thead th {\n",
       "        text-align: right;\n",
       "    }\n",
       "</style>\n",
       "<table border=\"1\" class=\"dataframe\">\n",
       "  <thead>\n",
       "    <tr style=\"text-align: right;\">\n",
       "      <th></th>\n",
       "      <th>Severity</th>\n",
       "      <th>Name</th>\n",
       "      <th>Alarm Source</th>\n",
       "      <th>Occurred On (NT)</th>\n",
       "      <th>Cleared On (NT)</th>\n",
       "      <th>Type</th>\n",
       "      <th>Alarm_Duration_Hour</th>\n",
       "      <th>Alarm&amp;Source</th>\n",
       "    </tr>\n",
       "  </thead>\n",
       "  <tbody>\n",
       "    <tr>\n",
       "      <th>40</th>\n",
       "      <td>Major</td>\n",
       "      <td>IKE Negotiation Failure</td>\n",
       "      <td>LSINS38284</td>\n",
       "      <td>10/13/2021 14:38</td>\n",
       "      <td>10/14/2021 10:38</td>\n",
       "      <td>Trunk system</td>\n",
       "      <td>20.000000</td>\n",
       "      <td>IKE Negotiation Failure_LSINS38284</td>\n",
       "    </tr>\n",
       "    <tr>\n",
       "      <th>41</th>\n",
       "      <td>Major</td>\n",
       "      <td>Cell Unavailable</td>\n",
       "      <td>LDELE54858</td>\n",
       "      <td>10/13/2021 14:39</td>\n",
       "      <td>10/13/2021 14:39</td>\n",
       "      <td>Signaling system</td>\n",
       "      <td>0.000000</td>\n",
       "      <td>Cell Unavailable_LDELE54858</td>\n",
       "    </tr>\n",
       "    <tr>\n",
       "      <th>42</th>\n",
       "      <td>Minor</td>\n",
       "      <td>SCTP Link Congestion</td>\n",
       "      <td>LCAIN10797</td>\n",
       "      <td>10/13/2021 14:38</td>\n",
       "      <td>10/13/2021 14:40</td>\n",
       "      <td>Trunk system</td>\n",
       "      <td>0.033333</td>\n",
       "      <td>SCTP Link Congestion_LCAIN10797</td>\n",
       "    </tr>\n",
       "    <tr>\n",
       "      <th>43</th>\n",
       "      <td>Major</td>\n",
       "      <td>SCTP Link Fault</td>\n",
       "      <td>LSINS26375</td>\n",
       "      <td>10/13/2021 14:38</td>\n",
       "      <td>10/13/2021 15:38</td>\n",
       "      <td>Trunk system</td>\n",
       "      <td>1.000000</td>\n",
       "      <td>SCTP Link Fault_LSINS26375</td>\n",
       "    </tr>\n",
       "    <tr>\n",
       "      <th>44</th>\n",
       "      <td>Major</td>\n",
       "      <td>User Plane Path Fault</td>\n",
       "      <td>LCAIE12478</td>\n",
       "      <td>10/13/2021 14:39</td>\n",
       "      <td>10/13/2021 15:37</td>\n",
       "      <td>Trunk system</td>\n",
       "      <td>0.966667</td>\n",
       "      <td>User Plane Path Fault_LCAIE12478</td>\n",
       "    </tr>\n",
       "  </tbody>\n",
       "</table>\n",
       "</div>"
      ],
      "text/plain": [
       "   Severity                     Name Alarm Source  Occurred On (NT)  \\\n",
       "40    Major  IKE Negotiation Failure   LSINS38284  10/13/2021 14:38   \n",
       "41    Major         Cell Unavailable   LDELE54858  10/13/2021 14:39   \n",
       "42    Minor     SCTP Link Congestion   LCAIN10797  10/13/2021 14:38   \n",
       "43    Major          SCTP Link Fault   LSINS26375  10/13/2021 14:38   \n",
       "44    Major    User Plane Path Fault   LCAIE12478  10/13/2021 14:39   \n",
       "\n",
       "     Cleared On (NT)              Type  Alarm_Duration_Hour  \\\n",
       "40  10/14/2021 10:38      Trunk system            20.000000   \n",
       "41  10/13/2021 14:39  Signaling system             0.000000   \n",
       "42  10/13/2021 14:40      Trunk system             0.033333   \n",
       "43  10/13/2021 15:38      Trunk system             1.000000   \n",
       "44  10/13/2021 15:37      Trunk system             0.966667   \n",
       "\n",
       "                          Alarm&Source  \n",
       "40  IKE Negotiation Failure_LSINS38284  \n",
       "41         Cell Unavailable_LDELE54858  \n",
       "42     SCTP Link Congestion_LCAIN10797  \n",
       "43          SCTP Link Fault_LSINS26375  \n",
       "44    User Plane Path Fault_LCAIE12478  "
      ]
     },
     "execution_count": 20,
     "metadata": {},
     "output_type": "execute_result"
    }
   ],
   "source": [
    "df['Alarm&Source']=df['Name'] + '_' + df['Alarm Source']\n",
    "df.head()"
   ]
  },
  {
   "cell_type": "code",
   "execution_count": 21,
   "metadata": {},
   "outputs": [
    {
     "data": {
      "text/plain": [
       "20885"
      ]
     },
     "execution_count": 21,
     "metadata": {},
     "output_type": "execute_result"
    }
   ],
   "source": [
    "len(df['Alarm&Source'].unique())"
   ]
  },
  {
   "cell_type": "code",
   "execution_count": 22,
   "metadata": {},
   "outputs": [
    {
     "data": {
      "text/plain": [
       "Text(0.5, 1.0, 'Top 20 Sites')"
      ]
     },
     "execution_count": 22,
     "metadata": {},
     "output_type": "execute_result"
    },
    {
     "data": {
      "image/png": "[encoded data removed]",
      "text/plain": [
       "<Figure size 720x720 with 1 Axes>"
      ]
     },
     "metadata": {
      "needs_background": "light"
     },
     "output_type": "display_data"
    }
   ],
   "source": [
    "df['Alarm&Source'].value_counts().head(20).plot(kind='barh',figsize=[10,10])\n",
    "plt.title('Top 20 Sites')"
   ]
  },
  {
   "cell_type": "code",
   "execution_count": 23,
   "metadata": {},
   "outputs": [
    {
     "data": {
      "text/plain": [
       "4.384720745824167"
      ]
     },
     "execution_count": 23,
     "metadata": {},
     "output_type": "execute_result"
    }
   ],
   "source": [
    "df['Alarm_Duration_Hour'].mean()"
   ]
  },
  {
   "cell_type": "code",
   "execution_count": 62,
   "metadata": {},
   "outputs": [
    {
     "data": {
      "text/plain": [
       "'Alarms per time for LCAIE12478.html'"
      ]
     },
     "execution_count": 62,
     "metadata": {},
     "output_type": "execute_result"
    }
   ],
   "source": [
    "#Site alarms\n",
    "data=[]\n",
    "snap = df[df['Alarm Source']=='LCAIE12478']\n",
    "for i in snap['Name'].unique():\n",
    "    snap2 = snap[snap['Name']==i]\n",
    "    trace = go.Scatter(x=pd.to_datetime(snap2['Occurred On (NT)']),y=snap2['Name'],name=i,mode='markers')\n",
    "    data.append(trace)\n",
    "layout = go.Layout(title='Alarms per time for LCAIE12478', xaxis ={'title':'time'},yaxis={'title':'Alarm'}, hovermode = 'x unified')\n",
    "fig = go.Figure(data=data, layout=layout)\n",
    "pyo.plot(fig, filename='Alarms per time for LCAIE12478.html')"
   ]
  },
  {
   "cell_type": "markdown",
   "metadata": {},
   "source": [
    "# Clsutering LCAIE12478"
   ]
  },
  {
   "cell_type": "code",
   "execution_count": 61,
   "metadata": {},
   "outputs": [
    {
     "data": {
      "text/html": [
       "<div>\n",
       "<style scoped>\n",
       "    .dataframe tbody tr th:only-of-type {\n",
       "        vertical-align: middle;\n",
       "    }\n",
       "\n",
       "    .dataframe tbody tr th {\n",
       "        vertical-align: top;\n",
       "    }\n",
       "\n",
       "    .dataframe thead th {\n",
       "        text-align: right;\n",
       "    }\n",
       "</style>\n",
       "<table border=\"1\" class=\"dataframe\">\n",
       "  <thead>\n",
       "    <tr style=\"text-align: right;\">\n",
       "      <th></th>\n",
       "      <th>Severity</th>\n",
       "      <th>Name</th>\n",
       "      <th>Alarm Source</th>\n",
       "      <th>Occurred On (NT)</th>\n",
       "      <th>Cleared On (NT)</th>\n",
       "      <th>Type</th>\n",
       "      <th>Alarm_Duration_Hour</th>\n",
       "      <th>Alarm&amp;Source</th>\n",
       "    </tr>\n",
       "  </thead>\n",
       "  <tbody>\n",
       "    <tr>\n",
       "      <th>44</th>\n",
       "      <td>Major</td>\n",
       "      <td>User Plane Path Fault</td>\n",
       "      <td>LCAIE12478</td>\n",
       "      <td>10/13/2021 14:39</td>\n",
       "      <td>10/13/2021 15:37</td>\n",
       "      <td>Trunk system</td>\n",
       "      <td>0.966667</td>\n",
       "      <td>User Plane Path Fault_LCAIE12478</td>\n",
       "    </tr>\n",
       "    <tr>\n",
       "      <th>390</th>\n",
       "      <td>Major</td>\n",
       "      <td>IKE Negotiation Failure</td>\n",
       "      <td>LCAIE12478</td>\n",
       "      <td>10/13/2021 14:53</td>\n",
       "      <td>10/13/2021 14:54</td>\n",
       "      <td>Trunk system</td>\n",
       "      <td>0.016667</td>\n",
       "      <td>IKE Negotiation Failure_LCAIE12478</td>\n",
       "    </tr>\n",
       "  </tbody>\n",
       "</table>\n",
       "</div>"
      ],
      "text/plain": [
       "    Severity                     Name Alarm Source  Occurred On (NT)  \\\n",
       "44     Major    User Plane Path Fault   LCAIE12478  10/13/2021 14:39   \n",
       "390    Major  IKE Negotiation Failure   LCAIE12478  10/13/2021 14:53   \n",
       "\n",
       "      Cleared On (NT)          Type  Alarm_Duration_Hour  \\\n",
       "44   10/13/2021 15:37  Trunk system             0.966667   \n",
       "390  10/13/2021 14:54  Trunk system             0.016667   \n",
       "\n",
       "                           Alarm&Source  \n",
       "44     User Plane Path Fault_LCAIE12478  \n",
       "390  IKE Negotiation Failure_LCAIE12478  "
      ]
     },
     "execution_count": 61,
     "metadata": {},
     "output_type": "execute_result"
    }
   ],
   "source": [
    "snap = df[df['Alarm Source']=='LCAIE12478'].copy()\n",
    "snap.head(2)"
   ]
  },
  {
   "cell_type": "code",
   "execution_count": null,
   "metadata": {},
   "outputs": [],
   "source": [
    "Occurred_year = pd.DataFrame(pd.DatetimeIndex(snap['Occurred On (NT)']).year)\n",
    "Occurred_month = pd.DataFrame(pd.DatetimeIndex(snap['Occurred On (NT)']).month)\n",
    "Occurred_day = pd.DataFrame(pd.DatetimeIndex(snap['Occurred On (NT)']).day)\n",
    "Occurred_hour = pd.DataFrame(pd.DatetimeIndex(snap['Occurred On (NT)']).hour)\n",
    "Occurred_minute = pd.DataFrame(pd.DatetimeIndex(snap['Occurred On (NT)']).minute)\n",
    "Occurred_second = pd.DataFrame(pd.DatetimeIndex(snap['Occurred On (NT)']).second)\n",
    "Cleared_year = pd.DataFrame(pd.DatetimeIndex(snap['Cleared On (NT)']).year)\n",
    "Cleared_month = pd.DataFrame(pd.DatetimeIndex(snap['Cleared On (NT)']).month)\n",
    "Cleared_day = pd.DataFrame(pd.DatetimeIndex(snap['Cleared On (NT)']).day)\n",
    "Cleared_hour = pd.DataFrame(pd.DatetimeIndex(snap['Cleared On (NT)']).hour)\n",
    "Cleared_minute = pd.DataFrame(pd.DatetimeIndex(snap['Cleared On (NT)']).minute)\n",
    "Cleared_second = pd.DataFrame(pd.DatetimeIndex(snap['Cleared On (NT)']).second)\n",
    "\n",
    "data = pd.concat([Occurred_year,Occurred_month],axis=1)\n",
    "data = pd.concat([data,Occurred_day],axis=1)\n",
    "data = pd.concat([data,Occurred_hour],axis=1)\n",
    "data = pd.concat([data,Occurred_second],axis=1)\n",
    "data = pd.concat([data,Cleared_year],axis=1)\n",
    "data = pd.concat([data,Cleared_month],axis=1)\n",
    "data = pd.concat([data,Cleared_hour],axis=1)\n",
    "data = pd.concat([data,Cleared_minute],axis=1)\n",
    "data = pd.concat([data,Cleared_second],axis=1)\n",
    "\n",
    "all_data_finish = data.set_axis(['Occurred_year', 'Occurred_month', 'Occurred_day',\n",
    "                                 'Occurred_hour', 'Occurred_second', 'Cleared_year',\n",
    "                                 'Cleared_month','Cleared_hour','Cleared_minute',\n",
    "                                 'Cleared_second'], axis=1, inplace=False)\n",
    "all_data_finish.head(2)"
   ]
  },
  {
   "cell_type": "code",
   "execution_count": 28,
   "metadata": {},
   "outputs": [],
   "source": [
    "from sklearn.preprocessing import LabelEncoder,OneHotEncoder\n",
    "\n",
    "# Define dataframe's function and the column to return a dataframe later OHE\n",
    "def OneHotEncoding(df, column):\n",
    "    label = LabelEncoder()\n",
    "    encoding=label.fit_transform(df[column]).reshape(-1,1)\n",
    "    encoder = OneHotEncoder(sparse=False)\n",
    "    column = [column+ \"_\"+ str(i) for i in label.classes_]\n",
    "    data = encoder.fit_transform(encoding)\n",
    "    return(pd.DataFrame(data,columns =column))"
   ]
  },
  {
   "cell_type": "code",
   "execution_count": 29,
   "metadata": {},
   "outputs": [
    {
     "name": "stdout",
     "output_type": "stream",
     "text": [
      "Column  Severity  tranform!\n",
      "Column  Name  tranform!\n",
      "Column  Type  tranform!\n"
     ]
    }
   ],
   "source": [
    "snap2 = snap[['Severity','Name','Type']]\n",
    "types = pd.DataFrame(snap2.dtypes)\n",
    "\n",
    "#encoding categories and add finished column to dataframe with ready features\n",
    "categories = types.index[types[0] == 'O'].values\n",
    "for column in categories:\n",
    "    df = OneHotEncoding(snap2,column)\n",
    "    all_data_finish = pd.concat([all_data_finish,df],axis=1)\n",
    "    print(\"Column \",column, \" tranform!\")"
   ]
  },
  {
   "cell_type": "code",
   "execution_count": 30,
   "metadata": {},
   "outputs": [
    {
     "data": {
      "image/png": "[encoded data removed]",
      "text/plain": [
       "<Figure size 432x288 with 1 Axes>"
      ]
     },
     "metadata": {
      "needs_background": "light"
     },
     "output_type": "display_data"
    }
   ],
   "source": [
    "from sklearn.cluster import KMeans\n",
    "wcss = []\n",
    "for i in range(1, 10):\n",
    "    kmeans = KMeans(n_clusters = i, init = 'k-means++', random_state = 42)\n",
    "    kmeans.fit(all_data_finish)\n",
    "    wcss.append(kmeans.inertia_)\n",
    "plt.plot(range(1, 10), wcss)\n",
    "plt.title('The Elbow Method')\n",
    "plt.xlabel('Number of clusters')\n",
    "plt.ylabel('WCSS')\n",
    "plt.show()"
   ]
  },
  {
   "cell_type": "code",
   "execution_count": 31,
   "metadata": {},
   "outputs": [],
   "source": [
    "kmeans = KMeans(n_clusters =4 , init = 'k-means++', random_state = 42)\n",
    "y_kmeans = kmeans.fit_predict(all_data_finish)"
   ]
  },
  {
   "cell_type": "code",
   "execution_count": 32,
   "metadata": {},
   "outputs": [
    {
     "data": {
      "text/html": [
       "<div>\n",
       "<style scoped>\n",
       "    .dataframe tbody tr th:only-of-type {\n",
       "        vertical-align: middle;\n",
       "    }\n",
       "\n",
       "    .dataframe tbody tr th {\n",
       "        vertical-align: top;\n",
       "    }\n",
       "\n",
       "    .dataframe thead th {\n",
       "        text-align: right;\n",
       "    }\n",
       "</style>\n",
       "<table border=\"1\" class=\"dataframe\">\n",
       "  <thead>\n",
       "    <tr style=\"text-align: right;\">\n",
       "      <th></th>\n",
       "      <th>Severity</th>\n",
       "      <th>Name</th>\n",
       "      <th>Alarm Source</th>\n",
       "      <th>Occurred On (NT)</th>\n",
       "      <th>Cleared On (NT)</th>\n",
       "      <th>Type</th>\n",
       "      <th>Alarm_Duration_Hour</th>\n",
       "      <th>Alarm&amp;Source</th>\n",
       "      <th>cluster</th>\n",
       "    </tr>\n",
       "  </thead>\n",
       "  <tbody>\n",
       "    <tr>\n",
       "      <th>44</th>\n",
       "      <td>Major</td>\n",
       "      <td>User Plane Path Fault</td>\n",
       "      <td>LCAIE12478</td>\n",
       "      <td>10/13/2021 14:39</td>\n",
       "      <td>10/13/2021 15:37</td>\n",
       "      <td>Trunk system</td>\n",
       "      <td>0.966667</td>\n",
       "      <td>User Plane Path Fault_LCAIE12478</td>\n",
       "      <td>1</td>\n",
       "    </tr>\n",
       "    <tr>\n",
       "      <th>390</th>\n",
       "      <td>Major</td>\n",
       "      <td>IKE Negotiation Failure</td>\n",
       "      <td>LCAIE12478</td>\n",
       "      <td>10/13/2021 14:53</td>\n",
       "      <td>10/13/2021 14:54</td>\n",
       "      <td>Trunk system</td>\n",
       "      <td>0.016667</td>\n",
       "      <td>IKE Negotiation Failure_LCAIE12478</td>\n",
       "      <td>1</td>\n",
       "    </tr>\n",
       "  </tbody>\n",
       "</table>\n",
       "</div>"
      ],
      "text/plain": [
       "    Severity                     Name Alarm Source  Occurred On (NT)  \\\n",
       "44     Major    User Plane Path Fault   LCAIE12478  10/13/2021 14:39   \n",
       "390    Major  IKE Negotiation Failure   LCAIE12478  10/13/2021 14:53   \n",
       "\n",
       "      Cleared On (NT)          Type  Alarm_Duration_Hour  \\\n",
       "44   10/13/2021 15:37  Trunk system             0.966667   \n",
       "390  10/13/2021 14:54  Trunk system             0.016667   \n",
       "\n",
       "                           Alarm&Source  cluster  \n",
       "44     User Plane Path Fault_LCAIE12478        1  \n",
       "390  IKE Negotiation Failure_LCAIE12478        1  "
      ]
     },
     "execution_count": 32,
     "metadata": {},
     "output_type": "execute_result"
    }
   ],
   "source": [
    "snap['cluster']=y_kmeans\n",
    "snap.head(2)"
   ]
  },
  {
   "cell_type": "code",
   "execution_count": 33,
   "metadata": {},
   "outputs": [
    {
     "data": {
      "text/plain": [
       "'Alarms per time for LCAIE12478_cluster.html'"
      ]
     },
     "execution_count": 33,
     "metadata": {},
     "output_type": "execute_result"
    }
   ],
   "source": [
    "#Site alarms\n",
    "data=[]\n",
    "for i in snap['Name'].unique():\n",
    "    snap2 = snap[(snap['Name']==i)]\n",
    "    trace = go.Scatter(x=pd.to_datetime(snap2['Occurred On (NT)']),y=snap2['Name'],name=i,mode='markers', marker=dict(color=snap2['cluster'].map({0:'red',1:'yellow',2:'green',3:'blue',4:'black',5:'pink'})))\n",
    "    data.append(trace)\n",
    "layout = go.Layout(title='Alarms per time for LCAIE12478', xaxis ={'title':'time'},yaxis={'title':'Alarm'})\n",
    "fig = go.Figure(data=data, layout=layout)\n",
    "pyo.plot(fig, filename='Alarms per time for LCAIE12478_cluster.html')"
   ]
  },
  {
   "cell_type": "markdown",
   "metadata": {},
   "source": [
    "# Label Encoding"
   ]
  },
  {
   "cell_type": "code",
   "execution_count": 88,
   "metadata": {},
   "outputs": [
    {
     "data": {
      "text/html": [
       "<div>\n",
       "<style scoped>\n",
       "    .dataframe tbody tr th:only-of-type {\n",
       "        vertical-align: middle;\n",
       "    }\n",
       "\n",
       "    .dataframe tbody tr th {\n",
       "        vertical-align: top;\n",
       "    }\n",
       "\n",
       "    .dataframe thead th {\n",
       "        text-align: right;\n",
       "    }\n",
       "</style>\n",
       "<table border=\"1\" class=\"dataframe\">\n",
       "  <thead>\n",
       "    <tr style=\"text-align: right;\">\n",
       "      <th></th>\n",
       "      <th>Severity</th>\n",
       "      <th>Name</th>\n",
       "      <th>Alarm Source</th>\n",
       "      <th>Occurred On (NT)</th>\n",
       "      <th>Cleared On (NT)</th>\n",
       "      <th>Type</th>\n",
       "      <th>Alarm_Duration_Hour</th>\n",
       "      <th>Alarm&amp;Source</th>\n",
       "    </tr>\n",
       "  </thead>\n",
       "  <tbody>\n",
       "    <tr>\n",
       "      <th>41</th>\n",
       "      <td>Major</td>\n",
       "      <td>Cell Unavailable</td>\n",
       "      <td>LDELE54858</td>\n",
       "      <td>10/13/2021 14:39</td>\n",
       "      <td>10/13/2021 14:39</td>\n",
       "      <td>Signaling system</td>\n",
       "      <td>0.000000</td>\n",
       "      <td>Cell Unavailable_LDELE54858</td>\n",
       "    </tr>\n",
       "    <tr>\n",
       "      <th>48</th>\n",
       "      <td>Major</td>\n",
       "      <td>Cell Unavailable</td>\n",
       "      <td>LDELE54858</td>\n",
       "      <td>10/13/2021 14:39</td>\n",
       "      <td>10/13/2021 14:44</td>\n",
       "      <td>Signaling system</td>\n",
       "      <td>0.083333</td>\n",
       "      <td>Cell Unavailable_LDELE54858</td>\n",
       "    </tr>\n",
       "  </tbody>\n",
       "</table>\n",
       "</div>"
      ],
      "text/plain": [
       "   Severity              Name Alarm Source  Occurred On (NT)  \\\n",
       "41    Major  Cell Unavailable   LDELE54858  10/13/2021 14:39   \n",
       "48    Major  Cell Unavailable   LDELE54858  10/13/2021 14:39   \n",
       "\n",
       "     Cleared On (NT)              Type  Alarm_Duration_Hour  \\\n",
       "41  10/13/2021 14:39  Signaling system             0.000000   \n",
       "48  10/13/2021 14:44  Signaling system             0.083333   \n",
       "\n",
       "                   Alarm&Source  \n",
       "41  Cell Unavailable_LDELE54858  \n",
       "48  Cell Unavailable_LDELE54858  "
      ]
     },
     "execution_count": 88,
     "metadata": {},
     "output_type": "execute_result"
    }
   ],
   "source": [
    "snap = df[df['Alarm Source']=='LDELE54858'].copy()\n",
    "snap.head(2)"
   ]
  },
  {
   "cell_type": "code",
   "execution_count": 89,
   "metadata": {},
   "outputs": [
    {
     "data": {
      "text/html": [
       "<div>\n",
       "<style scoped>\n",
       "    .dataframe tbody tr th:only-of-type {\n",
       "        vertical-align: middle;\n",
       "    }\n",
       "\n",
       "    .dataframe tbody tr th {\n",
       "        vertical-align: top;\n",
       "    }\n",
       "\n",
       "    .dataframe thead th {\n",
       "        text-align: right;\n",
       "    }\n",
       "</style>\n",
       "<table border=\"1\" class=\"dataframe\">\n",
       "  <thead>\n",
       "    <tr style=\"text-align: right;\">\n",
       "      <th></th>\n",
       "      <th>Severity</th>\n",
       "      <th>Name</th>\n",
       "      <th>Alarm Source</th>\n",
       "      <th>Occurred On (NT)</th>\n",
       "      <th>Cleared On (NT)</th>\n",
       "      <th>Type</th>\n",
       "      <th>Alarm_Duration_Hour</th>\n",
       "      <th>Alarm&amp;Source</th>\n",
       "      <th>En_Severity</th>\n",
       "      <th>En_Name</th>\n",
       "      <th>En_Type</th>\n",
       "    </tr>\n",
       "  </thead>\n",
       "  <tbody>\n",
       "    <tr>\n",
       "      <th>41</th>\n",
       "      <td>Major</td>\n",
       "      <td>Cell Unavailable</td>\n",
       "      <td>LDELE54858</td>\n",
       "      <td>10/13/2021 14:39</td>\n",
       "      <td>10/13/2021 14:39</td>\n",
       "      <td>Signaling system</td>\n",
       "      <td>0.000000</td>\n",
       "      <td>Cell Unavailable_LDELE54858</td>\n",
       "      <td>1</td>\n",
       "      <td>0</td>\n",
       "      <td>2</td>\n",
       "    </tr>\n",
       "    <tr>\n",
       "      <th>48</th>\n",
       "      <td>Major</td>\n",
       "      <td>Cell Unavailable</td>\n",
       "      <td>LDELE54858</td>\n",
       "      <td>10/13/2021 14:39</td>\n",
       "      <td>10/13/2021 14:44</td>\n",
       "      <td>Signaling system</td>\n",
       "      <td>0.083333</td>\n",
       "      <td>Cell Unavailable_LDELE54858</td>\n",
       "      <td>1</td>\n",
       "      <td>0</td>\n",
       "      <td>2</td>\n",
       "    </tr>\n",
       "    <tr>\n",
       "      <th>51</th>\n",
       "      <td>Major</td>\n",
       "      <td>Cell Unavailable</td>\n",
       "      <td>LDELE54858</td>\n",
       "      <td>10/13/2021 14:39</td>\n",
       "      <td>10/13/2021 14:44</td>\n",
       "      <td>Signaling system</td>\n",
       "      <td>0.083333</td>\n",
       "      <td>Cell Unavailable_LDELE54858</td>\n",
       "      <td>1</td>\n",
       "      <td>0</td>\n",
       "      <td>2</td>\n",
       "    </tr>\n",
       "    <tr>\n",
       "      <th>268</th>\n",
       "      <td>Major</td>\n",
       "      <td>Cell Unavailable</td>\n",
       "      <td>LDELE54858</td>\n",
       "      <td>10/13/2021 14:44</td>\n",
       "      <td>10/13/2021 14:46</td>\n",
       "      <td>Signaling system</td>\n",
       "      <td>0.033333</td>\n",
       "      <td>Cell Unavailable_LDELE54858</td>\n",
       "      <td>1</td>\n",
       "      <td>0</td>\n",
       "      <td>2</td>\n",
       "    </tr>\n",
       "    <tr>\n",
       "      <th>269</th>\n",
       "      <td>Major</td>\n",
       "      <td>Cell Unavailable</td>\n",
       "      <td>LDELE54858</td>\n",
       "      <td>10/13/2021 14:44</td>\n",
       "      <td>10/13/2021 14:46</td>\n",
       "      <td>Signaling system</td>\n",
       "      <td>0.033333</td>\n",
       "      <td>Cell Unavailable_LDELE54858</td>\n",
       "      <td>1</td>\n",
       "      <td>0</td>\n",
       "      <td>2</td>\n",
       "    </tr>\n",
       "  </tbody>\n",
       "</table>\n",
       "</div>"
      ],
      "text/plain": [
       "    Severity              Name Alarm Source  Occurred On (NT)  \\\n",
       "41     Major  Cell Unavailable   LDELE54858  10/13/2021 14:39   \n",
       "48     Major  Cell Unavailable   LDELE54858  10/13/2021 14:39   \n",
       "51     Major  Cell Unavailable   LDELE54858  10/13/2021 14:39   \n",
       "268    Major  Cell Unavailable   LDELE54858  10/13/2021 14:44   \n",
       "269    Major  Cell Unavailable   LDELE54858  10/13/2021 14:44   \n",
       "\n",
       "      Cleared On (NT)              Type  Alarm_Duration_Hour  \\\n",
       "41   10/13/2021 14:39  Signaling system             0.000000   \n",
       "48   10/13/2021 14:44  Signaling system             0.083333   \n",
       "51   10/13/2021 14:44  Signaling system             0.083333   \n",
       "268  10/13/2021 14:46  Signaling system             0.033333   \n",
       "269  10/13/2021 14:46  Signaling system             0.033333   \n",
       "\n",
       "                    Alarm&Source  En_Severity  En_Name  En_Type  \n",
       "41   Cell Unavailable_LDELE54858            1        0        2  \n",
       "48   Cell Unavailable_LDELE54858            1        0        2  \n",
       "51   Cell Unavailable_LDELE54858            1        0        2  \n",
       "268  Cell Unavailable_LDELE54858            1        0        2  \n",
       "269  Cell Unavailable_LDELE54858            1        0        2  "
      ]
     },
     "execution_count": 89,
     "metadata": {},
     "output_type": "execute_result"
    }
   ],
   "source": [
    "# Import label encoder\n",
    "from sklearn import preprocessing\n",
    " \n",
    "# label_encoder object knows how to understand word labels.\n",
    "label_encoder = preprocessing.LabelEncoder()\n",
    " \n",
    "# Encode labels in columns\n",
    "snap['En_Severity']= label_encoder.fit_transform(snap['Severity'])\n",
    "snap['En_Name']= label_encoder.fit_transform(snap['Name'])\n",
    "snap['En_Type']= label_encoder.fit_transform(snap['Type'])\n",
    "snap.head()"
   ]
  },
  {
   "cell_type": "code",
   "execution_count": 90,
   "metadata": {},
   "outputs": [],
   "source": [
    "snap['En_Occurred_year'] = pd.DatetimeIndex(snap['Occurred On (NT)']).year\n",
    "snap['En_Occurred_month'] = pd.DatetimeIndex(snap['Occurred On (NT)']).month\n",
    "snap['En_Occurred_day'] = pd.DatetimeIndex(snap['Occurred On (NT)']).day\n",
    "snap['En_Occurred_hour'] = pd.DatetimeIndex(snap['Occurred On (NT)']).hour\n",
    "snap['En_Occurred_minute'] = pd.DatetimeIndex(snap['Occurred On (NT)']).minute\n",
    "snap['En_Occurred_second'] = pd.DatetimeIndex(snap['Occurred On (NT)']).second\n",
    "snap['En_Cleared_year'] = pd.DatetimeIndex(snap['Cleared On (NT)']).year\n",
    "snap['En_Cleared_month'] = pd.DatetimeIndex(snap['Cleared On (NT)']).month\n",
    "snap['En_Cleared_day'] = pd.DatetimeIndex(snap['Cleared On (NT)']).day\n",
    "snap['En_Cleared_hour'] = pd.DatetimeIndex(snap['Cleared On (NT)']).hour\n",
    "snap['En_Cleared_minute'] = pd.DatetimeIndex(snap['Cleared On (NT)']).minute\n",
    "snap['En_Cleared_second'] = pd.DatetimeIndex(snap['Cleared On (NT)']).second"
   ]
  },
  {
   "cell_type": "code",
   "execution_count": 91,
   "metadata": {},
   "outputs": [
    {
     "data": {
      "text/html": [
       "<div>\n",
       "<style scoped>\n",
       "    .dataframe tbody tr th:only-of-type {\n",
       "        vertical-align: middle;\n",
       "    }\n",
       "\n",
       "    .dataframe tbody tr th {\n",
       "        vertical-align: top;\n",
       "    }\n",
       "\n",
       "    .dataframe thead th {\n",
       "        text-align: right;\n",
       "    }\n",
       "</style>\n",
       "<table border=\"1\" class=\"dataframe\">\n",
       "  <thead>\n",
       "    <tr style=\"text-align: right;\">\n",
       "      <th></th>\n",
       "      <th>En_Severity</th>\n",
       "      <th>En_Name</th>\n",
       "      <th>En_Type</th>\n",
       "      <th>En_Occurred_year</th>\n",
       "      <th>En_Occurred_month</th>\n",
       "      <th>En_Occurred_day</th>\n",
       "      <th>En_Occurred_hour</th>\n",
       "      <th>En_Occurred_minute</th>\n",
       "      <th>En_Occurred_second</th>\n",
       "      <th>En_Cleared_year</th>\n",
       "      <th>En_Cleared_month</th>\n",
       "      <th>En_Cleared_day</th>\n",
       "      <th>En_Cleared_hour</th>\n",
       "      <th>En_Cleared_minute</th>\n",
       "      <th>En_Cleared_second</th>\n",
       "      <th>Alarm_Duration_Hour</th>\n",
       "    </tr>\n",
       "  </thead>\n",
       "  <tbody>\n",
       "    <tr>\n",
       "      <th>41</th>\n",
       "      <td>1</td>\n",
       "      <td>0</td>\n",
       "      <td>2</td>\n",
       "      <td>2021</td>\n",
       "      <td>10</td>\n",
       "      <td>13</td>\n",
       "      <td>14</td>\n",
       "      <td>39</td>\n",
       "      <td>0</td>\n",
       "      <td>2021</td>\n",
       "      <td>10</td>\n",
       "      <td>13</td>\n",
       "      <td>14</td>\n",
       "      <td>39</td>\n",
       "      <td>0</td>\n",
       "      <td>0.000000</td>\n",
       "    </tr>\n",
       "    <tr>\n",
       "      <th>48</th>\n",
       "      <td>1</td>\n",
       "      <td>0</td>\n",
       "      <td>2</td>\n",
       "      <td>2021</td>\n",
       "      <td>10</td>\n",
       "      <td>13</td>\n",
       "      <td>14</td>\n",
       "      <td>39</td>\n",
       "      <td>0</td>\n",
       "      <td>2021</td>\n",
       "      <td>10</td>\n",
       "      <td>13</td>\n",
       "      <td>14</td>\n",
       "      <td>44</td>\n",
       "      <td>0</td>\n",
       "      <td>0.083333</td>\n",
       "    </tr>\n",
       "  </tbody>\n",
       "</table>\n",
       "</div>"
      ],
      "text/plain": [
       "    En_Severity  En_Name  En_Type  En_Occurred_year  En_Occurred_month  \\\n",
       "41            1        0        2              2021                 10   \n",
       "48            1        0        2              2021                 10   \n",
       "\n",
       "    En_Occurred_day  En_Occurred_hour  En_Occurred_minute  En_Occurred_second  \\\n",
       "41               13                14                  39                   0   \n",
       "48               13                14                  39                   0   \n",
       "\n",
       "    En_Cleared_year  En_Cleared_month  En_Cleared_day  En_Cleared_hour  \\\n",
       "41             2021                10              13               14   \n",
       "48             2021                10              13               14   \n",
       "\n",
       "    En_Cleared_minute  En_Cleared_second  Alarm_Duration_Hour  \n",
       "41                 39                  0             0.000000  \n",
       "48                 44                  0             0.083333  "
      ]
     },
     "execution_count": 91,
     "metadata": {},
     "output_type": "execute_result"
    }
   ],
   "source": [
    "snap2 = snap[['En_Severity', 'En_Name', 'En_Type', 'En_Occurred_year',\n",
    "       'En_Occurred_month', 'En_Occurred_day', 'En_Occurred_hour',\n",
    "       'En_Occurred_minute', 'En_Occurred_second', 'En_Cleared_year',\n",
    "       'En_Cleared_month', 'En_Cleared_day', 'En_Cleared_hour',\n",
    "       'En_Cleared_minute', 'En_Cleared_second', 'Alarm_Duration_Hour']].copy()\n",
    "snap2.head(2)"
   ]
  },
  {
   "cell_type": "code",
   "execution_count": 92,
   "metadata": {},
   "outputs": [
    {
     "data": {
      "image/png": "[encoded data removed]",
      "text/plain": [
       "<Figure size 432x288 with 1 Axes>"
      ]
     },
     "metadata": {
      "needs_background": "light"
     },
     "output_type": "display_data"
    }
   ],
   "source": [
    "from sklearn.cluster import KMeans\n",
    "wcss = []\n",
    "for i in range(1, 10):\n",
    "    kmeans = KMeans(n_clusters = i, init = 'k-means++', random_state = 42)\n",
    "    kmeans.fit(snap2)\n",
    "    wcss.append(kmeans.inertia_)\n",
    "plt.plot(range(1, 10), wcss)\n",
    "plt.title('The Elbow Method')\n",
    "plt.xlabel('Number of clusters')\n",
    "plt.ylabel('WCSS')\n",
    "plt.show()"
   ]
  },
  {
   "cell_type": "code",
   "execution_count": 93,
   "metadata": {},
   "outputs": [],
   "source": [
    "kmeans = KMeans(n_clusters =8 , init = 'k-means++', random_state = 42)\n",
    "y_kmeans = kmeans.fit_predict(snap2)\n",
    "snap['cluster']=y_kmeans"
   ]
  },
  {
   "cell_type": "code",
   "execution_count": 98,
   "metadata": {},
   "outputs": [
    {
     "data": {
      "text/plain": [
       "'Alarms per time for LDELE54858_cluster4.html'"
      ]
     },
     "execution_count": 98,
     "metadata": {},
     "output_type": "execute_result"
    }
   ],
   "source": [
    "#Site alarms\n",
    "data=[]\n",
    "for i in snap['Name'].unique():\n",
    "    snap3 = snap[(snap['Name']==i)&(snap['cluster']==4)]\n",
    "    trace = go.Scatter(x=pd.to_datetime(snap3['Occurred On (NT)']),y=snap3['Name'],name=i,mode='markers')\n",
    "    data.append(trace)\n",
    "layout = go.Layout(title='Alarms per time for LDELE54858_cluster4', xaxis ={'title':'time'},yaxis={'title':'Alarm'})\n",
    "fig = go.Figure(data=data, layout=layout)\n",
    "pyo.plot(fig, filename='Alarms per time for LDELE54858_cluster4.html')"
   ]
  },
  {
   "cell_type": "markdown",
   "metadata": {},
   "source": [
    " "
   ]
  },
  {
   "cell_type": "markdown",
   "metadata": {},
   "source": [
    "  "
   ]
  },
  {
   "cell_type": "markdown",
   "metadata": {},
   "source": [
    " "
   ]
  },
  {
   "cell_type": "markdown",
   "metadata": {},
   "source": [
    "# Market Basket Analysis MBA"
   ]
  },
  {
   "cell_type": "code",
   "execution_count": 47,
   "metadata": {},
   "outputs": [],
   "source": [
    "# MBA one Site\n",
    "snap = df[df['Alarm Source']=='LCAIN12215'].copy()\n",
    "snap['q'] = 1\n",
    "snap = snap[['Name','Alarm Source','Occurred On (NT)','q']]\n",
    "basket = snap.groupby(['Alarm Source','Occurred On (NT)','Name'])['q'].sum().unstack().reset_index().fillna(0).set_index('Occurred On (NT)')\n",
    "basket.drop(columns=['Alarm Source'],inplace=True)\n",
    "\n",
    "def encode(x):\n",
    "    if x <=0:\n",
    "        return 0\n",
    "    if x >=1:\n",
    "        return 1\n",
    "\n",
    "basket_encode = basket.applymap(encode)\n",
    "\n",
    "basket_plus = basket_encode[(basket_encode>0).sum(axis=1)>=2]\n"
   ]
  },
  {
   "cell_type": "code",
   "execution_count": 58,
   "metadata": {},
   "outputs": [
    {
     "data": {
      "text/html": [
       "<div>\n",
       "<style scoped>\n",
       "    .dataframe tbody tr th:only-of-type {\n",
       "        vertical-align: middle;\n",
       "    }\n",
       "\n",
       "    .dataframe tbody tr th {\n",
       "        vertical-align: top;\n",
       "    }\n",
       "\n",
       "    .dataframe thead th {\n",
       "        text-align: right;\n",
       "    }\n",
       "</style>\n",
       "<table border=\"1\" class=\"dataframe\">\n",
       "  <thead>\n",
       "    <tr style=\"text-align: right;\">\n",
       "      <th></th>\n",
       "      <th>support</th>\n",
       "      <th>itemsets</th>\n",
       "      <th>len</th>\n",
       "    </tr>\n",
       "  </thead>\n",
       "  <tbody>\n",
       "    <tr>\n",
       "      <th>2</th>\n",
       "      <td>0.666667</td>\n",
       "      <td>(SCTP Link Fault, User Plane Path Fault)</td>\n",
       "      <td>2</td>\n",
       "    </tr>\n",
       "    <tr>\n",
       "      <th>4</th>\n",
       "      <td>0.200000</td>\n",
       "      <td>(SCTP Link Fault, IKE Negotiation Failure)</td>\n",
       "      <td>2</td>\n",
       "    </tr>\n",
       "    <tr>\n",
       "      <th>6</th>\n",
       "      <td>0.133333</td>\n",
       "      <td>(License on Trial, SCTP Link Fault)</td>\n",
       "      <td>2</td>\n",
       "    </tr>\n",
       "    <tr>\n",
       "      <th>8</th>\n",
       "      <td>0.066667</td>\n",
       "      <td>(License on Trial, X2 Interface Fault)</td>\n",
       "      <td>2</td>\n",
       "    </tr>\n",
       "    <tr>\n",
       "      <th>9</th>\n",
       "      <td>0.066667</td>\n",
       "      <td>(SCTP Link Fault, X2 Interface Fault)</td>\n",
       "      <td>2</td>\n",
       "    </tr>\n",
       "    <tr>\n",
       "      <th>10</th>\n",
       "      <td>0.066667</td>\n",
       "      <td>(SCTP Link Fault, License on Trial, X2 Interfa...</td>\n",
       "      <td>3</td>\n",
       "    </tr>\n",
       "  </tbody>\n",
       "</table>\n",
       "</div>"
      ],
      "text/plain": [
       "     support                                           itemsets  len\n",
       "2   0.666667           (SCTP Link Fault, User Plane Path Fault)    2\n",
       "4   0.200000         (SCTP Link Fault, IKE Negotiation Failure)    2\n",
       "6   0.133333                (License on Trial, SCTP Link Fault)    2\n",
       "8   0.066667             (License on Trial, X2 Interface Fault)    2\n",
       "9   0.066667              (SCTP Link Fault, X2 Interface Fault)    2\n",
       "10  0.066667  (SCTP Link Fault, License on Trial, X2 Interfa...    3"
      ]
     },
     "execution_count": 58,
     "metadata": {},
     "output_type": "execute_result"
    }
   ],
   "source": [
    "freq_pattern = apriori(basket_plus,min_support=0.03,use_colnames=True).sort_values('support',ascending=False).reset_index(drop=True)\n",
    "freq_pattern['len'] = freq_pattern['itemsets'].apply(lambda x: len(x))\n",
    "freq_pattern[freq_pattern['len']>1]"
   ]
  },
  {
   "cell_type": "code",
   "execution_count": 59,
   "metadata": {
    "tags": []
   },
   "outputs": [
    {
     "data": {
      "text/html": [
       "<div>\n",
       "<style scoped>\n",
       "    .dataframe tbody tr th:only-of-type {\n",
       "        vertical-align: middle;\n",
       "    }\n",
       "\n",
       "    .dataframe tbody tr th {\n",
       "        vertical-align: top;\n",
       "    }\n",
       "\n",
       "    .dataframe thead th {\n",
       "        text-align: right;\n",
       "    }\n",
       "</style>\n",
       "<table border=\"1\" class=\"dataframe\">\n",
       "  <thead>\n",
       "    <tr style=\"text-align: right;\">\n",
       "      <th></th>\n",
       "      <th>antecedents</th>\n",
       "      <th>consequents</th>\n",
       "      <th>antecedent support</th>\n",
       "      <th>consequent support</th>\n",
       "      <th>support</th>\n",
       "      <th>confidence</th>\n",
       "      <th>lift</th>\n",
       "      <th>leverage</th>\n",
       "      <th>conviction</th>\n",
       "    </tr>\n",
       "  </thead>\n",
       "  <tbody>\n",
       "    <tr>\n",
       "      <th>0</th>\n",
       "      <td>(License on Trial)</td>\n",
       "      <td>(X2 Interface Fault)</td>\n",
       "      <td>0.133333</td>\n",
       "      <td>0.066667</td>\n",
       "      <td>0.066667</td>\n",
       "      <td>0.500000</td>\n",
       "      <td>7.5</td>\n",
       "      <td>0.057778</td>\n",
       "      <td>1.866667</td>\n",
       "    </tr>\n",
       "    <tr>\n",
       "      <th>2</th>\n",
       "      <td>(License on Trial, SCTP Link Fault)</td>\n",
       "      <td>(X2 Interface Fault)</td>\n",
       "      <td>0.133333</td>\n",
       "      <td>0.066667</td>\n",
       "      <td>0.066667</td>\n",
       "      <td>0.500000</td>\n",
       "      <td>7.5</td>\n",
       "      <td>0.057778</td>\n",
       "      <td>1.866667</td>\n",
       "    </tr>\n",
       "    <tr>\n",
       "      <th>4</th>\n",
       "      <td>(License on Trial)</td>\n",
       "      <td>(X2 Interface Fault, SCTP Link Fault)</td>\n",
       "      <td>0.133333</td>\n",
       "      <td>0.066667</td>\n",
       "      <td>0.066667</td>\n",
       "      <td>0.500000</td>\n",
       "      <td>7.5</td>\n",
       "      <td>0.057778</td>\n",
       "      <td>1.866667</td>\n",
       "    </tr>\n",
       "    <tr>\n",
       "      <th>6</th>\n",
       "      <td>(SCTP Link Fault)</td>\n",
       "      <td>(User Plane Path Fault)</td>\n",
       "      <td>1.000000</td>\n",
       "      <td>0.666667</td>\n",
       "      <td>0.666667</td>\n",
       "      <td>0.666667</td>\n",
       "      <td>1.0</td>\n",
       "      <td>0.000000</td>\n",
       "      <td>1.000000</td>\n",
       "    </tr>\n",
       "    <tr>\n",
       "      <th>8</th>\n",
       "      <td>(SCTP Link Fault)</td>\n",
       "      <td>(IKE Negotiation Failure)</td>\n",
       "      <td>1.000000</td>\n",
       "      <td>0.200000</td>\n",
       "      <td>0.200000</td>\n",
       "      <td>0.200000</td>\n",
       "      <td>1.0</td>\n",
       "      <td>0.000000</td>\n",
       "      <td>1.000000</td>\n",
       "    </tr>\n",
       "    <tr>\n",
       "      <th>11</th>\n",
       "      <td>(SCTP Link Fault)</td>\n",
       "      <td>(License on Trial)</td>\n",
       "      <td>1.000000</td>\n",
       "      <td>0.133333</td>\n",
       "      <td>0.133333</td>\n",
       "      <td>0.133333</td>\n",
       "      <td>1.0</td>\n",
       "      <td>0.000000</td>\n",
       "      <td>1.000000</td>\n",
       "    </tr>\n",
       "    <tr>\n",
       "      <th>12</th>\n",
       "      <td>(SCTP Link Fault)</td>\n",
       "      <td>(X2 Interface Fault)</td>\n",
       "      <td>1.000000</td>\n",
       "      <td>0.066667</td>\n",
       "      <td>0.066667</td>\n",
       "      <td>0.066667</td>\n",
       "      <td>1.0</td>\n",
       "      <td>0.000000</td>\n",
       "      <td>1.000000</td>\n",
       "    </tr>\n",
       "    <tr>\n",
       "      <th>15</th>\n",
       "      <td>(SCTP Link Fault)</td>\n",
       "      <td>(License on Trial, X2 Interface Fault)</td>\n",
       "      <td>1.000000</td>\n",
       "      <td>0.066667</td>\n",
       "      <td>0.066667</td>\n",
       "      <td>0.066667</td>\n",
       "      <td>1.0</td>\n",
       "      <td>0.000000</td>\n",
       "      <td>1.000000</td>\n",
       "    </tr>\n",
       "  </tbody>\n",
       "</table>\n",
       "</div>"
      ],
      "text/plain": [
       "                            antecedents  \\\n",
       "0                    (License on Trial)   \n",
       "2   (License on Trial, SCTP Link Fault)   \n",
       "4                    (License on Trial)   \n",
       "6                     (SCTP Link Fault)   \n",
       "8                     (SCTP Link Fault)   \n",
       "11                    (SCTP Link Fault)   \n",
       "12                    (SCTP Link Fault)   \n",
       "15                    (SCTP Link Fault)   \n",
       "\n",
       "                               consequents  antecedent support  \\\n",
       "0                     (X2 Interface Fault)            0.133333   \n",
       "2                     (X2 Interface Fault)            0.133333   \n",
       "4    (X2 Interface Fault, SCTP Link Fault)            0.133333   \n",
       "6                  (User Plane Path Fault)            1.000000   \n",
       "8                (IKE Negotiation Failure)            1.000000   \n",
       "11                      (License on Trial)            1.000000   \n",
       "12                    (X2 Interface Fault)            1.000000   \n",
       "15  (License on Trial, X2 Interface Fault)            1.000000   \n",
       "\n",
       "    consequent support   support  confidence  lift  leverage  conviction  \n",
       "0             0.066667  0.066667    0.500000   7.5  0.057778    1.866667  \n",
       "2             0.066667  0.066667    0.500000   7.5  0.057778    1.866667  \n",
       "4             0.066667  0.066667    0.500000   7.5  0.057778    1.866667  \n",
       "6             0.666667  0.666667    0.666667   1.0  0.000000    1.000000  \n",
       "8             0.200000  0.200000    0.200000   1.0  0.000000    1.000000  \n",
       "11            0.133333  0.133333    0.133333   1.0  0.000000    1.000000  \n",
       "12            0.066667  0.066667    0.066667   1.0  0.000000    1.000000  \n",
       "15            0.066667  0.066667    0.066667   1.0  0.000000    1.000000  "
      ]
     },
     "execution_count": 59,
     "metadata": {},
     "output_type": "execute_result"
    }
   ],
   "source": [
    "AR = association_rules(freq_pattern,metric='lift',min_threshold=1).sort_values('lift',ascending=False).reset_index(drop=True)\n",
    "AR[AR['conviction']!=np.inf]"
   ]
  },
  {
   "cell_type": "markdown",
   "metadata": {},
   "source": [
    " "
   ]
  },
  {
   "cell_type": "markdown",
   "metadata": {},
   "source": [
    "  "
   ]
  },
  {
   "cell_type": "code",
   "execution_count": null,
   "metadata": {},
   "outputs": [],
   "source": [
    "#MBA on all sites\n",
    "# MBA one Site\n",
    "df['q'] = 1\n",
    "df = df[['Name','Alarm Source','Occurred On (NT)','q']]\n",
    "basket = df.groupby(['Alarm Source','Occurred On (NT)','Name'])['q'].sum().unstack().reset_index().fillna(0).set_index('Occurred On (NT)')\n",
    "basket.drop(columns=['Alarm Source'],inplace=True)\n",
    "\n",
    "def encode(x):\n",
    "    if x <=0:\n",
    "        return 0\n",
    "    if x >=1:\n",
    "        return 1\n",
    "\n",
    "basket_encode = basket.applymap(encode)\n",
    "\n",
    "basket_plus = basket_encode[(basket_encode>0).sum(axis=1)>=2]\n",
    "\n",
    "AR = association_rules(freq_pattern,metric='lift',min_threshold=1).sort_values('lift',ascending=False).reset_index(drop=True)\n",
    "AR[AR['conviction']!=np.inf]"
   ]
  },
  {
   "cell_type": "code",
   "execution_count": null,
   "metadata": {},
   "outputs": [],
   "source": []
  },
  {
   "cell_type": "code",
   "execution_count": 26,
   "metadata": {},
   "outputs": [],
   "source": [
    "def encode(x):\n",
    "        if x <=0:\n",
    "            return 0\n",
    "        if x >=1:\n",
    "            return 1\n",
    "        \n",
    "for i in df['Alarm Source'].unique()[11:30]:\n",
    "    snap = df[df['Alarm Source']==i].copy()\n",
    "    snap['q'] = 1\n",
    "    snap = snap[['Name','Alarm Source','Occurred On (NT)','q']]\n",
    "    basket = snap.groupby(['Alarm Source','Occurred On (NT)','Name'])['q'].sum().unstack().reset_index().fillna(0).set_index('Occurred On (NT)')\n",
    "    basket.drop(columns=['Alarm Source'],inplace=True)\n",
    "    basket_encode = basket.applymap(encode)\n",
    "    basket_plus = basket_encode[(basket_encode>0).sum(axis=1)>=2]\n",
    "    freq_pattern = apriori(basket_plus,min_support=0.03,use_colnames=True).sort_values('support',ascending=False).reset_index(drop=True)\n",
    "    freq_pattern['len'] = freq_pattern['itemsets'].apply(lambda x: len(x))\n",
    "    freq_pattern[freq_pattern['len']>1].to_csv(r\"C:\\Users\\Mohamed Gamal\\Desktop\\Alarms\\Alarms V2\\MBA\\{}.csv\".format(i))"
   ]
  },
  {
   "cell_type": "code",
   "execution_count": null,
   "metadata": {},
   "outputs": [],
   "source": []
  },
  {
   "cell_type": "code",
   "execution_count": null,
   "metadata": {},
   "outputs": [],
   "source": []
  }
 ],
 "metadata": {
  "kernelspec": {
   "display_name": "Python 3",
   "language": "python",
   "name": "python3"
  },
  "language_info": {
   "codemirror_mode": {
    "name": "ipython",
    "version": 3
   },
   "file_extension": ".py",
   "mimetype": "text/x-python",
   "name": "python",
   "nbconvert_exporter": "python",
   "pygments_lexer": "ipython3",
   "version": "3.8.5"
  }
 },
 "nbformat": 4,
 "nbformat_minor": 4
}
